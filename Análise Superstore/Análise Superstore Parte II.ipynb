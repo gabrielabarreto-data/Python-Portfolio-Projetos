{
 "cells": [
  {
   "cell_type": "markdown",
   "id": "ba314e9b-6798-4703-884b-c208b09775e1",
   "metadata": {},
   "source": [
    "# Superstore (Parte II): análise RFM com Python"
   ]
  },
  {
   "cell_type": "markdown",
   "id": "fa903e15-1740-4141-91c1-b7cf7b672133",
   "metadata": {},
   "source": [
    "A análise RFM é uma técnica de segmentação de clientes usada para entender o comportamento de compra de um público e, assim, otimizar estratégias de marketing e vendas. A análise é baseada em três critérios:\n",
    "- **Recência (R)**: Mede o tempo desde a última compra de um cliente. Quanto mais recente a compra, mais provável é que o cliente esteja interessado em continuar comprando.\n",
    "- **Frequência (F)**: Avalia com que frequência o cliente realiza compras em determinado período. Clientes que compram com mais frequência são considerados mais engajados.\n",
    "- **Valor Monetário (M)**: Refere-se ao valor total gasto pelo cliente em um período de tempo. Clientes que gastam mais são frequentemente considerados mais valiosos para a empresa."
   ]
  },
  {
   "cell_type": "markdown",
   "id": "528e48eb-ef96-418e-8972-807fc756a731",
   "metadata": {},
   "source": [
    "Este documento é a segunda parte de um exercício prático que envolve a análise exploratória de dados e a investigação de perguntas de negócio utilizando a linguagem Python como principal ferramenta. Para tal fim, foi utilizado um _dataset_ público da Superstore, obtido por meio plataforma Kaggle."
   ]
  },
  {
   "cell_type": "markdown",
   "id": "67decb89-8279-46d0-a0a5-d88dc28eff30",
   "metadata": {},
   "source": [
    "Maiores explicações a respeito da importação dos dados, limpeza e _sanity checks_ podem ser encontradas na primeira parte da análise!"
   ]
  },
  {
   "cell_type": "markdown",
   "id": "3f3368c2-2dcb-4055-b58d-c12399bd1dd0",
   "metadata": {},
   "source": [
    "## 0. Importando bibliotecas 📔"
   ]
  },
  {
   "cell_type": "code",
   "execution_count": 1,
   "id": "d41939f5-364f-438a-8397-f19b3ac139c4",
   "metadata": {},
   "outputs": [],
   "source": [
    "import pandas as pd\n",
    "import matplotlib.pyplot as plt\n",
    "import math\n",
    "import seaborn as sns\n",
    "\n",
    "import datetime\n",
    "import time\n",
    "from datetime import date\n",
    "from datetime import datetime, date, time\n",
    "\n",
    "%matplotlib inline\n",
    "\n",
    "from functools import reduce\n",
    "\n",
    "import warnings\n",
    "warnings.filterwarnings('ignore')"
   ]
  },
  {
   "cell_type": "code",
   "execution_count": 2,
   "id": "1164a0d7-17fa-4329-9a78-4a2c2b901c4e",
   "metadata": {},
   "outputs": [],
   "source": [
    "# Colocando estilo nos gráficos\n",
    "plt.style.use('seaborn-v0_8-whitegrid')"
   ]
  },
  {
   "cell_type": "markdown",
   "id": "d8255d08-07c8-4585-a805-96bfcb3f9320",
   "metadata": {},
   "source": [
    "## 1. Importando os dados 🎲"
   ]
  },
  {
   "cell_type": "code",
   "execution_count": 4,
   "id": "89a6fe64-66f8-45e4-b4d9-e56fede46850",
   "metadata": {},
   "outputs": [],
   "source": [
    "# Abrindo o arquivo\n",
    "data_source=pd.read_csv('superstore.csv', encoding='ISO-8859-1')"
   ]
  },
  {
   "cell_type": "code",
   "execution_count": 5,
   "id": "03fbf88d-ccaf-45ae-bfdf-79602c81ba55",
   "metadata": {},
   "outputs": [],
   "source": [
    "# Fazendo cópia para edição\n",
    "data=data_source.copy()"
   ]
  },
  {
   "cell_type": "markdown",
   "id": "f9e07103-3c6a-4e1f-977c-c66770647bf9",
   "metadata": {},
   "source": [
    "## 2. Explorando os dados 🔍"
   ]
  },
  {
   "cell_type": "code",
   "execution_count": 8,
   "id": "44a45f09-c190-4cf0-9cfb-8f343a9c6d60",
   "metadata": {},
   "outputs": [
    {
     "data": {
      "text/plain": [
       "Index(['Row ID', 'Order ID', 'Order Date', 'Ship Date', 'Ship Mode',\n",
       "       'Customer ID', 'Customer Name', 'Segment', 'Country', 'City', 'State',\n",
       "       'Postal Code', 'Region', 'Product ID', 'Category', 'Sub-Category',\n",
       "       'Product Name', 'Sales', 'Quantity', 'Discount', 'Profit'],\n",
       "      dtype='object')"
      ]
     },
     "execution_count": 8,
     "metadata": {},
     "output_type": "execute_result"
    }
   ],
   "source": [
    "# Lembrando quais colunas temos\n",
    "data.columns"
   ]
  },
  {
   "cell_type": "code",
   "execution_count": 9,
   "id": "c115853c-8e04-4640-ba12-fd40774be152",
   "metadata": {},
   "outputs": [
    {
     "data": {
      "text/plain": [
       "Row ID             int64\n",
       "Order ID          object\n",
       "Order Date        object\n",
       "Ship Date         object\n",
       "Ship Mode         object\n",
       "Customer ID       object\n",
       "Customer Name     object\n",
       "Segment           object\n",
       "Country           object\n",
       "City              object\n",
       "State             object\n",
       "Postal Code        int64\n",
       "Region            object\n",
       "Product ID        object\n",
       "Category          object\n",
       "Sub-Category      object\n",
       "Product Name      object\n",
       "Sales            float64\n",
       "Quantity           int64\n",
       "Discount         float64\n",
       "Profit           float64\n",
       "dtype: object"
      ]
     },
     "execution_count": 9,
     "metadata": {},
     "output_type": "execute_result"
    }
   ],
   "source": [
    "# Lembrando em que formato estão os dados\n",
    "data.dtypes"
   ]
  },
  {
   "cell_type": "markdown",
   "id": "9e408fa1-fd8c-424d-ab39-743eb93688f2",
   "metadata": {},
   "source": [
    "## 3. Limpando os dados 🧹"
   ]
  },
  {
   "cell_type": "code",
   "execution_count": 10,
   "id": "a9e617dc-2d76-4091-85e1-f7404dc8bfc3",
   "metadata": {},
   "outputs": [],
   "source": [
    "# Eliminando a coluna Row ID\n",
    "data.drop('Row ID', axis=1, inplace=True)"
   ]
  },
  {
   "cell_type": "code",
   "execution_count": 11,
   "id": "82117bef-fd23-4e35-9e66-42560ed13fca",
   "metadata": {},
   "outputs": [],
   "source": [
    "# Fazendo uma nova coluna de mês do pedido\n",
    "data['order_month']=pd.to_datetime(data ['Order Date']).dt.to_period('m')"
   ]
  },
  {
   "cell_type": "code",
   "execution_count": 45,
   "id": "13b2c46b-7540-4e23-8b75-e9aaa19ad9dc",
   "metadata": {},
   "outputs": [],
   "source": [
    "# Fazendo uma nova coluna de ano do pedido\n",
    "data['order_year']=pd.to_datetime(data['Order Date']).dt.to_period('y')"
   ]
  },
  {
   "cell_type": "markdown",
   "id": "59daaaff-85a6-47c6-b3fc-1737771893ea",
   "metadata": {},
   "source": [
    "## 4. Encontrando nossos clientes lucrativos 💰"
   ]
  },
  {
   "cell_type": "markdown",
   "id": "4e51b4ab-efec-4322-8276-e9214e138471",
   "metadata": {},
   "source": [
    "Iremos começar a análise com algumas explorações iniciais.\n"
   ]
  },
  {
   "cell_type": "markdown",
   "id": "6eca54c7-44e0-49e8-a609-3c74ddddeece",
   "metadata": {},
   "source": [
    "Primeiramente, vamos criar uma tabela para descobrir qual é o valor total de lucro que cada um dos clientes trouxe à empresa."
   ]
  },
  {
   "cell_type": "code",
   "execution_count": 15,
   "id": "c134889a-d989-4abf-95b3-5e7338c30123",
   "metadata": {},
   "outputs": [
    {
     "data": {
      "text/plain": [
       "Customer Name\n",
       "Tamara Chand            8981.3239\n",
       "Raymond Buch            6976.0959\n",
       "Sanjit Chand            5757.4119\n",
       "Hunter Lopez            5622.4292\n",
       "Adrian Barton           5444.8055\n",
       "Tom Ashbrook            4703.7883\n",
       "Christopher Martinez    3899.8904\n",
       "Keith Dawkins           3038.6254\n",
       "Andy Reiter             2884.6208\n",
       "Daniel Raglin           2869.0760\n",
       "Name: Profit, dtype: float64"
      ]
     },
     "execution_count": 15,
     "metadata": {},
     "output_type": "execute_result"
    }
   ],
   "source": [
    "data.groupby('Customer Name')['Profit'].sum().sort_values(ascending=False).head(10)"
   ]
  },
  {
   "cell_type": "markdown",
   "id": "ac89a009-4609-45ba-a8a8-0f858b44f65f",
   "metadata": {},
   "source": [
    "Em seguida, vamos contar o número de clientes a partir do _Customer ID_, que é único. Podemos utilizar a função `unique`, que gera um _array_, e a função `len`, que nos informa o comprimento do _array_."
   ]
  },
  {
   "cell_type": "code",
   "execution_count": 17,
   "id": "0c705fec-dbee-41cb-83ea-cdc173439de3",
   "metadata": {},
   "outputs": [
    {
     "data": {
      "text/plain": [
       "793"
      ]
     },
     "execution_count": 17,
     "metadata": {},
     "output_type": "execute_result"
    }
   ],
   "source": [
    "len(data['Customer ID'].unique())"
   ]
  },
  {
   "cell_type": "markdown",
   "id": "c3a1bc52-37b7-4581-b0d8-4ec4941728f4",
   "metadata": {},
   "source": [
    "#### **Análise de pareto**"
   ]
  },
  {
   "cell_type": "markdown",
   "id": "104910c7-557d-4e49-8cd8-59246d3cb268",
   "metadata": {},
   "source": [
    "Essa tática pode ser utilizada para checar se nossos top clientes são responsáveis por uma parcela muito significativa do lucro total da empresa. Se a resposta for sim, esse grupo deverá ser tratado com muito cuidado: quanto maior a porcentagem de participação no valor, maior a nossa relação de dependência com um número muito pequeno de pessoas.\r"
   ]
  },
  {
   "cell_type": "markdown",
   "id": "eff1ffe2-470b-43b4-be85-f93c9c03f3f6",
   "metadata": {},
   "source": [
    "Vamos nomear a nossa tabela de lucro total por cliente:"
   ]
  },
  {
   "cell_type": "code",
   "execution_count": 23,
   "id": "be1ddeef-4bd7-4a9e-ba30-687301c9926b",
   "metadata": {},
   "outputs": [],
   "source": [
    "lucro_clientes=data.groupby('Customer Name')['Profit'].sum().sort_values(ascending=False)"
   ]
  },
  {
   "cell_type": "markdown",
   "id": "6bcbecb6-9280-45b3-b727-8158b632acf1",
   "metadata": {},
   "source": [
    "O próximo passo é descobrir o lucro mínimo de nosso top 25% clientes.\n",
    "Ou seja, nessa tabela ordenada, queremos todos os clientes que estão _acima_ dos outros 75%."
   ]
  },
  {
   "cell_type": "code",
   "execution_count": 22,
   "id": "cda0b382-40bd-4822-92fa-502921089158",
   "metadata": {},
   "outputs": [
    {
     "data": {
      "text/plain": [
       "560.0078"
      ]
     },
     "execution_count": 22,
     "metadata": {},
     "output_type": "execute_result"
    }
   ],
   "source": [
    "lucro_clientes.quantile(0.75)"
   ]
  },
  {
   "cell_type": "markdown",
   "id": "20f55953-943d-4e89-966c-786e2192e2a8",
   "metadata": {},
   "source": [
    "Isso significa que o quartil de clientes mais lucrativos corresponde a todas as pessoas que obtiveram lucro maior ou igual a 560. Precisamos filtrar este grupo em uma nova tabela."
   ]
  },
  {
   "cell_type": "code",
   "execution_count": 24,
   "id": "5c259614-624f-46f3-a05f-c53fe01ae076",
   "metadata": {},
   "outputs": [],
   "source": [
    "top_clientes=lucro_clientes[lucro_clientes>lucro_clientes.quantile(0.75)]"
   ]
  },
  {
   "cell_type": "markdown",
   "id": "d80f7179-1c09-4216-a5f8-467cb38cf8a7",
   "metadata": {},
   "source": [
    "Para saber qual a proporção de sua participação em relação ao lucro total, vamos descobrir quanto de lucro esse top 25% gera para a nossa empresa."
   ]
  },
  {
   "cell_type": "code",
   "execution_count": 31,
   "id": "25499515-dd0f-4774-b692-da58be9eaabc",
   "metadata": {},
   "outputs": [
    {
     "data": {
      "text/plain": [
       "0.9002756343956773"
      ]
     },
     "execution_count": 31,
     "metadata": {},
     "output_type": "execute_result"
    }
   ],
   "source": [
    "lucro_top_clientes=top_clientes.sum()\n",
    "lucro_top_clientes/data['Profit'].sum()"
   ]
  },
  {
   "cell_type": "markdown",
   "id": "08498ef5-cf88-47ca-96f3-3d3423864401",
   "metadata": {},
   "source": [
    "Isso significa que **mais de 90%** dos lucros totais da empresa estão concentrados na mão dos top 25% clientes.\n",
    "Não podemos perder essas pessoas, já que nossa lucratividade é altamente dependente delas! Sugestões: podemos investir em mimos para reter os top clientes, ao passo que aplicamos estratégias de marketing com o intuito de captar novas bases."
   ]
  },
  {
   "cell_type": "markdown",
   "id": "5c071350-82db-4825-889b-ddc3960b4e22",
   "metadata": {},
   "source": [
    "#### **Normalizando o lucro dos clientes pelo tempo**"
   ]
  },
  {
   "cell_type": "markdown",
   "id": "6da92407-0431-4653-a740-74d65b526cc5",
   "metadata": {},
   "source": [
    "Um cliente pode ser lucrativo por diversas razões: pela alta quantidade de compras, pelo alto valor de compras ou por possuir mais \"tempo de casa\". Dessa maneira, para construirmos um verdadeiro ranking de top clientes, devemos considerar há quanto tempo cada pessoa permanece na base."
   ]
  },
  {
   "cell_type": "markdown",
   "id": "e9d39f7d-e528-45f8-af13-e9bf6dec5c9e",
   "metadata": {},
   "source": [
    "Primeiramente, vamos entender como encontrar a diferença de tempo entre a primeira compra do cliente e o 'fechamento' da empresa.\n",
    "\n",
    "- Precisamos descobrir a data da primeira compra e a data do fechamento;\n",
    "- Calcular a diferença entre a data da primeira compra e a data do fechamento;\n",
    "- Agrupar por cliente qual foi a maior diferença entre data de compra e fechamento: essa é a quantidade de meses que meu cliente ficou na base."
   ]
  },
  {
   "cell_type": "markdown",
   "id": "4a9fc60c-75f5-4a1c-a247-faa2effb7bf7",
   "metadata": {},
   "source": [
    "Antes de puxarmos os dados para cumprir o primeiro passo, é necessário converter as datas do formato texto para o formato data (_string to datetime_).\n",
    "Podemos utilizar a função com parâmetros indicando a coluna onde está o texto a ser transformado e o formato que desejamos: `datetime.strptime(data['Order Date'], '%m/%d/%Y'`."
   ]
  },
  {
   "cell_type": "markdown",
   "id": "8cb3d0b5-8f40-4d18-ab57-534eb383a96b",
   "metadata": {},
   "source": [
    "A função acima exige que informemos os dados linha a linha. Para automatizar o processo, recorreremos ao `lambda`, uma forma mais simplificada do `def`.\n",
    "Junto ao `lambda`, adicionamos o `apply`, de forma que todos os dados de uma mesma coluna serão afetados pela função."
   ]
  },
  {
   "cell_type": "markdown",
   "id": "82b405ae-e30f-4e0e-92db-f46bcacb44fe",
   "metadata": {},
   "source": [
    "**Passo 01**: descobrindo a data da primeira compra e a data do fechamento."
   ]
  },
  {
   "cell_type": "markdown",
   "id": "dcd666de-05d4-4fc2-bad0-deabf70b61f8",
   "metadata": {},
   "source": [
    "Data do fechamento da empresa:"
   ]
  },
  {
   "cell_type": "code",
   "execution_count": 33,
   "id": "e23c7e37-0fae-4e2f-9b62-9567e4ccc813",
   "metadata": {},
   "outputs": [
    {
     "name": "stdout",
     "output_type": "stream",
     "text": [
      "2017-12-30 00:00:00\n"
     ]
    }
   ],
   "source": [
    "data_ultima_compra=data['Order Date'].apply(lambda x: datetime.strptime(x, '%m/%d/%Y')).max()\n",
    "print(data_ultima_compra)"
   ]
  },
  {
   "cell_type": "markdown",
   "id": "ccc84f09-05f0-492a-be9c-0b54f5b13990",
   "metadata": {},
   "source": [
    "Coluna com as datas dos pedidos:"
   ]
  },
  {
   "cell_type": "code",
   "execution_count": 34,
   "id": "d72719ac-1cdf-461d-a124-cfd0b0e63d83",
   "metadata": {},
   "outputs": [],
   "source": [
    "data['data_pedido']=data['Order Date'].apply(lambda x: datetime.strptime(x, '%m/%d/%Y'))"
   ]
  },
  {
   "cell_type": "markdown",
   "id": "89a7e5f2-4195-482f-b8c9-c1cb13a3f7ad",
   "metadata": {},
   "source": [
    "**Passo 02**: calculando a diferença entre a data da compra e a data do fechamento."
   ]
  },
  {
   "cell_type": "markdown",
   "id": "a96a0aee-ad43-4aa6-8920-94dcc80736cd",
   "metadata": {},
   "source": [
    "A ideia é que criemos uma coluna contendo, para cada cliente, o intervalo de dias entre a primeira compra e o fechamento. Vamos utilizar a função `def` para calcular essa diferença e a função `apply` para que todos os resultados obtenham retorno. "
   ]
  },
  {
   "cell_type": "code",
   "execution_count": 46,
   "id": "2391f903-d0b0-46fd-8083-50563700134d",
   "metadata": {},
   "outputs": [],
   "source": [
    "def date_difference (coluna):\n",
    "    date_difference=data_ultima_compra-coluna\n",
    "    return date_difference\n",
    "\n",
    "data['diff_ultima_compra_dias']=data['data_pedido'].apply(lambda x:date_difference(x))"
   ]
  },
  {
   "cell_type": "markdown",
   "id": "0e75af8c-5c93-4ee1-b4d5-a5d77c1b777c",
   "metadata": {},
   "source": [
    "Posteriormente, vamos dividir o lucro de cada cliente pela quantidade de dias na base. Note que o valor do lucro está no formato número inteiro e o intervalo de dias é printado na tabela como \"_N days_\". Para “apagar” o texto _days_ e operar a conta, vamos incluir `dt.days` no nosso código."
   ]
  },
  {
   "cell_type": "code",
   "execution_count": 47,
   "id": "2d5ef73f-9805-481d-a3d9-7130f0b88f68",
   "metadata": {},
   "outputs": [],
   "source": [
    "data['diff_ultima_compra_dias']=data['data_pedido'].apply(lambda x:date_difference(x)).dt.days"
   ]
  },
  {
   "cell_type": "markdown",
   "id": "9e0d329e-ea71-4bda-96a2-2d058bf6fa7e",
   "metadata": {},
   "source": [
    "Também podemos criar uma coluna de intervalo de meses dividindo o número de dias por 30.\n",
    "Faremos o arredondamento para cima, de forma que não tenhamos meses quebrados (arredondar para cima é uma decisão mais conservadora).\n",
    "Vamos usar o `apply` para aplicar a função `ceil`."
   ]
  },
  {
   "cell_type": "code",
   "execution_count": 48,
   "id": "e8583c29-52b1-4d05-8a78-449d75c7cd72",
   "metadata": {},
   "outputs": [],
   "source": [
    "data['diff_ultima_compra_meses']=(data['diff_ultima_compra_dias']/30).apply(lambda x: math.ceil(x))"
   ]
  },
  {
   "cell_type": "markdown",
   "id": "99f75d16-321e-4d48-882d-175edffd0107",
   "metadata": {},
   "source": [
    "Observe como ficou a tabela com nossas novas colunas:"
   ]
  },
  {
   "cell_type": "code",
   "execution_count": 49,
   "id": "19a77f34-6235-442b-b9dc-9321e0b10a2c",
   "metadata": {},
   "outputs": [
    {
     "data": {
      "text/html": [
       "<div>\n",
       "<style scoped>\n",
       "    .dataframe tbody tr th:only-of-type {\n",
       "        vertical-align: middle;\n",
       "    }\n",
       "\n",
       "    .dataframe tbody tr th {\n",
       "        vertical-align: top;\n",
       "    }\n",
       "\n",
       "    .dataframe thead th {\n",
       "        text-align: right;\n",
       "    }\n",
       "</style>\n",
       "<table border=\"1\" class=\"dataframe\">\n",
       "  <thead>\n",
       "    <tr style=\"text-align: right;\">\n",
       "      <th></th>\n",
       "      <th>Order ID</th>\n",
       "      <th>Order Date</th>\n",
       "      <th>Ship Date</th>\n",
       "      <th>Ship Mode</th>\n",
       "      <th>Customer ID</th>\n",
       "      <th>Customer Name</th>\n",
       "      <th>Segment</th>\n",
       "      <th>Country</th>\n",
       "      <th>City</th>\n",
       "      <th>State</th>\n",
       "      <th>...</th>\n",
       "      <th>Sub-Category</th>\n",
       "      <th>Product Name</th>\n",
       "      <th>Sales</th>\n",
       "      <th>Quantity</th>\n",
       "      <th>Discount</th>\n",
       "      <th>Profit</th>\n",
       "      <th>order_month</th>\n",
       "      <th>data_pedido</th>\n",
       "      <th>diff_ultima_compra_dias</th>\n",
       "      <th>diff_ultima_compra_meses</th>\n",
       "    </tr>\n",
       "  </thead>\n",
       "  <tbody>\n",
       "    <tr>\n",
       "      <th>0</th>\n",
       "      <td>CA-2016-152156</td>\n",
       "      <td>11/8/2016</td>\n",
       "      <td>11/11/2016</td>\n",
       "      <td>Second Class</td>\n",
       "      <td>CG-12520</td>\n",
       "      <td>Claire Gute</td>\n",
       "      <td>Consumer</td>\n",
       "      <td>United States</td>\n",
       "      <td>Henderson</td>\n",
       "      <td>Kentucky</td>\n",
       "      <td>...</td>\n",
       "      <td>Bookcases</td>\n",
       "      <td>Bush Somerset Collection Bookcase</td>\n",
       "      <td>261.9600</td>\n",
       "      <td>2</td>\n",
       "      <td>0.00</td>\n",
       "      <td>41.9136</td>\n",
       "      <td>2016-11</td>\n",
       "      <td>2016-11-08</td>\n",
       "      <td>417</td>\n",
       "      <td>14</td>\n",
       "    </tr>\n",
       "    <tr>\n",
       "      <th>1</th>\n",
       "      <td>CA-2016-152156</td>\n",
       "      <td>11/8/2016</td>\n",
       "      <td>11/11/2016</td>\n",
       "      <td>Second Class</td>\n",
       "      <td>CG-12520</td>\n",
       "      <td>Claire Gute</td>\n",
       "      <td>Consumer</td>\n",
       "      <td>United States</td>\n",
       "      <td>Henderson</td>\n",
       "      <td>Kentucky</td>\n",
       "      <td>...</td>\n",
       "      <td>Chairs</td>\n",
       "      <td>Hon Deluxe Fabric Upholstered Stacking Chairs,...</td>\n",
       "      <td>731.9400</td>\n",
       "      <td>3</td>\n",
       "      <td>0.00</td>\n",
       "      <td>219.5820</td>\n",
       "      <td>2016-11</td>\n",
       "      <td>2016-11-08</td>\n",
       "      <td>417</td>\n",
       "      <td>14</td>\n",
       "    </tr>\n",
       "    <tr>\n",
       "      <th>2</th>\n",
       "      <td>CA-2016-138688</td>\n",
       "      <td>6/12/2016</td>\n",
       "      <td>6/16/2016</td>\n",
       "      <td>Second Class</td>\n",
       "      <td>DV-13045</td>\n",
       "      <td>Darrin Van Huff</td>\n",
       "      <td>Corporate</td>\n",
       "      <td>United States</td>\n",
       "      <td>Los Angeles</td>\n",
       "      <td>California</td>\n",
       "      <td>...</td>\n",
       "      <td>Labels</td>\n",
       "      <td>Self-Adhesive Address Labels for Typewriters b...</td>\n",
       "      <td>14.6200</td>\n",
       "      <td>2</td>\n",
       "      <td>0.00</td>\n",
       "      <td>6.8714</td>\n",
       "      <td>2016-06</td>\n",
       "      <td>2016-06-12</td>\n",
       "      <td>566</td>\n",
       "      <td>19</td>\n",
       "    </tr>\n",
       "    <tr>\n",
       "      <th>3</th>\n",
       "      <td>US-2015-108966</td>\n",
       "      <td>10/11/2015</td>\n",
       "      <td>10/18/2015</td>\n",
       "      <td>Standard Class</td>\n",
       "      <td>SO-20335</td>\n",
       "      <td>Sean O'Donnell</td>\n",
       "      <td>Consumer</td>\n",
       "      <td>United States</td>\n",
       "      <td>Fort Lauderdale</td>\n",
       "      <td>Florida</td>\n",
       "      <td>...</td>\n",
       "      <td>Tables</td>\n",
       "      <td>Bretford CR4500 Series Slim Rectangular Table</td>\n",
       "      <td>957.5775</td>\n",
       "      <td>5</td>\n",
       "      <td>0.45</td>\n",
       "      <td>-383.0310</td>\n",
       "      <td>2015-10</td>\n",
       "      <td>2015-10-11</td>\n",
       "      <td>811</td>\n",
       "      <td>28</td>\n",
       "    </tr>\n",
       "    <tr>\n",
       "      <th>4</th>\n",
       "      <td>US-2015-108966</td>\n",
       "      <td>10/11/2015</td>\n",
       "      <td>10/18/2015</td>\n",
       "      <td>Standard Class</td>\n",
       "      <td>SO-20335</td>\n",
       "      <td>Sean O'Donnell</td>\n",
       "      <td>Consumer</td>\n",
       "      <td>United States</td>\n",
       "      <td>Fort Lauderdale</td>\n",
       "      <td>Florida</td>\n",
       "      <td>...</td>\n",
       "      <td>Storage</td>\n",
       "      <td>Eldon Fold 'N Roll Cart System</td>\n",
       "      <td>22.3680</td>\n",
       "      <td>2</td>\n",
       "      <td>0.20</td>\n",
       "      <td>2.5164</td>\n",
       "      <td>2015-10</td>\n",
       "      <td>2015-10-11</td>\n",
       "      <td>811</td>\n",
       "      <td>28</td>\n",
       "    </tr>\n",
       "  </tbody>\n",
       "</table>\n",
       "<p>5 rows × 24 columns</p>\n",
       "</div>"
      ],
      "text/plain": [
       "         Order ID  Order Date   Ship Date       Ship Mode Customer ID  \\\n",
       "0  CA-2016-152156   11/8/2016  11/11/2016    Second Class    CG-12520   \n",
       "1  CA-2016-152156   11/8/2016  11/11/2016    Second Class    CG-12520   \n",
       "2  CA-2016-138688   6/12/2016   6/16/2016    Second Class    DV-13045   \n",
       "3  US-2015-108966  10/11/2015  10/18/2015  Standard Class    SO-20335   \n",
       "4  US-2015-108966  10/11/2015  10/18/2015  Standard Class    SO-20335   \n",
       "\n",
       "     Customer Name    Segment        Country             City       State  \\\n",
       "0      Claire Gute   Consumer  United States        Henderson    Kentucky   \n",
       "1      Claire Gute   Consumer  United States        Henderson    Kentucky   \n",
       "2  Darrin Van Huff  Corporate  United States      Los Angeles  California   \n",
       "3   Sean O'Donnell   Consumer  United States  Fort Lauderdale     Florida   \n",
       "4   Sean O'Donnell   Consumer  United States  Fort Lauderdale     Florida   \n",
       "\n",
       "   ...  Sub-Category                                       Product Name  \\\n",
       "0  ...     Bookcases                  Bush Somerset Collection Bookcase   \n",
       "1  ...        Chairs  Hon Deluxe Fabric Upholstered Stacking Chairs,...   \n",
       "2  ...        Labels  Self-Adhesive Address Labels for Typewriters b...   \n",
       "3  ...        Tables      Bretford CR4500 Series Slim Rectangular Table   \n",
       "4  ...       Storage                     Eldon Fold 'N Roll Cart System   \n",
       "\n",
       "      Sales Quantity Discount    Profit  order_month  data_pedido  \\\n",
       "0  261.9600        2     0.00   41.9136      2016-11   2016-11-08   \n",
       "1  731.9400        3     0.00  219.5820      2016-11   2016-11-08   \n",
       "2   14.6200        2     0.00    6.8714      2016-06   2016-06-12   \n",
       "3  957.5775        5     0.45 -383.0310      2015-10   2015-10-11   \n",
       "4   22.3680        2     0.20    2.5164      2015-10   2015-10-11   \n",
       "\n",
       "   diff_ultima_compra_dias  diff_ultima_compra_meses  \n",
       "0                      417                        14  \n",
       "1                      417                        14  \n",
       "2                      566                        19  \n",
       "3                      811                        28  \n",
       "4                      811                        28  \n",
       "\n",
       "[5 rows x 24 columns]"
      ]
     },
     "execution_count": 49,
     "metadata": {},
     "output_type": "execute_result"
    }
   ],
   "source": [
    "data.head(5)"
   ]
  },
  {
   "cell_type": "markdown",
   "id": "ef3468a9-0a9a-4de5-ba37-bdf3ee174eef",
   "metadata": {},
   "source": [
    "**Passo 03**: calculando o número de meses que o usuário permaneceu na base."
   ]
  },
  {
   "cell_type": "markdown",
   "id": "cec2e3a8-7285-4e6b-abe8-ab108dc3f0e1",
   "metadata": {},
   "source": [
    "Vamos começar agrupando por cliente a maior diferença entre data de compra e fechamento."
   ]
  },
  {
   "cell_type": "code",
   "execution_count": 56,
   "id": "35ad4d61-78c3-4659-8465-3e0ea2c847f7",
   "metadata": {},
   "outputs": [],
   "source": [
    "tempo_vida_clientes=data.groupby('Customer Name')['diff_ultima_compra_meses'].max()\n",
    "lucro_por_mes=lucro_clientes/tempo_vida_clientes"
   ]
  },
  {
   "cell_type": "markdown",
   "id": "999f951e-543c-4003-ac70-50217ea1e178",
   "metadata": {},
   "source": [
    "Dessa forma, obtivemos a quantidade de **lucro por mês** de cada cliente. Podemos ainda organizar a lista por valores."
   ]
  },
  {
   "cell_type": "code",
   "execution_count": 57,
   "id": "9ccf3ab9-d7b7-4e66-a2d6-82e2e9f8ee66",
   "metadata": {},
   "outputs": [
    {
     "data": {
      "text/plain": [
       "Customer Name\n",
       "Raymond Buch            317.095268\n",
       "Tamara Chand            230.290356\n",
       "Adrian Barton           147.156905\n",
       "Sanjit Chand            119.946081\n",
       "Hunter Lopez            117.133942\n",
       "Christina DeMoss        116.513700\n",
       "Tom Ashbrook            114.726544\n",
       "Christopher Martinez    114.702659\n",
       "Christopher Conant      108.852465\n",
       "Jenna Caffey             83.820733\n",
       "Helen Wasserman          77.291468\n",
       "Keith Dawkins            75.965635\n",
       "Andy Reiter              75.911074\n",
       "Adam Bellavance          73.378161\n",
       "Theresa Coyne            66.383300\n",
       "dtype: float64"
      ]
     },
     "execution_count": 57,
     "metadata": {},
     "output_type": "execute_result"
    }
   ],
   "source": [
    "lucro_por_mes.sort_values(ascending=False).head(15)"
   ]
  },
  {
   "cell_type": "markdown",
   "id": "61b9da32-3dba-491c-bdd7-31c52b2b3ca4",
   "metadata": {},
   "source": [
    "Essa é a nossa **relação mais confiável de clientes**, pois foi normalizada através do tempo."
   ]
  },
  {
   "cell_type": "markdown",
   "id": "09620a69-d9f9-4d88-8ef6-cb0db6c97905",
   "metadata": {},
   "source": [
    "## 5. Análise RFM 💻"
   ]
  },
  {
   "cell_type": "markdown",
   "id": "c0a8ca01-828c-4fb8-8f0e-1623342a16d5",
   "metadata": {},
   "source": [
    "Análise RFM é uma análise de Recência, Frequência e valor Monetário. Para realizá-la, é necessário agrupar os dados dos clientes a partir de cada uma destas variáveis.\n",
    "Cada variável recebe uma designação de 1 a 5, sendo 1 o pior e 5 o melhor."
   ]
  },
  {
   "cell_type": "markdown",
   "id": "c287f1ad-1244-4fe1-aa1a-b6da674ce11a",
   "metadata": {},
   "source": [
    "A melhor forma de fazer isso é por meio de uma tabela contendo:\n",
    "- Customer ID;\n",
    "- Data da primeira compra;\n",
    "- Data da última compra;\n",
    "- Frequência de compra;\n",
    "- Valor monetário."
   ]
  },
  {
   "cell_type": "markdown",
   "id": "08b95c57-d85c-4878-ac95-4ac83dc1f61b",
   "metadata": {},
   "source": [
    "#### Parte 1: criando nossa tabela"
   ]
  },
  {
   "cell_type": "markdown",
   "id": "bb872c8e-d9e6-456c-9862-006c23290c3d",
   "metadata": {},
   "source": [
    "Vamos começar a desenvolver nossa tabela base.\n",
    "O primeiro passo será a **coluna de frequência**, onde podemos agrupar a quantidade de pedidos por Customer ID.\n",
    "Na verdade, faremos **primeiro** um agrupamento duplo de Customer ID e Order ID, de forma que as ordens de pedidos não sejam contabilizadas mais de uma vez."
   ]
  },
  {
   "cell_type": "markdown",
   "id": "d0776cec-c8bf-4e78-b5d0-4cbc1161dd28",
   "metadata": {},
   "source": [
    "Usando `reset_index()`, garantimos que Customer ID e Order ID apareçam como colunas normais."
   ]
  },
  {
   "cell_type": "code",
   "execution_count": 60,
   "id": "e158f5da-af38-400a-b14d-a59a0a99aaa4",
   "metadata": {},
   "outputs": [
    {
     "data": {
      "text/html": [
       "<div>\n",
       "<style scoped>\n",
       "    .dataframe tbody tr th:only-of-type {\n",
       "        vertical-align: middle;\n",
       "    }\n",
       "\n",
       "    .dataframe tbody tr th {\n",
       "        vertical-align: top;\n",
       "    }\n",
       "\n",
       "    .dataframe thead th {\n",
       "        text-align: right;\n",
       "    }\n",
       "</style>\n",
       "<table border=\"1\" class=\"dataframe\">\n",
       "  <thead>\n",
       "    <tr style=\"text-align: right;\">\n",
       "      <th></th>\n",
       "      <th>Customer ID</th>\n",
       "      <th>Order ID</th>\n",
       "    </tr>\n",
       "  </thead>\n",
       "  <tbody>\n",
       "    <tr>\n",
       "      <th>0</th>\n",
       "      <td>AA-10315</td>\n",
       "      <td>CA-2014-128055</td>\n",
       "    </tr>\n",
       "    <tr>\n",
       "      <th>1</th>\n",
       "      <td>AA-10315</td>\n",
       "      <td>CA-2014-138100</td>\n",
       "    </tr>\n",
       "    <tr>\n",
       "      <th>2</th>\n",
       "      <td>AA-10315</td>\n",
       "      <td>CA-2015-121391</td>\n",
       "    </tr>\n",
       "    <tr>\n",
       "      <th>3</th>\n",
       "      <td>AA-10315</td>\n",
       "      <td>CA-2016-103982</td>\n",
       "    </tr>\n",
       "    <tr>\n",
       "      <th>4</th>\n",
       "      <td>AA-10315</td>\n",
       "      <td>CA-2017-147039</td>\n",
       "    </tr>\n",
       "    <tr>\n",
       "      <th>...</th>\n",
       "      <td>...</td>\n",
       "      <td>...</td>\n",
       "    </tr>\n",
       "    <tr>\n",
       "      <th>5004</th>\n",
       "      <td>ZD-21925</td>\n",
       "      <td>CA-2014-143336</td>\n",
       "    </tr>\n",
       "    <tr>\n",
       "      <th>5005</th>\n",
       "      <td>ZD-21925</td>\n",
       "      <td>CA-2016-152471</td>\n",
       "    </tr>\n",
       "    <tr>\n",
       "      <th>5006</th>\n",
       "      <td>ZD-21925</td>\n",
       "      <td>CA-2016-167682</td>\n",
       "    </tr>\n",
       "    <tr>\n",
       "      <th>5007</th>\n",
       "      <td>ZD-21925</td>\n",
       "      <td>CA-2017-141481</td>\n",
       "    </tr>\n",
       "    <tr>\n",
       "      <th>5008</th>\n",
       "      <td>ZD-21925</td>\n",
       "      <td>US-2016-147991</td>\n",
       "    </tr>\n",
       "  </tbody>\n",
       "</table>\n",
       "<p>5009 rows × 2 columns</p>\n",
       "</div>"
      ],
      "text/plain": [
       "     Customer ID        Order ID\n",
       "0       AA-10315  CA-2014-128055\n",
       "1       AA-10315  CA-2014-138100\n",
       "2       AA-10315  CA-2015-121391\n",
       "3       AA-10315  CA-2016-103982\n",
       "4       AA-10315  CA-2017-147039\n",
       "...          ...             ...\n",
       "5004    ZD-21925  CA-2014-143336\n",
       "5005    ZD-21925  CA-2016-152471\n",
       "5006    ZD-21925  CA-2016-167682\n",
       "5007    ZD-21925  CA-2017-141481\n",
       "5008    ZD-21925  US-2016-147991\n",
       "\n",
       "[5009 rows x 2 columns]"
      ]
     },
     "execution_count": 60,
     "metadata": {},
     "output_type": "execute_result"
    }
   ],
   "source": [
    "data.groupby(['Customer ID', 'Order ID']).count().reset_index()[['Customer ID', 'Order ID']]"
   ]
  },
  {
   "cell_type": "markdown",
   "id": "cdf68d86-d062-43a1-9dda-7b9f71905145",
   "metadata": {},
   "source": [
    "Agora sim, podemos realizar um novo agrupamento para a quantidade de pedidos por cliente."
   ]
  },
  {
   "cell_type": "code",
   "execution_count": 62,
   "id": "29473b97-6fd7-45f0-969f-e7e0a59d955f",
   "metadata": {},
   "outputs": [],
   "source": [
    "pedidos=data.groupby(['Customer ID', 'Order ID']).count().reset_index()[['Customer ID', 'Order ID']].groupby('Customer ID')['Order ID'].count().reset_index()"
   ]
  },
  {
   "cell_type": "markdown",
   "id": "2084c4ad-f683-4625-a7d8-277a7ba1c82e",
   "metadata": {},
   "source": [
    "Pronto! **Agrupamos cada cliente por sua quantidade de pedidos (F)**."
   ]
  },
  {
   "cell_type": "markdown",
   "id": "5b0a1d5f-398a-4ee6-8126-a16704eb0a0e",
   "metadata": {},
   "source": [
    "Partiremos para o próximo passo, o **lucro por cliente**.\n",
    "Calculamos o lucro por cliente anteriormente, mas não podemos utilizar aquela tabela: não é possível fazer a junção de nenhuma de suas colunas com as colunas da tabela de frequência, visto que a primeira não possui Customer ID.\n",
    "Vamos criar uma nova!"
   ]
  },
  {
   "cell_type": "code",
   "execution_count": 64,
   "id": "c5196427-622a-4c1f-bd3e-4d13e9449e37",
   "metadata": {},
   "outputs": [],
   "source": [
    "lucro_clientes_customerid=data.groupby('Customer ID')['Profit'].sum().reset_index()"
   ]
  },
  {
   "cell_type": "markdown",
   "id": "99023b20-0287-425a-b189-7663e8ac640e",
   "metadata": {},
   "source": [
    "Agora temos uma tabela com a **contribuição monetária de cada cliente (M)**. As nossas duas tabelas (F e M) possuem colunas iguais (Customer ID)."
   ]
  },
  {
   "cell_type": "markdown",
   "id": "5e5d97c7-41a5-4868-8199-7380482bbfeb",
   "metadata": {},
   "source": [
    "O próximo passo consiste em extrair os **dados da recência**, ou seja, vamos descobrir a diferença entre a data da primeira e a última compra. Lembrando que já havíamos transformado os dados que eram _string_ em formato data (a nossa coluna _data_pedido_)."
   ]
  },
  {
   "cell_type": "markdown",
   "id": "439b38ac-79f5-4da2-ab35-dee97d202021",
   "metadata": {},
   "source": [
    "Mais uma vez, o agrupamento será realizado por Customer ID."
   ]
  },
  {
   "cell_type": "code",
   "execution_count": 65,
   "id": "28e78f07-a4fc-45c2-94a9-8b9975e660fe",
   "metadata": {},
   "outputs": [],
   "source": [
    "primeira_compra=data.groupby('Customer ID')['data_pedido'].min()\n",
    "ultima_compra=data.groupby('Customer ID')['data_pedido'].max()"
   ]
  },
  {
   "cell_type": "markdown",
   "id": "19dd708d-411d-471b-8228-9744420eea8f",
   "metadata": {},
   "source": [
    "Temos quatro tabelas:\n",
    "- Frequência (_pedidos_);\n",
    "- Valor monetário (_lucro_clientes_customerid_);\n",
    "- Primeira compra (_primeira_compra_);\n",
    "- Última compra (_ultima_compra_)."
   ]
  },
  {
   "cell_type": "markdown",
   "id": "eb466395-268e-423b-9498-2a5af1e273b1",
   "metadata": {},
   "source": [
    "Todas as tabelas possuem uma coluna em comum: **Customer ID**.\n",
    "Vamos juntá-las utilizando uma função chamada `reduce`, com a qual podemos rodar uma função em específico aplicada consecutivamente a um conjunto de valores em uma lista."
   ]
  },
  {
   "cell_type": "markdown",
   "id": "aeaf3dc2-328b-48e2-9287-1e9aa7bc3ee4",
   "metadata": {},
   "source": [
    "Exemplo: `soma=reduce((lambda x, y: x+y), [1, 2, 3, 4])`.\n",
    "- Além de indicar a função de soma, indicamos uma lista de valores;\n",
    "- Dessa forma, teremos o retorno de todos os itens da lista somados: 1 + 2 + 3 + 4;\n",
    "- É chamada `reduce` pois gera um único output (resultado)."
   ]
  },
  {
   "cell_type": "markdown",
   "id": "a3c75ef4-1450-4e61-a323-3737fe04dc1e",
   "metadata": {},
   "source": [
    "Dentro da função reduce, vamos usar o `merge` para juntar as tabelas. Precisamos indicar a tabela, o tipo de join e a chave."
   ]
  },
  {
   "cell_type": "code",
   "execution_count": 66,
   "id": "a631ff94-a6b9-47a4-85d6-710372415a7e",
   "metadata": {},
   "outputs": [],
   "source": [
    "lista_de_tabelas=[primeira_compra, ultima_compra, pedidos, lucro_clientes_customerid]\n",
    "tabelao=reduce((lambda left, right: pd.merge(left, right, on=['Customer ID'] )), lista_de_tabelas)"
   ]
  },
  {
   "cell_type": "code",
   "execution_count": 196,
   "id": "96ccbb07-ad14-4aeb-8f86-fe8f34ca3783",
   "metadata": {},
   "outputs": [
    {
     "data": {
      "text/html": [
       "<div>\n",
       "<style scoped>\n",
       "    .dataframe tbody tr th:only-of-type {\n",
       "        vertical-align: middle;\n",
       "    }\n",
       "\n",
       "    .dataframe tbody tr th {\n",
       "        vertical-align: top;\n",
       "    }\n",
       "\n",
       "    .dataframe thead th {\n",
       "        text-align: right;\n",
       "    }\n",
       "</style>\n",
       "<table border=\"1\" class=\"dataframe\">\n",
       "  <thead>\n",
       "    <tr style=\"text-align: right;\">\n",
       "      <th></th>\n",
       "      <th>Customer ID</th>\n",
       "      <th>data_pedido_x</th>\n",
       "      <th>data_pedido_y</th>\n",
       "      <th>Order ID</th>\n",
       "      <th>Profit</th>\n",
       "    </tr>\n",
       "  </thead>\n",
       "  <tbody>\n",
       "    <tr>\n",
       "      <th>0</th>\n",
       "      <td>AA-10315</td>\n",
       "      <td>2014-03-31</td>\n",
       "      <td>2017-06-29</td>\n",
       "      <td>5</td>\n",
       "      <td>-362.8825</td>\n",
       "    </tr>\n",
       "    <tr>\n",
       "      <th>1</th>\n",
       "      <td>AA-10375</td>\n",
       "      <td>2014-04-21</td>\n",
       "      <td>2017-12-11</td>\n",
       "      <td>9</td>\n",
       "      <td>277.3824</td>\n",
       "    </tr>\n",
       "    <tr>\n",
       "      <th>2</th>\n",
       "      <td>AA-10480</td>\n",
       "      <td>2014-05-04</td>\n",
       "      <td>2017-04-15</td>\n",
       "      <td>4</td>\n",
       "      <td>435.8274</td>\n",
       "    </tr>\n",
       "    <tr>\n",
       "      <th>3</th>\n",
       "      <td>AA-10645</td>\n",
       "      <td>2014-06-22</td>\n",
       "      <td>2017-11-05</td>\n",
       "      <td>6</td>\n",
       "      <td>857.8033</td>\n",
       "    </tr>\n",
       "    <tr>\n",
       "      <th>4</th>\n",
       "      <td>AB-10015</td>\n",
       "      <td>2014-02-18</td>\n",
       "      <td>2016-11-10</td>\n",
       "      <td>3</td>\n",
       "      <td>129.3465</td>\n",
       "    </tr>\n",
       "    <tr>\n",
       "      <th>...</th>\n",
       "      <td>...</td>\n",
       "      <td>...</td>\n",
       "      <td>...</td>\n",
       "      <td>...</td>\n",
       "      <td>...</td>\n",
       "    </tr>\n",
       "    <tr>\n",
       "      <th>788</th>\n",
       "      <td>XP-21865</td>\n",
       "      <td>2014-01-20</td>\n",
       "      <td>2017-11-17</td>\n",
       "      <td>11</td>\n",
       "      <td>621.2300</td>\n",
       "    </tr>\n",
       "    <tr>\n",
       "      <th>789</th>\n",
       "      <td>YC-21895</td>\n",
       "      <td>2014-11-17</td>\n",
       "      <td>2017-12-26</td>\n",
       "      <td>5</td>\n",
       "      <td>1305.6290</td>\n",
       "    </tr>\n",
       "    <tr>\n",
       "      <th>790</th>\n",
       "      <td>YS-21880</td>\n",
       "      <td>2015-01-12</td>\n",
       "      <td>2017-12-21</td>\n",
       "      <td>8</td>\n",
       "      <td>1778.2923</td>\n",
       "    </tr>\n",
       "    <tr>\n",
       "      <th>791</th>\n",
       "      <td>ZC-21910</td>\n",
       "      <td>2014-10-13</td>\n",
       "      <td>2017-11-06</td>\n",
       "      <td>13</td>\n",
       "      <td>-1032.1490</td>\n",
       "    </tr>\n",
       "    <tr>\n",
       "      <th>792</th>\n",
       "      <td>ZD-21925</td>\n",
       "      <td>2014-08-27</td>\n",
       "      <td>2017-06-11</td>\n",
       "      <td>5</td>\n",
       "      <td>249.1307</td>\n",
       "    </tr>\n",
       "  </tbody>\n",
       "</table>\n",
       "<p>793 rows × 5 columns</p>\n",
       "</div>"
      ],
      "text/plain": [
       "    Customer ID data_pedido_x data_pedido_y  Order ID     Profit\n",
       "0      AA-10315    2014-03-31    2017-06-29         5  -362.8825\n",
       "1      AA-10375    2014-04-21    2017-12-11         9   277.3824\n",
       "2      AA-10480    2014-05-04    2017-04-15         4   435.8274\n",
       "3      AA-10645    2014-06-22    2017-11-05         6   857.8033\n",
       "4      AB-10015    2014-02-18    2016-11-10         3   129.3465\n",
       "..          ...           ...           ...       ...        ...\n",
       "788    XP-21865    2014-01-20    2017-11-17        11   621.2300\n",
       "789    YC-21895    2014-11-17    2017-12-26         5  1305.6290\n",
       "790    YS-21880    2015-01-12    2017-12-21         8  1778.2923\n",
       "791    ZC-21910    2014-10-13    2017-11-06        13 -1032.1490\n",
       "792    ZD-21925    2014-08-27    2017-06-11         5   249.1307\n",
       "\n",
       "[793 rows x 5 columns]"
      ]
     },
     "execution_count": 196,
     "metadata": {},
     "output_type": "execute_result"
    }
   ],
   "source": [
    "tabelao"
   ]
  },
  {
   "cell_type": "markdown",
   "id": "6c635617-25ca-4e0f-a774-f4bd17cab93a",
   "metadata": {},
   "source": [
    "Aqui, temos a mesma situação previamente descrita: sem a normalização dos clientes no tempo, não sabemos se a lucratividade dos usuários é advinda de sua qualidade como comprador ou se é pelo fato de ser um cliente mais antigo na base."
   ]
  },
  {
   "cell_type": "markdown",
   "id": "734cc628-91d6-486d-87b8-13dec9964f4c",
   "metadata": {},
   "source": [
    "Faremos algumas modificações na tabela para incorporar a variação do tempo:\n",
    "\n",
    "- Dividiremos o lucro pela quantidade de meses que o cliente está na base;\n",
    "- Dividiremos a quantidade de compras pela quantidade de meses que o cliente está na base."
   ]
  },
  {
   "cell_type": "markdown",
   "id": "ef06841a-5b92-4319-9b90-05c5d0ea009e",
   "metadata": {},
   "source": [
    "A recência da compra pode ser encontrada comparando a data de última compra em relação ao fechamento: o melhor cliente é o que possui a menor diferença possível.\n",
    "Podemos reaproveitar o dado que já foi calculado (coluna _diff_ultima_compra_meses_) e fazer o agrupamento por Customer ID, de forma que seja possível unir à outra tabela."
   ]
  },
  {
   "cell_type": "code",
   "execution_count": 67,
   "id": "8294a0b9-f09c-408d-824d-7044982ad7e1",
   "metadata": {},
   "outputs": [],
   "source": [
    "recencia=data.groupby('Customer ID')['diff_ultima_compra_meses'].min().reset_index()\n",
    "tabelao_com_recencia=tabelao.merge(recencia, on='Customer ID')"
   ]
  },
  {
   "cell_type": "markdown",
   "id": "9486c2a1-7b05-40a7-9c1a-393b89c47d00",
   "metadata": {},
   "source": [
    "O lucro por tempo será calculado dividindo o lucro de cada cliente pela diferença **máxima** de meses entre compra final e o fechamento (tempo do cliente na base, semelhante ao calculado acima)."
   ]
  },
  {
   "cell_type": "markdown",
   "id": "41f38e5e-19de-4341-becf-5a7b6bdec3ea",
   "metadata": {},
   "source": [
    "Primero faremos a tabela de tempo na base.\n",
    "Depois vamos juntar (`merge`) com o \"tabelão\"."
   ]
  },
  {
   "cell_type": "code",
   "execution_count": 68,
   "id": "1eba5c91-f08f-4328-adc2-0b910efa05d1",
   "metadata": {},
   "outputs": [
    {
     "data": {
      "text/html": [
       "<div>\n",
       "<style scoped>\n",
       "    .dataframe tbody tr th:only-of-type {\n",
       "        vertical-align: middle;\n",
       "    }\n",
       "\n",
       "    .dataframe tbody tr th {\n",
       "        vertical-align: top;\n",
       "    }\n",
       "\n",
       "    .dataframe thead th {\n",
       "        text-align: right;\n",
       "    }\n",
       "</style>\n",
       "<table border=\"1\" class=\"dataframe\">\n",
       "  <thead>\n",
       "    <tr style=\"text-align: right;\">\n",
       "      <th></th>\n",
       "      <th>Customer ID</th>\n",
       "      <th>data_pedido_x</th>\n",
       "      <th>data_pedido_y</th>\n",
       "      <th>Order ID</th>\n",
       "      <th>Profit</th>\n",
       "      <th>diff_ultima_compra_meses_x</th>\n",
       "      <th>diff_ultima_compra_meses_y</th>\n",
       "    </tr>\n",
       "  </thead>\n",
       "  <tbody>\n",
       "    <tr>\n",
       "      <th>0</th>\n",
       "      <td>AA-10315</td>\n",
       "      <td>2014-03-31</td>\n",
       "      <td>2017-06-29</td>\n",
       "      <td>5</td>\n",
       "      <td>-362.8825</td>\n",
       "      <td>7</td>\n",
       "      <td>46</td>\n",
       "    </tr>\n",
       "    <tr>\n",
       "      <th>1</th>\n",
       "      <td>AA-10375</td>\n",
       "      <td>2014-04-21</td>\n",
       "      <td>2017-12-11</td>\n",
       "      <td>9</td>\n",
       "      <td>277.3824</td>\n",
       "      <td>1</td>\n",
       "      <td>45</td>\n",
       "    </tr>\n",
       "    <tr>\n",
       "      <th>2</th>\n",
       "      <td>AA-10480</td>\n",
       "      <td>2014-05-04</td>\n",
       "      <td>2017-04-15</td>\n",
       "      <td>4</td>\n",
       "      <td>435.8274</td>\n",
       "      <td>9</td>\n",
       "      <td>45</td>\n",
       "    </tr>\n",
       "    <tr>\n",
       "      <th>3</th>\n",
       "      <td>AA-10645</td>\n",
       "      <td>2014-06-22</td>\n",
       "      <td>2017-11-05</td>\n",
       "      <td>6</td>\n",
       "      <td>857.8033</td>\n",
       "      <td>2</td>\n",
       "      <td>43</td>\n",
       "    </tr>\n",
       "    <tr>\n",
       "      <th>4</th>\n",
       "      <td>AB-10015</td>\n",
       "      <td>2014-02-18</td>\n",
       "      <td>2016-11-10</td>\n",
       "      <td>3</td>\n",
       "      <td>129.3465</td>\n",
       "      <td>14</td>\n",
       "      <td>48</td>\n",
       "    </tr>\n",
       "  </tbody>\n",
       "</table>\n",
       "</div>"
      ],
      "text/plain": [
       "  Customer ID data_pedido_x data_pedido_y  Order ID    Profit  \\\n",
       "0    AA-10315    2014-03-31    2017-06-29         5 -362.8825   \n",
       "1    AA-10375    2014-04-21    2017-12-11         9  277.3824   \n",
       "2    AA-10480    2014-05-04    2017-04-15         4  435.8274   \n",
       "3    AA-10645    2014-06-22    2017-11-05         6  857.8033   \n",
       "4    AB-10015    2014-02-18    2016-11-10         3  129.3465   \n",
       "\n",
       "   diff_ultima_compra_meses_x  diff_ultima_compra_meses_y  \n",
       "0                           7                          46  \n",
       "1                           1                          45  \n",
       "2                           9                          45  \n",
       "3                           2                          43  \n",
       "4                          14                          48  "
      ]
     },
     "execution_count": 68,
     "metadata": {},
     "output_type": "execute_result"
    }
   ],
   "source": [
    "tabela_tempo_na_base=data.groupby('Customer ID')['diff_ultima_compra_meses'].max().reset_index()\n",
    "tabelao_com_diff=tabelao_com_recencia.merge(tabela_tempo_na_base, on='Customer ID')\n",
    "\n",
    "tabelao_com_diff.head()"
   ]
  },
  {
   "cell_type": "markdown",
   "id": "a6e27653-00da-4dba-81ce-eb988494ffb9",
   "metadata": {},
   "source": [
    "Com essa informação, podemos realizar a divisão do lucro e da quantidade de pedidos pela quantidade de meses na base.\n",
    "Para os resultados, criaremos colunas novas!"
   ]
  },
  {
   "cell_type": "code",
   "execution_count": 69,
   "id": "c397b93f-9dde-4cf7-9c7e-e6613d483730",
   "metadata": {},
   "outputs": [
    {
     "data": {
      "text/html": [
       "<div>\n",
       "<style scoped>\n",
       "    .dataframe tbody tr th:only-of-type {\n",
       "        vertical-align: middle;\n",
       "    }\n",
       "\n",
       "    .dataframe tbody tr th {\n",
       "        vertical-align: top;\n",
       "    }\n",
       "\n",
       "    .dataframe thead th {\n",
       "        text-align: right;\n",
       "    }\n",
       "</style>\n",
       "<table border=\"1\" class=\"dataframe\">\n",
       "  <thead>\n",
       "    <tr style=\"text-align: right;\">\n",
       "      <th></th>\n",
       "      <th>Customer ID</th>\n",
       "      <th>data_pedido_x</th>\n",
       "      <th>data_pedido_y</th>\n",
       "      <th>Order ID</th>\n",
       "      <th>Profit</th>\n",
       "      <th>diff_ultima_compra_meses_x</th>\n",
       "      <th>diff_ultima_compra_meses_y</th>\n",
       "      <th>Profit_per_month</th>\n",
       "      <th>frequencia_lifetime</th>\n",
       "    </tr>\n",
       "  </thead>\n",
       "  <tbody>\n",
       "    <tr>\n",
       "      <th>0</th>\n",
       "      <td>AA-10315</td>\n",
       "      <td>2014-03-31</td>\n",
       "      <td>2017-06-29</td>\n",
       "      <td>5</td>\n",
       "      <td>-362.8825</td>\n",
       "      <td>7</td>\n",
       "      <td>46</td>\n",
       "      <td>-7.888750</td>\n",
       "      <td>0.108696</td>\n",
       "    </tr>\n",
       "    <tr>\n",
       "      <th>1</th>\n",
       "      <td>AA-10375</td>\n",
       "      <td>2014-04-21</td>\n",
       "      <td>2017-12-11</td>\n",
       "      <td>9</td>\n",
       "      <td>277.3824</td>\n",
       "      <td>1</td>\n",
       "      <td>45</td>\n",
       "      <td>6.164053</td>\n",
       "      <td>0.200000</td>\n",
       "    </tr>\n",
       "    <tr>\n",
       "      <th>2</th>\n",
       "      <td>AA-10480</td>\n",
       "      <td>2014-05-04</td>\n",
       "      <td>2017-04-15</td>\n",
       "      <td>4</td>\n",
       "      <td>435.8274</td>\n",
       "      <td>9</td>\n",
       "      <td>45</td>\n",
       "      <td>9.685053</td>\n",
       "      <td>0.088889</td>\n",
       "    </tr>\n",
       "    <tr>\n",
       "      <th>3</th>\n",
       "      <td>AA-10645</td>\n",
       "      <td>2014-06-22</td>\n",
       "      <td>2017-11-05</td>\n",
       "      <td>6</td>\n",
       "      <td>857.8033</td>\n",
       "      <td>2</td>\n",
       "      <td>43</td>\n",
       "      <td>19.948914</td>\n",
       "      <td>0.139535</td>\n",
       "    </tr>\n",
       "    <tr>\n",
       "      <th>4</th>\n",
       "      <td>AB-10015</td>\n",
       "      <td>2014-02-18</td>\n",
       "      <td>2016-11-10</td>\n",
       "      <td>3</td>\n",
       "      <td>129.3465</td>\n",
       "      <td>14</td>\n",
       "      <td>48</td>\n",
       "      <td>2.694719</td>\n",
       "      <td>0.062500</td>\n",
       "    </tr>\n",
       "  </tbody>\n",
       "</table>\n",
       "</div>"
      ],
      "text/plain": [
       "  Customer ID data_pedido_x data_pedido_y  Order ID    Profit  \\\n",
       "0    AA-10315    2014-03-31    2017-06-29         5 -362.8825   \n",
       "1    AA-10375    2014-04-21    2017-12-11         9  277.3824   \n",
       "2    AA-10480    2014-05-04    2017-04-15         4  435.8274   \n",
       "3    AA-10645    2014-06-22    2017-11-05         6  857.8033   \n",
       "4    AB-10015    2014-02-18    2016-11-10         3  129.3465   \n",
       "\n",
       "   diff_ultima_compra_meses_x  diff_ultima_compra_meses_y  Profit_per_month  \\\n",
       "0                           7                          46         -7.888750   \n",
       "1                           1                          45          6.164053   \n",
       "2                           9                          45          9.685053   \n",
       "3                           2                          43         19.948914   \n",
       "4                          14                          48          2.694719   \n",
       "\n",
       "   frequencia_lifetime  \n",
       "0             0.108696  \n",
       "1             0.200000  \n",
       "2             0.088889  \n",
       "3             0.139535  \n",
       "4             0.062500  "
      ]
     },
     "execution_count": 69,
     "metadata": {},
     "output_type": "execute_result"
    }
   ],
   "source": [
    "tabelao_com_diff['Profit_per_month']=tabelao_com_diff['Profit']/tabelao_com_diff['diff_ultima_compra_meses_y']\n",
    "tabelao_com_diff['frequencia_lifetime']=tabelao_com_diff['Order ID']/tabelao_com_diff['diff_ultima_compra_meses_y']\n",
    "\n",
    "tabelao_com_diff.head()"
   ]
  },
  {
   "cell_type": "markdown",
   "id": "6a038315-cb9a-40e1-a58d-4fa64cd0d6a9",
   "metadata": {},
   "source": [
    "Nossa tabela está pronta para a análise RFM! Vamos começar?"
   ]
  },
  {
   "cell_type": "markdown",
   "id": "bdc84246-88f2-4645-91de-c2c9ac74a4cb",
   "metadata": {},
   "source": [
    "#### Parte 2: desenvolvendo a análise"
   ]
  },
  {
   "cell_type": "markdown",
   "id": "8fd3e76e-fc36-4e07-8285-882f2d54b23a",
   "metadata": {},
   "source": [
    "Trabalharemos com um sistema de pontuações que consiste em dividir a lista de cada variável em cinco partes, estabelecendo valores de 1 a 5 para cada uma das frações. Para separar os nossos quantis, utilizaremos a função `qcut`."
   ]
  },
  {
   "cell_type": "markdown",
   "id": "ad5a3db8-6b49-47d8-876d-172747b935f2",
   "metadata": {},
   "source": [
    "Faremos uma coluna para o R, uma para o F e uma para o M."
   ]
  },
  {
   "cell_type": "markdown",
   "id": "23c11490-863a-4ae8-88bb-d95577499101",
   "metadata": {},
   "source": [
    "A coluna do R será um pouco diferente, porque a ordem de classificação é invertida - quanto menor a recência, melhor. A lista dos _labels_ de classificação em ordem _decrescente_ deve conter um parâmetro de identificação mostrando de quanto é a diminuição do _label_ entre um quantil e outro: no caso, -1, pois diminuímos a contagem de 1 em 1."
   ]
  },
  {
   "cell_type": "code",
   "execution_count": 70,
   "id": "5fe8c352-8bfd-47be-a1d4-115febab89c2",
   "metadata": {},
   "outputs": [],
   "source": [
    "f_labels=range(1, 6)\n",
    "m_labels=range(1, 6)\n",
    "r_labels=list(range(5, 0, -1))\n",
    "\n",
    "f_quartiles=pd.qcut(tabelao_com_diff['frequencia_lifetime'], 5, labels=f_labels)\n",
    "m_quartiles=pd.qcut(tabelao_com_diff['Profit_per_month'], 5, labels=m_labels)\n",
    "r_quartiles=pd.qcut(tabelao_com_diff['diff_ultima_compra_meses_y'], 5, labels=r_labels)"
   ]
  },
  {
   "cell_type": "markdown",
   "id": "2a322223-79ed-4164-80fd-5c835aa44b46",
   "metadata": {},
   "source": [
    "Agora vamos atribuir os valores dos quartis para as tabelas usando a função `assign`. Também designaremos nomes para as colunas (R, F, M)."
   ]
  },
  {
   "cell_type": "code",
   "execution_count": 72,
   "id": "ca492763-f0cc-4e25-a257-9d8c07d2a643",
   "metadata": {},
   "outputs": [],
   "source": [
    "tabelao_com_diff=tabelao_com_diff.assign(R=r_quartiles, F=f_quartiles, M=m_quartiles)"
   ]
  },
  {
   "cell_type": "code",
   "execution_count": 73,
   "id": "40fd6eee-3e29-482b-a2e4-fe0a3a62497f",
   "metadata": {},
   "outputs": [
    {
     "data": {
      "text/html": [
       "<div>\n",
       "<style scoped>\n",
       "    .dataframe tbody tr th:only-of-type {\n",
       "        vertical-align: middle;\n",
       "    }\n",
       "\n",
       "    .dataframe tbody tr th {\n",
       "        vertical-align: top;\n",
       "    }\n",
       "\n",
       "    .dataframe thead th {\n",
       "        text-align: right;\n",
       "    }\n",
       "</style>\n",
       "<table border=\"1\" class=\"dataframe\">\n",
       "  <thead>\n",
       "    <tr style=\"text-align: right;\">\n",
       "      <th></th>\n",
       "      <th>Customer ID</th>\n",
       "      <th>data_pedido_x</th>\n",
       "      <th>data_pedido_y</th>\n",
       "      <th>Order ID</th>\n",
       "      <th>Profit</th>\n",
       "      <th>diff_ultima_compra_meses_x</th>\n",
       "      <th>diff_ultima_compra_meses_y</th>\n",
       "      <th>Profit_per_month</th>\n",
       "      <th>frequencia_lifetime</th>\n",
       "      <th>R</th>\n",
       "      <th>F</th>\n",
       "      <th>M</th>\n",
       "    </tr>\n",
       "  </thead>\n",
       "  <tbody>\n",
       "    <tr>\n",
       "      <th>0</th>\n",
       "      <td>AA-10315</td>\n",
       "      <td>2014-03-31</td>\n",
       "      <td>2017-06-29</td>\n",
       "      <td>5</td>\n",
       "      <td>-362.8825</td>\n",
       "      <td>7</td>\n",
       "      <td>46</td>\n",
       "      <td>-7.888750</td>\n",
       "      <td>0.108696</td>\n",
       "      <td>1</td>\n",
       "      <td>2</td>\n",
       "      <td>1</td>\n",
       "    </tr>\n",
       "    <tr>\n",
       "      <th>1</th>\n",
       "      <td>AA-10375</td>\n",
       "      <td>2014-04-21</td>\n",
       "      <td>2017-12-11</td>\n",
       "      <td>9</td>\n",
       "      <td>277.3824</td>\n",
       "      <td>1</td>\n",
       "      <td>45</td>\n",
       "      <td>6.164053</td>\n",
       "      <td>0.200000</td>\n",
       "      <td>2</td>\n",
       "      <td>4</td>\n",
       "      <td>3</td>\n",
       "    </tr>\n",
       "    <tr>\n",
       "      <th>2</th>\n",
       "      <td>AA-10480</td>\n",
       "      <td>2014-05-04</td>\n",
       "      <td>2017-04-15</td>\n",
       "      <td>4</td>\n",
       "      <td>435.8274</td>\n",
       "      <td>9</td>\n",
       "      <td>45</td>\n",
       "      <td>9.685053</td>\n",
       "      <td>0.088889</td>\n",
       "      <td>2</td>\n",
       "      <td>1</td>\n",
       "      <td>4</td>\n",
       "    </tr>\n",
       "    <tr>\n",
       "      <th>3</th>\n",
       "      <td>AA-10645</td>\n",
       "      <td>2014-06-22</td>\n",
       "      <td>2017-11-05</td>\n",
       "      <td>6</td>\n",
       "      <td>857.8033</td>\n",
       "      <td>2</td>\n",
       "      <td>43</td>\n",
       "      <td>19.948914</td>\n",
       "      <td>0.139535</td>\n",
       "      <td>2</td>\n",
       "      <td>2</td>\n",
       "      <td>5</td>\n",
       "    </tr>\n",
       "    <tr>\n",
       "      <th>4</th>\n",
       "      <td>AB-10015</td>\n",
       "      <td>2014-02-18</td>\n",
       "      <td>2016-11-10</td>\n",
       "      <td>3</td>\n",
       "      <td>129.3465</td>\n",
       "      <td>14</td>\n",
       "      <td>48</td>\n",
       "      <td>2.694719</td>\n",
       "      <td>0.062500</td>\n",
       "      <td>1</td>\n",
       "      <td>1</td>\n",
       "      <td>2</td>\n",
       "    </tr>\n",
       "  </tbody>\n",
       "</table>\n",
       "</div>"
      ],
      "text/plain": [
       "  Customer ID data_pedido_x data_pedido_y  Order ID    Profit  \\\n",
       "0    AA-10315    2014-03-31    2017-06-29         5 -362.8825   \n",
       "1    AA-10375    2014-04-21    2017-12-11         9  277.3824   \n",
       "2    AA-10480    2014-05-04    2017-04-15         4  435.8274   \n",
       "3    AA-10645    2014-06-22    2017-11-05         6  857.8033   \n",
       "4    AB-10015    2014-02-18    2016-11-10         3  129.3465   \n",
       "\n",
       "   diff_ultima_compra_meses_x  diff_ultima_compra_meses_y  Profit_per_month  \\\n",
       "0                           7                          46         -7.888750   \n",
       "1                           1                          45          6.164053   \n",
       "2                           9                          45          9.685053   \n",
       "3                           2                          43         19.948914   \n",
       "4                          14                          48          2.694719   \n",
       "\n",
       "   frequencia_lifetime  R  F  M  \n",
       "0             0.108696  1  2  1  \n",
       "1             0.200000  2  4  3  \n",
       "2             0.088889  2  1  4  \n",
       "3             0.139535  2  2  5  \n",
       "4             0.062500  1  1  2  "
      ]
     },
     "execution_count": 73,
     "metadata": {},
     "output_type": "execute_result"
    }
   ],
   "source": [
    "tabelao_com_diff.head()"
   ]
  },
  {
   "cell_type": "markdown",
   "id": "7797d885-5930-4980-ab23-530ca5f34863",
   "metadata": {},
   "source": [
    "Temos uma tabela com as qualificações de R, F e M estabelecidas para cada cliente. "
   ]
  },
  {
   "cell_type": "markdown",
   "id": "97cdccc1-3d3b-4f21-91d2-2cbfc804ba5e",
   "metadata": {},
   "source": [
    "Diferentes **combinações de valores** contém significados distintos.\n",
    "Utilizaremos esta combinações para segmentar os usuários em nossa base: "
   ]
  },
  {
   "cell_type": "code",
   "execution_count": 75,
   "id": "bd8fbcae-37f6-472c-a5ea-a829fc225954",
   "metadata": {},
   "outputs": [],
   "source": [
    "segt_map = {\n",
    "    r'[1-2][1-2]':'Hibernando',\n",
    "    r'[1-2][3-4]': 'Em risco',\n",
    "    r'[1-2]5': 'Não pode perder',\n",
    "    r'3[1-2]': 'Vai hibernar',\n",
    "    r'33': 'Atenção requerida',\n",
    "    r'[3-4][4-5]': 'Clientes fieis',\n",
    "    r'41':'Promissor',\n",
    "    r'51': 'Novos clientes',\n",
    "    r'[4-5][2-3]': 'Potenciais fieis',\n",
    "    r'5[4-5]': 'Champions'\n",
    "}"
   ]
  },
  {
   "cell_type": "markdown",
   "id": "803dfd91-c0bd-4866-8960-793eba9241cc",
   "metadata": {},
   "source": [
    "Para finalizar, criaremos mais uma coluna para qualificar os nossos clientes de acordo com a segmentação acima. Entre as aspas, inserimos os valores de R e F.\n",
    "Depois vamos usar nosso dicionário para substituir as legendas (função `replace`) utilizando lógica de `regex`."
   ]
  },
  {
   "cell_type": "code",
   "execution_count": 76,
   "id": "5f660a45-69ec-43fe-aaed-e5b2435e6893",
   "metadata": {},
   "outputs": [],
   "source": [
    "tabelao_com_diff['Segment'] = tabelao_com_diff['R'].astype(str) + tabelao_com_diff['F'].astype(str)\n",
    "tabelao_com_diff['Segment'] = tabelao_com_diff['Segment'].replace(segt_map, regex=True)"
   ]
  },
  {
   "cell_type": "markdown",
   "id": "df21ac89-574d-4b35-811a-f690d866c81f",
   "metadata": {},
   "source": [
    "#### Confira o resultado final"
   ]
  },
  {
   "cell_type": "code",
   "execution_count": 213,
   "id": "61ff4eaf-4ddd-458d-a890-595ecb4fdd94",
   "metadata": {},
   "outputs": [
    {
     "data": {
      "text/html": [
       "<div>\n",
       "<style scoped>\n",
       "    .dataframe tbody tr th:only-of-type {\n",
       "        vertical-align: middle;\n",
       "    }\n",
       "\n",
       "    .dataframe tbody tr th {\n",
       "        vertical-align: top;\n",
       "    }\n",
       "\n",
       "    .dataframe thead th {\n",
       "        text-align: right;\n",
       "    }\n",
       "</style>\n",
       "<table border=\"1\" class=\"dataframe\">\n",
       "  <thead>\n",
       "    <tr style=\"text-align: right;\">\n",
       "      <th></th>\n",
       "      <th>Customer ID</th>\n",
       "      <th>data_pedido_x</th>\n",
       "      <th>data_pedido_y</th>\n",
       "      <th>Order ID</th>\n",
       "      <th>Profit</th>\n",
       "      <th>diff_ultima_compra_meses_x</th>\n",
       "      <th>diff_ultima_compra_meses_y</th>\n",
       "      <th>Profit_per_month</th>\n",
       "      <th>frequencia_lifetime</th>\n",
       "      <th>R</th>\n",
       "      <th>F</th>\n",
       "      <th>M</th>\n",
       "      <th>Segment</th>\n",
       "    </tr>\n",
       "  </thead>\n",
       "  <tbody>\n",
       "    <tr>\n",
       "      <th>0</th>\n",
       "      <td>AA-10315</td>\n",
       "      <td>2014-03-31</td>\n",
       "      <td>2017-06-29</td>\n",
       "      <td>5</td>\n",
       "      <td>-362.8825</td>\n",
       "      <td>7</td>\n",
       "      <td>46</td>\n",
       "      <td>-7.888750</td>\n",
       "      <td>0.108696</td>\n",
       "      <td>1</td>\n",
       "      <td>2</td>\n",
       "      <td>1</td>\n",
       "      <td>Hibernando</td>\n",
       "    </tr>\n",
       "    <tr>\n",
       "      <th>1</th>\n",
       "      <td>AA-10375</td>\n",
       "      <td>2014-04-21</td>\n",
       "      <td>2017-12-11</td>\n",
       "      <td>9</td>\n",
       "      <td>277.3824</td>\n",
       "      <td>1</td>\n",
       "      <td>45</td>\n",
       "      <td>6.164053</td>\n",
       "      <td>0.200000</td>\n",
       "      <td>2</td>\n",
       "      <td>4</td>\n",
       "      <td>3</td>\n",
       "      <td>Em risco</td>\n",
       "    </tr>\n",
       "    <tr>\n",
       "      <th>2</th>\n",
       "      <td>AA-10480</td>\n",
       "      <td>2014-05-04</td>\n",
       "      <td>2017-04-15</td>\n",
       "      <td>4</td>\n",
       "      <td>435.8274</td>\n",
       "      <td>9</td>\n",
       "      <td>45</td>\n",
       "      <td>9.685053</td>\n",
       "      <td>0.088889</td>\n",
       "      <td>2</td>\n",
       "      <td>1</td>\n",
       "      <td>4</td>\n",
       "      <td>Hibernando</td>\n",
       "    </tr>\n",
       "    <tr>\n",
       "      <th>3</th>\n",
       "      <td>AA-10645</td>\n",
       "      <td>2014-06-22</td>\n",
       "      <td>2017-11-05</td>\n",
       "      <td>6</td>\n",
       "      <td>857.8033</td>\n",
       "      <td>2</td>\n",
       "      <td>43</td>\n",
       "      <td>19.948914</td>\n",
       "      <td>0.139535</td>\n",
       "      <td>2</td>\n",
       "      <td>2</td>\n",
       "      <td>5</td>\n",
       "      <td>Hibernando</td>\n",
       "    </tr>\n",
       "    <tr>\n",
       "      <th>4</th>\n",
       "      <td>AB-10015</td>\n",
       "      <td>2014-02-18</td>\n",
       "      <td>2016-11-10</td>\n",
       "      <td>3</td>\n",
       "      <td>129.3465</td>\n",
       "      <td>14</td>\n",
       "      <td>48</td>\n",
       "      <td>2.694719</td>\n",
       "      <td>0.062500</td>\n",
       "      <td>1</td>\n",
       "      <td>1</td>\n",
       "      <td>2</td>\n",
       "      <td>Hibernando</td>\n",
       "    </tr>\n",
       "  </tbody>\n",
       "</table>\n",
       "</div>"
      ],
      "text/plain": [
       "  Customer ID data_pedido_x data_pedido_y  Order ID    Profit  \\\n",
       "0    AA-10315    2014-03-31    2017-06-29         5 -362.8825   \n",
       "1    AA-10375    2014-04-21    2017-12-11         9  277.3824   \n",
       "2    AA-10480    2014-05-04    2017-04-15         4  435.8274   \n",
       "3    AA-10645    2014-06-22    2017-11-05         6  857.8033   \n",
       "4    AB-10015    2014-02-18    2016-11-10         3  129.3465   \n",
       "\n",
       "   diff_ultima_compra_meses_x  diff_ultima_compra_meses_y  Profit_per_month  \\\n",
       "0                           7                          46         -7.888750   \n",
       "1                           1                          45          6.164053   \n",
       "2                           9                          45          9.685053   \n",
       "3                           2                          43         19.948914   \n",
       "4                          14                          48          2.694719   \n",
       "\n",
       "   frequencia_lifetime  R  F  M     Segment  \n",
       "0             0.108696  1  2  1  Hibernando  \n",
       "1             0.200000  2  4  3    Em risco  \n",
       "2             0.088889  2  1  4  Hibernando  \n",
       "3             0.139535  2  2  5  Hibernando  \n",
       "4             0.062500  1  1  2  Hibernando  "
      ]
     },
     "execution_count": 213,
     "metadata": {},
     "output_type": "execute_result"
    }
   ],
   "source": [
    "tabelao_com_diff.head()"
   ]
  },
  {
   "cell_type": "code",
   "execution_count": 95,
   "id": "3d24faee-bcf8-47c9-b4b0-6e40c1eb5101",
   "metadata": {},
   "outputs": [
    {
     "data": {
      "image/png": "[encoded data removed]",
      "text/plain": [
       "<Figure size 600x400 with 1 Axes>"
      ]
     },
     "metadata": {},
     "output_type": "display_data"
    }
   ],
   "source": [
    "segmentos=tabelao_com_diff.groupby('Segment')['Customer ID'].count().sort_values(ascending=False)\n",
    "plt.figure(figsize=(6,4))\n",
    "plt.barh(segmentos.index, segmentos.values, color='darkred')\n",
    "plt.title('Clientes por segmento')\n",
    "plt.show()"
   ]
  },
  {
   "cell_type": "markdown",
   "id": "08cf94f8-3729-4eca-8188-81d531a1c8fd",
   "metadata": {},
   "source": [
    "#### Considerações"
   ]
  },
  {
   "cell_type": "markdown",
   "id": "899a92dd-962c-4a6b-a4d6-d898d9042e8d",
   "metadata": {},
   "source": [
    "Um dos principais benefícios da postura _data-driven_ é a possibilidade de orientar estratégias de marketing de forma mais precisa e personalizada. Com uma análise detalhada sobre o comportamento do consumidor, preferências e segmentação de mercado, podemos desenvolver campanhas de marketing mais assertivas, que atingem diretamente o público-alvo e geram um retorno mais significativo sobre o investimento."
   ]
  }
 ],
 "metadata": {
  "kernelspec": {
   "display_name": "Python 3 (ipykernel)",
   "language": "python",
   "name": "python3"
  },
  "language_info": {
   "codemirror_mode": {
    "name": "ipython",
    "version": 3
   },
   "file_extension": ".py",
   "mimetype": "text/x-python",
   "name": "python",
   "nbconvert_exporter": "python",
   "pygments_lexer": "ipython3",
   "version": "3.11.7"
  }
 },
 "nbformat": 4,
 "nbformat_minor": 5
}
