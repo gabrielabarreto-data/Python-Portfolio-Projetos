{
 "cells": [
  {
   "cell_type": "markdown",
   "id": "ba314e9b-6798-4703-884b-c208b09775e1",
   "metadata": {},
   "source": [
    "# Superstore (Parte I): respondendo perguntas de negócio com Python"
   ]
  },
  {
   "cell_type": "markdown",
   "id": "1665cdaa-dd4b-4a82-851f-0e2df0c07c07",
   "metadata": {},
   "source": [
    "A proposta deste documento é apresentar um exercício de:\n",
    "- **Análise exploratória de dados (EDA)**: manipulação e análise de dados brutos, identificando padrões e realizando a sua limpeza;\n",
    "- **Análise de grandes volumes de dados**: trabalho com bases de dados grandes e/ou não estruturados;\n",
    "- **Visualização de dados**: criação de dashboards utilizando bibliotecas Python como Plotly, Matplotlib e Seaborn;\n",
    "- **Prática de projetos relacionados a negócios**: geração de _insights_ com o intuito de otimizar processos e melhorar performances."
   ]
  },
  {
   "cell_type": "markdown",
   "id": "b8fb8a00-bdd1-419c-8524-96ed5513b253",
   "metadata": {},
   "source": [
    "Com um _dataset_ público da Superstore, obtido por meio plataforma Kaggle, foram respondidas algumas perguntas de negócios. O intuito desta atividade é praticar não apenas habilidades técnicas e ferramentas, mas também a capacidade de resolver problemas reais e comunicar impressões de maneira clara."
   ]
  },
  {
   "cell_type": "markdown",
   "id": "3f3368c2-2dcb-4055-b58d-c12399bd1dd0",
   "metadata": {},
   "source": [
    "## 0. Importando bibliotecas 📔"
   ]
  },
  {
   "cell_type": "code",
   "execution_count": 1,
   "id": "d41939f5-364f-438a-8397-f19b3ac139c4",
   "metadata": {},
   "outputs": [],
   "source": [
    "import pandas as pd\n",
    "import matplotlib.pyplot as plt\n",
    "import math\n",
    "import seaborn as sns\n",
    "\n",
    "import datetime\n",
    "import time\n",
    "from datetime import date\n",
    "from datetime import datetime, date, time\n",
    "\n",
    "%matplotlib inline\n",
    "\n",
    "from functools import reduce\n",
    "\n",
    "import warnings\n",
    "warnings.filterwarnings('ignore')"
   ]
  },
  {
   "cell_type": "code",
   "execution_count": 2,
   "id": "1164a0d7-17fa-4329-9a78-4a2c2b901c4e",
   "metadata": {},
   "outputs": [],
   "source": [
    "# Colocando estilo nos gráficos\n",
    "plt.style.use('seaborn-v0_8-whitegrid')"
   ]
  },
  {
   "cell_type": "markdown",
   "id": "d8255d08-07c8-4585-a805-96bfcb3f9320",
   "metadata": {},
   "source": [
    "## 1. Importando os dados 🎲"
   ]
  },
  {
   "cell_type": "markdown",
   "id": "d3658077-024d-4114-a343-06d5639333d9",
   "metadata": {},
   "source": [
    "Primeiramente, abriremos o nosso arquivo e daremos uma espiada nas primeiras linhas de nossa tabela:"
   ]
  },
  {
   "cell_type": "code",
   "execution_count": 3,
   "id": "89a6fe64-66f8-45e4-b4d9-e56fede46850",
   "metadata": {},
   "outputs": [],
   "source": [
    "data_source=pd.read_csv('superstore.csv', encoding='ISO-8859-1')"
   ]
  },
  {
   "cell_type": "code",
   "execution_count": 6,
   "id": "0feb6ef6-b8a5-43fb-8969-eb2b9d947ba9",
   "metadata": {},
   "outputs": [
    {
     "data": {
      "text/html": [
       "<div>\n",
       "<style scoped>\n",
       "    .dataframe tbody tr th:only-of-type {\n",
       "        vertical-align: middle;\n",
       "    }\n",
       "\n",
       "    .dataframe tbody tr th {\n",
       "        vertical-align: top;\n",
       "    }\n",
       "\n",
       "    .dataframe thead th {\n",
       "        text-align: right;\n",
       "    }\n",
       "</style>\n",
       "<table border=\"1\" class=\"dataframe\">\n",
       "  <thead>\n",
       "    <tr style=\"text-align: right;\">\n",
       "      <th></th>\n",
       "      <th>Row ID</th>\n",
       "      <th>Order ID</th>\n",
       "      <th>Order Date</th>\n",
       "      <th>Ship Date</th>\n",
       "      <th>Ship Mode</th>\n",
       "      <th>Customer ID</th>\n",
       "      <th>Customer Name</th>\n",
       "      <th>Segment</th>\n",
       "      <th>Country</th>\n",
       "      <th>City</th>\n",
       "      <th>...</th>\n",
       "      <th>Postal Code</th>\n",
       "      <th>Region</th>\n",
       "      <th>Product ID</th>\n",
       "      <th>Category</th>\n",
       "      <th>Sub-Category</th>\n",
       "      <th>Product Name</th>\n",
       "      <th>Sales</th>\n",
       "      <th>Quantity</th>\n",
       "      <th>Discount</th>\n",
       "      <th>Profit</th>\n",
       "    </tr>\n",
       "  </thead>\n",
       "  <tbody>\n",
       "    <tr>\n",
       "      <th>0</th>\n",
       "      <td>1</td>\n",
       "      <td>CA-2016-152156</td>\n",
       "      <td>11/8/2016</td>\n",
       "      <td>11/11/2016</td>\n",
       "      <td>Second Class</td>\n",
       "      <td>CG-12520</td>\n",
       "      <td>Claire Gute</td>\n",
       "      <td>Consumer</td>\n",
       "      <td>United States</td>\n",
       "      <td>Henderson</td>\n",
       "      <td>...</td>\n",
       "      <td>42420</td>\n",
       "      <td>South</td>\n",
       "      <td>FUR-BO-10001798</td>\n",
       "      <td>Furniture</td>\n",
       "      <td>Bookcases</td>\n",
       "      <td>Bush Somerset Collection Bookcase</td>\n",
       "      <td>261.9600</td>\n",
       "      <td>2</td>\n",
       "      <td>0.00</td>\n",
       "      <td>41.9136</td>\n",
       "    </tr>\n",
       "    <tr>\n",
       "      <th>1</th>\n",
       "      <td>2</td>\n",
       "      <td>CA-2016-152156</td>\n",
       "      <td>11/8/2016</td>\n",
       "      <td>11/11/2016</td>\n",
       "      <td>Second Class</td>\n",
       "      <td>CG-12520</td>\n",
       "      <td>Claire Gute</td>\n",
       "      <td>Consumer</td>\n",
       "      <td>United States</td>\n",
       "      <td>Henderson</td>\n",
       "      <td>...</td>\n",
       "      <td>42420</td>\n",
       "      <td>South</td>\n",
       "      <td>FUR-CH-10000454</td>\n",
       "      <td>Furniture</td>\n",
       "      <td>Chairs</td>\n",
       "      <td>Hon Deluxe Fabric Upholstered Stacking Chairs,...</td>\n",
       "      <td>731.9400</td>\n",
       "      <td>3</td>\n",
       "      <td>0.00</td>\n",
       "      <td>219.5820</td>\n",
       "    </tr>\n",
       "    <tr>\n",
       "      <th>2</th>\n",
       "      <td>3</td>\n",
       "      <td>CA-2016-138688</td>\n",
       "      <td>6/12/2016</td>\n",
       "      <td>6/16/2016</td>\n",
       "      <td>Second Class</td>\n",
       "      <td>DV-13045</td>\n",
       "      <td>Darrin Van Huff</td>\n",
       "      <td>Corporate</td>\n",
       "      <td>United States</td>\n",
       "      <td>Los Angeles</td>\n",
       "      <td>...</td>\n",
       "      <td>90036</td>\n",
       "      <td>West</td>\n",
       "      <td>OFF-LA-10000240</td>\n",
       "      <td>Office Supplies</td>\n",
       "      <td>Labels</td>\n",
       "      <td>Self-Adhesive Address Labels for Typewriters b...</td>\n",
       "      <td>14.6200</td>\n",
       "      <td>2</td>\n",
       "      <td>0.00</td>\n",
       "      <td>6.8714</td>\n",
       "    </tr>\n",
       "    <tr>\n",
       "      <th>3</th>\n",
       "      <td>4</td>\n",
       "      <td>US-2015-108966</td>\n",
       "      <td>10/11/2015</td>\n",
       "      <td>10/18/2015</td>\n",
       "      <td>Standard Class</td>\n",
       "      <td>SO-20335</td>\n",
       "      <td>Sean O'Donnell</td>\n",
       "      <td>Consumer</td>\n",
       "      <td>United States</td>\n",
       "      <td>Fort Lauderdale</td>\n",
       "      <td>...</td>\n",
       "      <td>33311</td>\n",
       "      <td>South</td>\n",
       "      <td>FUR-TA-10000577</td>\n",
       "      <td>Furniture</td>\n",
       "      <td>Tables</td>\n",
       "      <td>Bretford CR4500 Series Slim Rectangular Table</td>\n",
       "      <td>957.5775</td>\n",
       "      <td>5</td>\n",
       "      <td>0.45</td>\n",
       "      <td>-383.0310</td>\n",
       "    </tr>\n",
       "    <tr>\n",
       "      <th>4</th>\n",
       "      <td>5</td>\n",
       "      <td>US-2015-108966</td>\n",
       "      <td>10/11/2015</td>\n",
       "      <td>10/18/2015</td>\n",
       "      <td>Standard Class</td>\n",
       "      <td>SO-20335</td>\n",
       "      <td>Sean O'Donnell</td>\n",
       "      <td>Consumer</td>\n",
       "      <td>United States</td>\n",
       "      <td>Fort Lauderdale</td>\n",
       "      <td>...</td>\n",
       "      <td>33311</td>\n",
       "      <td>South</td>\n",
       "      <td>OFF-ST-10000760</td>\n",
       "      <td>Office Supplies</td>\n",
       "      <td>Storage</td>\n",
       "      <td>Eldon Fold 'N Roll Cart System</td>\n",
       "      <td>22.3680</td>\n",
       "      <td>2</td>\n",
       "      <td>0.20</td>\n",
       "      <td>2.5164</td>\n",
       "    </tr>\n",
       "  </tbody>\n",
       "</table>\n",
       "<p>5 rows × 21 columns</p>\n",
       "</div>"
      ],
      "text/plain": [
       "   Row ID        Order ID  Order Date   Ship Date       Ship Mode Customer ID  \\\n",
       "0       1  CA-2016-152156   11/8/2016  11/11/2016    Second Class    CG-12520   \n",
       "1       2  CA-2016-152156   11/8/2016  11/11/2016    Second Class    CG-12520   \n",
       "2       3  CA-2016-138688   6/12/2016   6/16/2016    Second Class    DV-13045   \n",
       "3       4  US-2015-108966  10/11/2015  10/18/2015  Standard Class    SO-20335   \n",
       "4       5  US-2015-108966  10/11/2015  10/18/2015  Standard Class    SO-20335   \n",
       "\n",
       "     Customer Name    Segment        Country             City  ...  \\\n",
       "0      Claire Gute   Consumer  United States        Henderson  ...   \n",
       "1      Claire Gute   Consumer  United States        Henderson  ...   \n",
       "2  Darrin Van Huff  Corporate  United States      Los Angeles  ...   \n",
       "3   Sean O'Donnell   Consumer  United States  Fort Lauderdale  ...   \n",
       "4   Sean O'Donnell   Consumer  United States  Fort Lauderdale  ...   \n",
       "\n",
       "  Postal Code  Region       Product ID         Category Sub-Category  \\\n",
       "0       42420   South  FUR-BO-10001798        Furniture    Bookcases   \n",
       "1       42420   South  FUR-CH-10000454        Furniture       Chairs   \n",
       "2       90036    West  OFF-LA-10000240  Office Supplies       Labels   \n",
       "3       33311   South  FUR-TA-10000577        Furniture       Tables   \n",
       "4       33311   South  OFF-ST-10000760  Office Supplies      Storage   \n",
       "\n",
       "                                        Product Name     Sales  Quantity  \\\n",
       "0                  Bush Somerset Collection Bookcase  261.9600         2   \n",
       "1  Hon Deluxe Fabric Upholstered Stacking Chairs,...  731.9400         3   \n",
       "2  Self-Adhesive Address Labels for Typewriters b...   14.6200         2   \n",
       "3      Bretford CR4500 Series Slim Rectangular Table  957.5775         5   \n",
       "4                     Eldon Fold 'N Roll Cart System   22.3680         2   \n",
       "\n",
       "   Discount    Profit  \n",
       "0      0.00   41.9136  \n",
       "1      0.00  219.5820  \n",
       "2      0.00    6.8714  \n",
       "3      0.45 -383.0310  \n",
       "4      0.20    2.5164  \n",
       "\n",
       "[5 rows x 21 columns]"
      ]
     },
     "execution_count": 6,
     "metadata": {},
     "output_type": "execute_result"
    }
   ],
   "source": [
    "data_source.head()"
   ]
  },
  {
   "cell_type": "markdown",
   "id": "4ded2f21-fe2a-4022-903a-7dd99f6ac570",
   "metadata": {},
   "source": [
    "Em seguida, criaremos uma cópia para edição. Com uma versão _raw_, estamos seguros para manipular os dados sem arrependimentos caso algo dê errado! Vamos chamar a tabela de _data_.\n"
   ]
  },
  {
   "cell_type": "code",
   "execution_count": 7,
   "id": "f69a4c08-1ae3-431a-bdad-f23989acc0e9",
   "metadata": {},
   "outputs": [],
   "source": [
    "data=data_source.copy()"
   ]
  },
  {
   "cell_type": "markdown",
   "id": "f9e07103-3c6a-4e1f-977c-c66770647bf9",
   "metadata": {},
   "source": [
    "## 2. Explorando os dados (sanity check) 🔍"
   ]
  },
  {
   "cell_type": "markdown",
   "id": "335e7d09-348d-44c5-b994-306c8d5cb3e1",
   "metadata": {},
   "source": [
    "Uma boa prática da análise de dados é averiguar se não há informações estranhas como datas negativas, números em colunas que deveriam ser texto, dentre outras anomalias. "
   ]
  },
  {
   "cell_type": "markdown",
   "id": "8b4ab970-5898-4d16-9c66-11dcea3eeaee",
   "metadata": {},
   "source": [
    "Nas próximas células, faremos algumas investigações. A primeira delas é descobrir o tamanho de nossa tabela."
   ]
  },
  {
   "cell_type": "code",
   "execution_count": 14,
   "id": "8bb66ca7-5b10-4fec-a250-1d37eae41bae",
   "metadata": {},
   "outputs": [
    {
     "data": {
      "text/plain": [
       "(9994, 21)"
      ]
     },
     "execution_count": 14,
     "metadata": {},
     "output_type": "execute_result"
    }
   ],
   "source": [
    "data.shape"
   ]
  },
  {
   "cell_type": "markdown",
   "id": "6384d882-1142-4145-aa31-06876126b628",
   "metadata": {},
   "source": [
    "Em seguida, vamos averiguar quais são as nossas colunas!"
   ]
  },
  {
   "cell_type": "code",
   "execution_count": 15,
   "id": "44a45f09-c190-4cf0-9cfb-8f343a9c6d60",
   "metadata": {},
   "outputs": [
    {
     "data": {
      "text/plain": [
       "Index(['Row ID', 'Order ID', 'Order Date', 'Ship Date', 'Ship Mode',\n",
       "       'Customer ID', 'Customer Name', 'Segment', 'Country', 'City', 'State',\n",
       "       'Postal Code', 'Region', 'Product ID', 'Category', 'Sub-Category',\n",
       "       'Product Name', 'Sales', 'Quantity', 'Discount', 'Profit'],\n",
       "      dtype='object')"
      ]
     },
     "execution_count": 15,
     "metadata": {},
     "output_type": "execute_result"
    }
   ],
   "source": [
    "data.columns"
   ]
  },
  {
   "cell_type": "markdown",
   "id": "61e02db7-4824-4793-920b-c075f17797fa",
   "metadata": {},
   "source": [
    "Precisamos ainda saber em que formato estão os dados, visto que informações em formatos específicos podem exigir operações diferentes!\n",
    "Pense, por exemplo, que é impossível realizar operações matemáticas em colunas onde os dados numéricos estão escritos por extenso (três, dois...)."
   ]
  },
  {
   "cell_type": "code",
   "execution_count": 16,
   "id": "c115853c-8e04-4640-ba12-fd40774be152",
   "metadata": {},
   "outputs": [
    {
     "data": {
      "text/plain": [
       "Row ID             int64\n",
       "Order ID          object\n",
       "Order Date        object\n",
       "Ship Date         object\n",
       "Ship Mode         object\n",
       "Customer ID       object\n",
       "Customer Name     object\n",
       "Segment           object\n",
       "Country           object\n",
       "City              object\n",
       "State             object\n",
       "Postal Code        int64\n",
       "Region            object\n",
       "Product ID        object\n",
       "Category          object\n",
       "Sub-Category      object\n",
       "Product Name      object\n",
       "Sales            float64\n",
       "Quantity           int64\n",
       "Discount         float64\n",
       "Profit           float64\n",
       "dtype: object"
      ]
     },
     "execution_count": 16,
     "metadata": {},
     "output_type": "execute_result"
    }
   ],
   "source": [
    "data.dtypes"
   ]
  },
  {
   "cell_type": "markdown",
   "id": "a22b0eeb-30bc-4c0b-b1fb-5d207813dc2a",
   "metadata": {},
   "source": [
    "✍️ Podemos notar que algumas colunas, como _Ship Date_, estão em formato de objeto. Isso signfica que precisaremos trabalhar com a formatação de datas. Felizmente, já importamos as bibliotecas necessárias para isso (_time, datetime_)."
   ]
  },
  {
   "cell_type": "markdown",
   "id": "eaf50b37-d61a-4869-863d-a984c9e00f13",
   "metadata": {},
   "source": [
    "Prosseguindo com a exploração: colunas de IDs não podem estar vazias de forma alguma. Vamos realizar um teste utilizando a função `isnull`, que seleciona linhas nulas em quaiquer colunas que indicarmos. "
   ]
  },
  {
   "cell_type": "code",
   "execution_count": 17,
   "id": "5241ebcc-5904-4ba4-859a-307db3e58f3d",
   "metadata": {},
   "outputs": [
    {
     "data": {
      "text/html": [
       "<div>\n",
       "<style scoped>\n",
       "    .dataframe tbody tr th:only-of-type {\n",
       "        vertical-align: middle;\n",
       "    }\n",
       "\n",
       "    .dataframe tbody tr th {\n",
       "        vertical-align: top;\n",
       "    }\n",
       "\n",
       "    .dataframe thead th {\n",
       "        text-align: right;\n",
       "    }\n",
       "</style>\n",
       "<table border=\"1\" class=\"dataframe\">\n",
       "  <thead>\n",
       "    <tr style=\"text-align: right;\">\n",
       "      <th></th>\n",
       "      <th>Row ID</th>\n",
       "      <th>Order ID</th>\n",
       "      <th>Order Date</th>\n",
       "      <th>Ship Date</th>\n",
       "      <th>Ship Mode</th>\n",
       "      <th>Customer ID</th>\n",
       "      <th>Customer Name</th>\n",
       "      <th>Segment</th>\n",
       "      <th>Country</th>\n",
       "      <th>City</th>\n",
       "      <th>...</th>\n",
       "      <th>Postal Code</th>\n",
       "      <th>Region</th>\n",
       "      <th>Product ID</th>\n",
       "      <th>Category</th>\n",
       "      <th>Sub-Category</th>\n",
       "      <th>Product Name</th>\n",
       "      <th>Sales</th>\n",
       "      <th>Quantity</th>\n",
       "      <th>Discount</th>\n",
       "      <th>Profit</th>\n",
       "    </tr>\n",
       "  </thead>\n",
       "  <tbody>\n",
       "  </tbody>\n",
       "</table>\n",
       "<p>0 rows × 21 columns</p>\n",
       "</div>"
      ],
      "text/plain": [
       "Empty DataFrame\n",
       "Columns: [Row ID, Order ID, Order Date, Ship Date, Ship Mode, Customer ID, Customer Name, Segment, Country, City, State, Postal Code, Region, Product ID, Category, Sub-Category, Product Name, Sales, Quantity, Discount, Profit]\n",
       "Index: []\n",
       "\n",
       "[0 rows x 21 columns]"
      ]
     },
     "execution_count": 17,
     "metadata": {},
     "output_type": "execute_result"
    }
   ],
   "source": [
    "data[data['Order ID'].isnull()]"
   ]
  },
  {
   "cell_type": "markdown",
   "id": "8c6f1409-661f-4a58-ac09-4102030b8c7c",
   "metadata": {},
   "source": [
    "Também podemos fazer uma averiguação genérica. Visto que cada resultado Falso equivale a 0 e cada resultado Verdadeiro equivale a 1, faremos uma soma para saber quantas ocorrências nulas existem neste _dataset_."
   ]
  },
  {
   "cell_type": "code",
   "execution_count": 18,
   "id": "cb9543b7-8ad0-416f-9c04-2c473ce8d9be",
   "metadata": {},
   "outputs": [
    {
     "data": {
      "text/plain": [
       "Row ID           0\n",
       "Order ID         0\n",
       "Order Date       0\n",
       "Ship Date        0\n",
       "Ship Mode        0\n",
       "Customer ID      0\n",
       "Customer Name    0\n",
       "Segment          0\n",
       "Country          0\n",
       "City             0\n",
       "State            0\n",
       "Postal Code      0\n",
       "Region           0\n",
       "Product ID       0\n",
       "Category         0\n",
       "Sub-Category     0\n",
       "Product Name     0\n",
       "Sales            0\n",
       "Quantity         0\n",
       "Discount         0\n",
       "Profit           0\n",
       "dtype: int64"
      ]
     },
     "execution_count": 18,
     "metadata": {},
     "output_type": "execute_result"
    }
   ],
   "source": [
    "data.isnull().sum()"
   ]
  },
  {
   "cell_type": "markdown",
   "id": "0512d637-1181-4919-8882-ac9881efa215",
   "metadata": {},
   "source": [
    "**Sanity check de business**"
   ]
  },
  {
   "cell_type": "markdown",
   "id": "6a00870e-3509-42e3-b4c9-3b0266235fd0",
   "metadata": {},
   "source": [
    "Em um _sanity check_ de _business_, vamos procurar por informações que não fazem sentido do ponto de vista do negócio, como valores extremamente desviantes. A função `describe` pode nos oferecer algumas informações úteis, como a contagem linhas por coluna, valores médios, desvio padrão, valores máximo e mínimo, dentre outras."
   ]
  },
  {
   "cell_type": "code",
   "execution_count": 19,
   "id": "2d771f3a-f478-4c75-b1af-cd47de7a1eaf",
   "metadata": {},
   "outputs": [
    {
     "data": {
      "text/html": [
       "<div>\n",
       "<style scoped>\n",
       "    .dataframe tbody tr th:only-of-type {\n",
       "        vertical-align: middle;\n",
       "    }\n",
       "\n",
       "    .dataframe tbody tr th {\n",
       "        vertical-align: top;\n",
       "    }\n",
       "\n",
       "    .dataframe thead th {\n",
       "        text-align: right;\n",
       "    }\n",
       "</style>\n",
       "<table border=\"1\" class=\"dataframe\">\n",
       "  <thead>\n",
       "    <tr style=\"text-align: right;\">\n",
       "      <th></th>\n",
       "      <th>Row ID</th>\n",
       "      <th>Postal Code</th>\n",
       "      <th>Sales</th>\n",
       "      <th>Quantity</th>\n",
       "      <th>Discount</th>\n",
       "      <th>Profit</th>\n",
       "    </tr>\n",
       "  </thead>\n",
       "  <tbody>\n",
       "    <tr>\n",
       "      <th>count</th>\n",
       "      <td>9994.000000</td>\n",
       "      <td>9994.000000</td>\n",
       "      <td>9994.000000</td>\n",
       "      <td>9994.000000</td>\n",
       "      <td>9994.000000</td>\n",
       "      <td>9994.000000</td>\n",
       "    </tr>\n",
       "    <tr>\n",
       "      <th>mean</th>\n",
       "      <td>4997.500000</td>\n",
       "      <td>55190.379428</td>\n",
       "      <td>229.858001</td>\n",
       "      <td>3.789574</td>\n",
       "      <td>0.156203</td>\n",
       "      <td>28.656896</td>\n",
       "    </tr>\n",
       "    <tr>\n",
       "      <th>std</th>\n",
       "      <td>2885.163629</td>\n",
       "      <td>32063.693350</td>\n",
       "      <td>623.245101</td>\n",
       "      <td>2.225110</td>\n",
       "      <td>0.206452</td>\n",
       "      <td>234.260108</td>\n",
       "    </tr>\n",
       "    <tr>\n",
       "      <th>min</th>\n",
       "      <td>1.000000</td>\n",
       "      <td>1040.000000</td>\n",
       "      <td>0.444000</td>\n",
       "      <td>1.000000</td>\n",
       "      <td>0.000000</td>\n",
       "      <td>-6599.978000</td>\n",
       "    </tr>\n",
       "    <tr>\n",
       "      <th>25%</th>\n",
       "      <td>2499.250000</td>\n",
       "      <td>23223.000000</td>\n",
       "      <td>17.280000</td>\n",
       "      <td>2.000000</td>\n",
       "      <td>0.000000</td>\n",
       "      <td>1.728750</td>\n",
       "    </tr>\n",
       "    <tr>\n",
       "      <th>50%</th>\n",
       "      <td>4997.500000</td>\n",
       "      <td>56430.500000</td>\n",
       "      <td>54.490000</td>\n",
       "      <td>3.000000</td>\n",
       "      <td>0.200000</td>\n",
       "      <td>8.666500</td>\n",
       "    </tr>\n",
       "    <tr>\n",
       "      <th>75%</th>\n",
       "      <td>7495.750000</td>\n",
       "      <td>90008.000000</td>\n",
       "      <td>209.940000</td>\n",
       "      <td>5.000000</td>\n",
       "      <td>0.200000</td>\n",
       "      <td>29.364000</td>\n",
       "    </tr>\n",
       "    <tr>\n",
       "      <th>max</th>\n",
       "      <td>9994.000000</td>\n",
       "      <td>99301.000000</td>\n",
       "      <td>22638.480000</td>\n",
       "      <td>14.000000</td>\n",
       "      <td>0.800000</td>\n",
       "      <td>8399.976000</td>\n",
       "    </tr>\n",
       "  </tbody>\n",
       "</table>\n",
       "</div>"
      ],
      "text/plain": [
       "            Row ID   Postal Code         Sales     Quantity     Discount  \\\n",
       "count  9994.000000   9994.000000   9994.000000  9994.000000  9994.000000   \n",
       "mean   4997.500000  55190.379428    229.858001     3.789574     0.156203   \n",
       "std    2885.163629  32063.693350    623.245101     2.225110     0.206452   \n",
       "min       1.000000   1040.000000      0.444000     1.000000     0.000000   \n",
       "25%    2499.250000  23223.000000     17.280000     2.000000     0.000000   \n",
       "50%    4997.500000  56430.500000     54.490000     3.000000     0.200000   \n",
       "75%    7495.750000  90008.000000    209.940000     5.000000     0.200000   \n",
       "max    9994.000000  99301.000000  22638.480000    14.000000     0.800000   \n",
       "\n",
       "            Profit  \n",
       "count  9994.000000  \n",
       "mean     28.656896  \n",
       "std     234.260108  \n",
       "min   -6599.978000  \n",
       "25%       1.728750  \n",
       "50%       8.666500  \n",
       "75%      29.364000  \n",
       "max    8399.976000  "
      ]
     },
     "execution_count": 19,
     "metadata": {},
     "output_type": "execute_result"
    }
   ],
   "source": [
    "data.describe()"
   ]
  },
  {
   "cell_type": "markdown",
   "id": "5c734929-6d54-41ad-888e-490d566a7814",
   "metadata": {},
   "source": [
    "O que encontramos nesse processo? "
   ]
  },
  {
   "cell_type": "markdown",
   "id": "0c75cbbc-3fb9-400f-84f9-985e1974b9d5",
   "metadata": {},
   "source": [
    "Observe que, nos valores, mínimos, obtivemos um cliente com lucro negativo. Dentre outras \"coisas estranhas\", também foi computada uma venda de 44 centavos e clientes com descontos na faixa de 80%.\n",
    "Outro dado digno de nota é o valor das vendas no percentil 75%, que aparentemente se encontra muito distante de valor máximo de compra. Analisaremos as situações caso a caso!"
   ]
  },
  {
   "cell_type": "markdown",
   "id": "23870d1d-c5a1-4628-9470-987b0cc1a79f",
   "metadata": {},
   "source": [
    "**Cliente com lucro negativo**"
   ]
  },
  {
   "cell_type": "markdown",
   "id": "af5f6217-c881-49d6-8461-694ce79c340f",
   "metadata": {},
   "source": [
    "Precisamos detectar a linha onde se encontra o valor mínimo na coluna _Profit_. "
   ]
  },
  {
   "cell_type": "code",
   "execution_count": 22,
   "id": "0684470a-9328-4851-892d-ae814b20fdee",
   "metadata": {},
   "outputs": [
    {
     "data": {
      "text/html": [
       "<div>\n",
       "<style scoped>\n",
       "    .dataframe tbody tr th:only-of-type {\n",
       "        vertical-align: middle;\n",
       "    }\n",
       "\n",
       "    .dataframe tbody tr th {\n",
       "        vertical-align: top;\n",
       "    }\n",
       "\n",
       "    .dataframe thead th {\n",
       "        text-align: right;\n",
       "    }\n",
       "</style>\n",
       "<table border=\"1\" class=\"dataframe\">\n",
       "  <thead>\n",
       "    <tr style=\"text-align: right;\">\n",
       "      <th></th>\n",
       "      <th>Row ID</th>\n",
       "      <th>Order ID</th>\n",
       "      <th>Order Date</th>\n",
       "      <th>Ship Date</th>\n",
       "      <th>Ship Mode</th>\n",
       "      <th>Customer ID</th>\n",
       "      <th>Customer Name</th>\n",
       "      <th>Segment</th>\n",
       "      <th>Country</th>\n",
       "      <th>City</th>\n",
       "      <th>...</th>\n",
       "      <th>Postal Code</th>\n",
       "      <th>Region</th>\n",
       "      <th>Product ID</th>\n",
       "      <th>Category</th>\n",
       "      <th>Sub-Category</th>\n",
       "      <th>Product Name</th>\n",
       "      <th>Sales</th>\n",
       "      <th>Quantity</th>\n",
       "      <th>Discount</th>\n",
       "      <th>Profit</th>\n",
       "    </tr>\n",
       "  </thead>\n",
       "  <tbody>\n",
       "    <tr>\n",
       "      <th>7772</th>\n",
       "      <td>7773</td>\n",
       "      <td>CA-2016-108196</td>\n",
       "      <td>11/25/2016</td>\n",
       "      <td>12/2/2016</td>\n",
       "      <td>Standard Class</td>\n",
       "      <td>CS-12505</td>\n",
       "      <td>Cindy Stewart</td>\n",
       "      <td>Consumer</td>\n",
       "      <td>United States</td>\n",
       "      <td>Lancaster</td>\n",
       "      <td>...</td>\n",
       "      <td>43130</td>\n",
       "      <td>East</td>\n",
       "      <td>TEC-MA-10000418</td>\n",
       "      <td>Technology</td>\n",
       "      <td>Machines</td>\n",
       "      <td>Cubify CubeX 3D Printer Double Head Print</td>\n",
       "      <td>4499.985</td>\n",
       "      <td>5</td>\n",
       "      <td>0.7</td>\n",
       "      <td>-6599.978</td>\n",
       "    </tr>\n",
       "  </tbody>\n",
       "</table>\n",
       "<p>1 rows × 21 columns</p>\n",
       "</div>"
      ],
      "text/plain": [
       "      Row ID        Order ID  Order Date  Ship Date       Ship Mode  \\\n",
       "7772    7773  CA-2016-108196  11/25/2016  12/2/2016  Standard Class   \n",
       "\n",
       "     Customer ID  Customer Name   Segment        Country       City  ...  \\\n",
       "7772    CS-12505  Cindy Stewart  Consumer  United States  Lancaster  ...   \n",
       "\n",
       "     Postal Code  Region       Product ID    Category Sub-Category  \\\n",
       "7772       43130    East  TEC-MA-10000418  Technology     Machines   \n",
       "\n",
       "                                   Product Name     Sales  Quantity  Discount  \\\n",
       "7772  Cubify CubeX 3D Printer Double Head Print  4499.985         5       0.7   \n",
       "\n",
       "        Profit  \n",
       "7772 -6599.978  \n",
       "\n",
       "[1 rows x 21 columns]"
      ]
     },
     "execution_count": 22,
     "metadata": {},
     "output_type": "execute_result"
    }
   ],
   "source": [
    "data[data['Profit']==data['Profit'].min()]"
   ]
  },
  {
   "cell_type": "markdown",
   "id": "4f5dc68a-207c-4a2d-b01d-b46daddbb109",
   "metadata": {},
   "source": [
    "Observamos que uma cliente comprou cinco impressoras 3D e recebeu 70% de desconto. Por se tratar de um exercício hipotético, vamos supor que contatamos a equipe de vendas e o caso se tratava de uma situação de parceria realizada. Próximo!"
   ]
  },
  {
   "cell_type": "markdown",
   "id": "1c2a0e7c-8bd6-4b0b-b7cb-7f6665fe7e2e",
   "metadata": {},
   "source": [
    "**Venda de 44 centavos**"
   ]
  },
  {
   "cell_type": "markdown",
   "id": "071ab77f-206b-4851-b9ca-d5dc007cc187",
   "metadata": {},
   "source": [
    "Vamos utilizar a mesma função para investigar a ocorrência."
   ]
  },
  {
   "cell_type": "code",
   "execution_count": 23,
   "id": "eae2f8ff-1e52-49a6-a130-2d2239c4d49b",
   "metadata": {},
   "outputs": [
    {
     "data": {
      "text/html": [
       "<div>\n",
       "<style scoped>\n",
       "    .dataframe tbody tr th:only-of-type {\n",
       "        vertical-align: middle;\n",
       "    }\n",
       "\n",
       "    .dataframe tbody tr th {\n",
       "        vertical-align: top;\n",
       "    }\n",
       "\n",
       "    .dataframe thead th {\n",
       "        text-align: right;\n",
       "    }\n",
       "</style>\n",
       "<table border=\"1\" class=\"dataframe\">\n",
       "  <thead>\n",
       "    <tr style=\"text-align: right;\">\n",
       "      <th></th>\n",
       "      <th>Row ID</th>\n",
       "      <th>Order ID</th>\n",
       "      <th>Order Date</th>\n",
       "      <th>Ship Date</th>\n",
       "      <th>Ship Mode</th>\n",
       "      <th>Customer ID</th>\n",
       "      <th>Customer Name</th>\n",
       "      <th>Segment</th>\n",
       "      <th>Country</th>\n",
       "      <th>City</th>\n",
       "      <th>...</th>\n",
       "      <th>Postal Code</th>\n",
       "      <th>Region</th>\n",
       "      <th>Product ID</th>\n",
       "      <th>Category</th>\n",
       "      <th>Sub-Category</th>\n",
       "      <th>Product Name</th>\n",
       "      <th>Sales</th>\n",
       "      <th>Quantity</th>\n",
       "      <th>Discount</th>\n",
       "      <th>Profit</th>\n",
       "    </tr>\n",
       "  </thead>\n",
       "  <tbody>\n",
       "    <tr>\n",
       "      <th>4101</th>\n",
       "      <td>4102</td>\n",
       "      <td>US-2017-102288</td>\n",
       "      <td>6/19/2017</td>\n",
       "      <td>6/23/2017</td>\n",
       "      <td>Standard Class</td>\n",
       "      <td>ZC-21910</td>\n",
       "      <td>Zuschuss Carroll</td>\n",
       "      <td>Consumer</td>\n",
       "      <td>United States</td>\n",
       "      <td>Houston</td>\n",
       "      <td>...</td>\n",
       "      <td>77095</td>\n",
       "      <td>Central</td>\n",
       "      <td>OFF-AP-10002906</td>\n",
       "      <td>Office Supplies</td>\n",
       "      <td>Appliances</td>\n",
       "      <td>Hoover Replacement Belt for Commercial Guardsm...</td>\n",
       "      <td>0.444</td>\n",
       "      <td>1</td>\n",
       "      <td>0.8</td>\n",
       "      <td>-1.11</td>\n",
       "    </tr>\n",
       "  </tbody>\n",
       "</table>\n",
       "<p>1 rows × 21 columns</p>\n",
       "</div>"
      ],
      "text/plain": [
       "      Row ID        Order ID Order Date  Ship Date       Ship Mode  \\\n",
       "4101    4102  US-2017-102288  6/19/2017  6/23/2017  Standard Class   \n",
       "\n",
       "     Customer ID     Customer Name   Segment        Country     City  ...  \\\n",
       "4101    ZC-21910  Zuschuss Carroll  Consumer  United States  Houston  ...   \n",
       "\n",
       "     Postal Code   Region       Product ID         Category Sub-Category  \\\n",
       "4101       77095  Central  OFF-AP-10002906  Office Supplies   Appliances   \n",
       "\n",
       "                                           Product Name  Sales  Quantity  \\\n",
       "4101  Hoover Replacement Belt for Commercial Guardsm...  0.444         1   \n",
       "\n",
       "      Discount  Profit  \n",
       "4101       0.8   -1.11  \n",
       "\n",
       "[1 rows x 21 columns]"
      ]
     },
     "execution_count": 23,
     "metadata": {},
     "output_type": "execute_result"
    }
   ],
   "source": [
    "data[data['Sales']==data['Sales'].min()]"
   ]
  },
  {
   "cell_type": "markdown",
   "id": "4f152def-2756-432e-856c-8ab807faf9c5",
   "metadata": {},
   "source": [
    "Observamos que uma cliente comprou uma correia barata e recebeu 80% de desconto. Vamos supor que contatamos a equipe de vendas e foi uma situação de desconto por avaria na peça. Próximo!"
   ]
  },
  {
   "cell_type": "markdown",
   "id": "090da3c6-28fa-4240-832c-0787e104ec1a",
   "metadata": {},
   "source": [
    "**Percentil de 75% das vendas**"
   ]
  },
  {
   "cell_type": "markdown",
   "id": "de688e91-9d7f-46b6-9284-e048289cd7cc",
   "metadata": {},
   "source": [
    "Os quantis são usados para entender a distribuição dos dados e identificar valores atípicos (chamados _outliers_), bem como características específicas da distribuição.\n",
    "Vamos calcular percentis utilizando a função `quantile`, que nos retornará os quantis de dados desejados por coluna. Desejamos descobrir em qual \"fatia\" se encontram os _outliers_, por isso começaremos observando o nosso top 10% em vendas."
   ]
  },
  {
   "cell_type": "code",
   "execution_count": 26,
   "id": "9fa16a8a-42dd-4271-9069-cd544c90d193",
   "metadata": {},
   "outputs": [
    {
     "data": {
      "text/plain": [
       "572.7060000000001"
      ]
     },
     "execution_count": 26,
     "metadata": {},
     "output_type": "execute_result"
    }
   ],
   "source": [
    "data['Sales'].quantile(0.9)"
   ]
  },
  {
   "cell_type": "markdown",
   "id": "b3330014-fe3b-4340-99da-35f927f67495",
   "metadata": {},
   "source": [
    "O resultado ainda está muito distante e muito mais baixo do que o valor máximo de compra. \n",
    "Vamos então tentar filtrar o top 3% das vendas (percentil de 97%), visualizando toda a linha. Como queremos ordenar esses valores, vamos adicionar a função `sort_values` para indicar por qual coluna será feita a ordenação. Para que a ordem seja decrescente, inclua `ascending=False`."
   ]
  },
  {
   "cell_type": "code",
   "execution_count": 27,
   "id": "26aea8d4-44ad-467c-ac50-6d0a05d4d1ee",
   "metadata": {},
   "outputs": [
    {
     "data": {
      "text/html": [
       "<div>\n",
       "<style scoped>\n",
       "    .dataframe tbody tr th:only-of-type {\n",
       "        vertical-align: middle;\n",
       "    }\n",
       "\n",
       "    .dataframe tbody tr th {\n",
       "        vertical-align: top;\n",
       "    }\n",
       "\n",
       "    .dataframe thead th {\n",
       "        text-align: right;\n",
       "    }\n",
       "</style>\n",
       "<table border=\"1\" class=\"dataframe\">\n",
       "  <thead>\n",
       "    <tr style=\"text-align: right;\">\n",
       "      <th></th>\n",
       "      <th>Row ID</th>\n",
       "      <th>Order ID</th>\n",
       "      <th>Order Date</th>\n",
       "      <th>Ship Date</th>\n",
       "      <th>Ship Mode</th>\n",
       "      <th>Customer ID</th>\n",
       "      <th>Customer Name</th>\n",
       "      <th>Segment</th>\n",
       "      <th>Country</th>\n",
       "      <th>City</th>\n",
       "      <th>...</th>\n",
       "      <th>Postal Code</th>\n",
       "      <th>Region</th>\n",
       "      <th>Product ID</th>\n",
       "      <th>Category</th>\n",
       "      <th>Sub-Category</th>\n",
       "      <th>Product Name</th>\n",
       "      <th>Sales</th>\n",
       "      <th>Quantity</th>\n",
       "      <th>Discount</th>\n",
       "      <th>Profit</th>\n",
       "    </tr>\n",
       "  </thead>\n",
       "  <tbody>\n",
       "    <tr>\n",
       "      <th>2697</th>\n",
       "      <td>2698</td>\n",
       "      <td>CA-2014-145317</td>\n",
       "      <td>3/18/2014</td>\n",
       "      <td>3/23/2014</td>\n",
       "      <td>Standard Class</td>\n",
       "      <td>SM-20320</td>\n",
       "      <td>Sean Miller</td>\n",
       "      <td>Home Office</td>\n",
       "      <td>United States</td>\n",
       "      <td>Jacksonville</td>\n",
       "      <td>...</td>\n",
       "      <td>32216</td>\n",
       "      <td>South</td>\n",
       "      <td>TEC-MA-10002412</td>\n",
       "      <td>Technology</td>\n",
       "      <td>Machines</td>\n",
       "      <td>Cisco TelePresence System EX90 Videoconferenci...</td>\n",
       "      <td>22638.480</td>\n",
       "      <td>6</td>\n",
       "      <td>0.5</td>\n",
       "      <td>-1811.0784</td>\n",
       "    </tr>\n",
       "    <tr>\n",
       "      <th>6826</th>\n",
       "      <td>6827</td>\n",
       "      <td>CA-2016-118689</td>\n",
       "      <td>10/2/2016</td>\n",
       "      <td>10/9/2016</td>\n",
       "      <td>Standard Class</td>\n",
       "      <td>TC-20980</td>\n",
       "      <td>Tamara Chand</td>\n",
       "      <td>Corporate</td>\n",
       "      <td>United States</td>\n",
       "      <td>Lafayette</td>\n",
       "      <td>...</td>\n",
       "      <td>47905</td>\n",
       "      <td>Central</td>\n",
       "      <td>TEC-CO-10004722</td>\n",
       "      <td>Technology</td>\n",
       "      <td>Copiers</td>\n",
       "      <td>Canon imageCLASS 2200 Advanced Copier</td>\n",
       "      <td>17499.950</td>\n",
       "      <td>5</td>\n",
       "      <td>0.0</td>\n",
       "      <td>8399.9760</td>\n",
       "    </tr>\n",
       "    <tr>\n",
       "      <th>8153</th>\n",
       "      <td>8154</td>\n",
       "      <td>CA-2017-140151</td>\n",
       "      <td>3/23/2017</td>\n",
       "      <td>3/25/2017</td>\n",
       "      <td>First Class</td>\n",
       "      <td>RB-19360</td>\n",
       "      <td>Raymond Buch</td>\n",
       "      <td>Consumer</td>\n",
       "      <td>United States</td>\n",
       "      <td>Seattle</td>\n",
       "      <td>...</td>\n",
       "      <td>98115</td>\n",
       "      <td>West</td>\n",
       "      <td>TEC-CO-10004722</td>\n",
       "      <td>Technology</td>\n",
       "      <td>Copiers</td>\n",
       "      <td>Canon imageCLASS 2200 Advanced Copier</td>\n",
       "      <td>13999.960</td>\n",
       "      <td>4</td>\n",
       "      <td>0.0</td>\n",
       "      <td>6719.9808</td>\n",
       "    </tr>\n",
       "    <tr>\n",
       "      <th>2623</th>\n",
       "      <td>2624</td>\n",
       "      <td>CA-2017-127180</td>\n",
       "      <td>10/22/2017</td>\n",
       "      <td>10/24/2017</td>\n",
       "      <td>First Class</td>\n",
       "      <td>TA-21385</td>\n",
       "      <td>Tom Ashbrook</td>\n",
       "      <td>Home Office</td>\n",
       "      <td>United States</td>\n",
       "      <td>New York City</td>\n",
       "      <td>...</td>\n",
       "      <td>10024</td>\n",
       "      <td>East</td>\n",
       "      <td>TEC-CO-10004722</td>\n",
       "      <td>Technology</td>\n",
       "      <td>Copiers</td>\n",
       "      <td>Canon imageCLASS 2200 Advanced Copier</td>\n",
       "      <td>11199.968</td>\n",
       "      <td>4</td>\n",
       "      <td>0.2</td>\n",
       "      <td>3919.9888</td>\n",
       "    </tr>\n",
       "    <tr>\n",
       "      <th>4190</th>\n",
       "      <td>4191</td>\n",
       "      <td>CA-2017-166709</td>\n",
       "      <td>11/17/2017</td>\n",
       "      <td>11/22/2017</td>\n",
       "      <td>Standard Class</td>\n",
       "      <td>HL-15040</td>\n",
       "      <td>Hunter Lopez</td>\n",
       "      <td>Consumer</td>\n",
       "      <td>United States</td>\n",
       "      <td>Newark</td>\n",
       "      <td>...</td>\n",
       "      <td>19711</td>\n",
       "      <td>East</td>\n",
       "      <td>TEC-CO-10004722</td>\n",
       "      <td>Technology</td>\n",
       "      <td>Copiers</td>\n",
       "      <td>Canon imageCLASS 2200 Advanced Copier</td>\n",
       "      <td>10499.970</td>\n",
       "      <td>3</td>\n",
       "      <td>0.0</td>\n",
       "      <td>5039.9856</td>\n",
       "    </tr>\n",
       "    <tr>\n",
       "      <th>...</th>\n",
       "      <td>...</td>\n",
       "      <td>...</td>\n",
       "      <td>...</td>\n",
       "      <td>...</td>\n",
       "      <td>...</td>\n",
       "      <td>...</td>\n",
       "      <td>...</td>\n",
       "      <td>...</td>\n",
       "      <td>...</td>\n",
       "      <td>...</td>\n",
       "      <td>...</td>\n",
       "      <td>...</td>\n",
       "      <td>...</td>\n",
       "      <td>...</td>\n",
       "      <td>...</td>\n",
       "      <td>...</td>\n",
       "      <td>...</td>\n",
       "      <td>...</td>\n",
       "      <td>...</td>\n",
       "      <td>...</td>\n",
       "      <td>...</td>\n",
       "    </tr>\n",
       "    <tr>\n",
       "      <th>557</th>\n",
       "      <td>558</td>\n",
       "      <td>CA-2016-113243</td>\n",
       "      <td>6/10/2016</td>\n",
       "      <td>6/15/2016</td>\n",
       "      <td>Standard Class</td>\n",
       "      <td>OT-18730</td>\n",
       "      <td>Olvera Toch</td>\n",
       "      <td>Consumer</td>\n",
       "      <td>United States</td>\n",
       "      <td>Los Angeles</td>\n",
       "      <td>...</td>\n",
       "      <td>90045</td>\n",
       "      <td>West</td>\n",
       "      <td>FUR-TA-10004256</td>\n",
       "      <td>Furniture</td>\n",
       "      <td>Tables</td>\n",
       "      <td>Bretford Just In Time Height-Adjustable Mult...</td>\n",
       "      <td>1335.680</td>\n",
       "      <td>4</td>\n",
       "      <td>0.2</td>\n",
       "      <td>-217.0480</td>\n",
       "    </tr>\n",
       "    <tr>\n",
       "      <th>4458</th>\n",
       "      <td>4459</td>\n",
       "      <td>CA-2017-105851</td>\n",
       "      <td>3/13/2017</td>\n",
       "      <td>3/20/2017</td>\n",
       "      <td>Standard Class</td>\n",
       "      <td>SE-20110</td>\n",
       "      <td>Sanjit Engle</td>\n",
       "      <td>Consumer</td>\n",
       "      <td>United States</td>\n",
       "      <td>Denver</td>\n",
       "      <td>...</td>\n",
       "      <td>80219</td>\n",
       "      <td>West</td>\n",
       "      <td>OFF-SU-10002881</td>\n",
       "      <td>Office Supplies</td>\n",
       "      <td>Supplies</td>\n",
       "      <td>Martin Yale Chadless Opener Electric Letter Op...</td>\n",
       "      <td>1332.496</td>\n",
       "      <td>2</td>\n",
       "      <td>0.2</td>\n",
       "      <td>-299.8116</td>\n",
       "    </tr>\n",
       "    <tr>\n",
       "      <th>5559</th>\n",
       "      <td>5560</td>\n",
       "      <td>US-2015-114741</td>\n",
       "      <td>12/6/2015</td>\n",
       "      <td>12/10/2015</td>\n",
       "      <td>Standard Class</td>\n",
       "      <td>IL-15100</td>\n",
       "      <td>Ivan Liston</td>\n",
       "      <td>Consumer</td>\n",
       "      <td>United States</td>\n",
       "      <td>North Las Vegas</td>\n",
       "      <td>...</td>\n",
       "      <td>89031</td>\n",
       "      <td>West</td>\n",
       "      <td>OFF-ST-10000078</td>\n",
       "      <td>Office Supplies</td>\n",
       "      <td>Storage</td>\n",
       "      <td>Tennsco 6- and 18-Compartment Lockers</td>\n",
       "      <td>1325.850</td>\n",
       "      <td>5</td>\n",
       "      <td>0.0</td>\n",
       "      <td>238.6530</td>\n",
       "    </tr>\n",
       "    <tr>\n",
       "      <th>4937</th>\n",
       "      <td>4938</td>\n",
       "      <td>CA-2014-157147</td>\n",
       "      <td>1/13/2014</td>\n",
       "      <td>1/18/2014</td>\n",
       "      <td>Standard Class</td>\n",
       "      <td>BD-11605</td>\n",
       "      <td>Brian Dahlen</td>\n",
       "      <td>Consumer</td>\n",
       "      <td>United States</td>\n",
       "      <td>San Francisco</td>\n",
       "      <td>...</td>\n",
       "      <td>94109</td>\n",
       "      <td>West</td>\n",
       "      <td>OFF-ST-10000078</td>\n",
       "      <td>Office Supplies</td>\n",
       "      <td>Storage</td>\n",
       "      <td>Tennsco 6- and 18-Compartment Lockers</td>\n",
       "      <td>1325.850</td>\n",
       "      <td>5</td>\n",
       "      <td>0.0</td>\n",
       "      <td>238.6530</td>\n",
       "    </tr>\n",
       "    <tr>\n",
       "      <th>2673</th>\n",
       "      <td>2674</td>\n",
       "      <td>CA-2014-126403</td>\n",
       "      <td>9/9/2014</td>\n",
       "      <td>9/12/2014</td>\n",
       "      <td>Second Class</td>\n",
       "      <td>RR-19525</td>\n",
       "      <td>Rick Reed</td>\n",
       "      <td>Corporate</td>\n",
       "      <td>United States</td>\n",
       "      <td>Lowell</td>\n",
       "      <td>...</td>\n",
       "      <td>1852</td>\n",
       "      <td>East</td>\n",
       "      <td>OFF-ST-10000078</td>\n",
       "      <td>Office Supplies</td>\n",
       "      <td>Storage</td>\n",
       "      <td>Tennsco 6- and 18-Compartment Lockers</td>\n",
       "      <td>1325.850</td>\n",
       "      <td>5</td>\n",
       "      <td>0.0</td>\n",
       "      <td>238.6530</td>\n",
       "    </tr>\n",
       "  </tbody>\n",
       "</table>\n",
       "<p>300 rows × 21 columns</p>\n",
       "</div>"
      ],
      "text/plain": [
       "      Row ID        Order ID  Order Date   Ship Date       Ship Mode  \\\n",
       "2697    2698  CA-2014-145317   3/18/2014   3/23/2014  Standard Class   \n",
       "6826    6827  CA-2016-118689   10/2/2016   10/9/2016  Standard Class   \n",
       "8153    8154  CA-2017-140151   3/23/2017   3/25/2017     First Class   \n",
       "2623    2624  CA-2017-127180  10/22/2017  10/24/2017     First Class   \n",
       "4190    4191  CA-2017-166709  11/17/2017  11/22/2017  Standard Class   \n",
       "...      ...             ...         ...         ...             ...   \n",
       "557      558  CA-2016-113243   6/10/2016   6/15/2016  Standard Class   \n",
       "4458    4459  CA-2017-105851   3/13/2017   3/20/2017  Standard Class   \n",
       "5559    5560  US-2015-114741   12/6/2015  12/10/2015  Standard Class   \n",
       "4937    4938  CA-2014-157147   1/13/2014   1/18/2014  Standard Class   \n",
       "2673    2674  CA-2014-126403    9/9/2014   9/12/2014    Second Class   \n",
       "\n",
       "     Customer ID Customer Name      Segment        Country             City  \\\n",
       "2697    SM-20320   Sean Miller  Home Office  United States     Jacksonville   \n",
       "6826    TC-20980  Tamara Chand    Corporate  United States        Lafayette   \n",
       "8153    RB-19360  Raymond Buch     Consumer  United States          Seattle   \n",
       "2623    TA-21385  Tom Ashbrook  Home Office  United States    New York City   \n",
       "4190    HL-15040  Hunter Lopez     Consumer  United States           Newark   \n",
       "...          ...           ...          ...            ...              ...   \n",
       "557     OT-18730   Olvera Toch     Consumer  United States      Los Angeles   \n",
       "4458    SE-20110  Sanjit Engle     Consumer  United States           Denver   \n",
       "5559    IL-15100   Ivan Liston     Consumer  United States  North Las Vegas   \n",
       "4937    BD-11605  Brian Dahlen     Consumer  United States    San Francisco   \n",
       "2673    RR-19525     Rick Reed    Corporate  United States           Lowell   \n",
       "\n",
       "      ... Postal Code   Region       Product ID         Category Sub-Category  \\\n",
       "2697  ...       32216    South  TEC-MA-10002412       Technology     Machines   \n",
       "6826  ...       47905  Central  TEC-CO-10004722       Technology      Copiers   \n",
       "8153  ...       98115     West  TEC-CO-10004722       Technology      Copiers   \n",
       "2623  ...       10024     East  TEC-CO-10004722       Technology      Copiers   \n",
       "4190  ...       19711     East  TEC-CO-10004722       Technology      Copiers   \n",
       "...   ...         ...      ...              ...              ...          ...   \n",
       "557   ...       90045     West  FUR-TA-10004256        Furniture       Tables   \n",
       "4458  ...       80219     West  OFF-SU-10002881  Office Supplies     Supplies   \n",
       "5559  ...       89031     West  OFF-ST-10000078  Office Supplies      Storage   \n",
       "4937  ...       94109     West  OFF-ST-10000078  Office Supplies      Storage   \n",
       "2673  ...        1852     East  OFF-ST-10000078  Office Supplies      Storage   \n",
       "\n",
       "                                           Product Name      Sales  Quantity  \\\n",
       "2697  Cisco TelePresence System EX90 Videoconferenci...  22638.480         6   \n",
       "6826              Canon imageCLASS 2200 Advanced Copier  17499.950         5   \n",
       "8153              Canon imageCLASS 2200 Advanced Copier  13999.960         4   \n",
       "2623              Canon imageCLASS 2200 Advanced Copier  11199.968         4   \n",
       "4190              Canon imageCLASS 2200 Advanced Copier  10499.970         3   \n",
       "...                                                 ...        ...       ...   \n",
       "557   Bretford Just In Time Height-Adjustable Mult...   1335.680         4   \n",
       "4458  Martin Yale Chadless Opener Electric Letter Op...   1332.496         2   \n",
       "5559              Tennsco 6- and 18-Compartment Lockers   1325.850         5   \n",
       "4937              Tennsco 6- and 18-Compartment Lockers   1325.850         5   \n",
       "2673              Tennsco 6- and 18-Compartment Lockers   1325.850         5   \n",
       "\n",
       "      Discount     Profit  \n",
       "2697       0.5 -1811.0784  \n",
       "6826       0.0  8399.9760  \n",
       "8153       0.0  6719.9808  \n",
       "2623       0.2  3919.9888  \n",
       "4190       0.0  5039.9856  \n",
       "...        ...        ...  \n",
       "557        0.2  -217.0480  \n",
       "4458       0.2  -299.8116  \n",
       "5559       0.0   238.6530  \n",
       "4937       0.0   238.6530  \n",
       "2673       0.0   238.6530  \n",
       "\n",
       "[300 rows x 21 columns]"
      ]
     },
     "execution_count": 27,
     "metadata": {},
     "output_type": "execute_result"
    }
   ],
   "source": [
    "data[data['Sales']>=data['Sales'].quantile(0.97)].sort_values('Sales', ascending=False)"
   ]
  },
  {
   "cell_type": "markdown",
   "id": "fb2a97db-0b76-493e-a9b0-1cf9b3552d1f",
   "metadata": {},
   "source": [
    "Agora podemos visualizar os cinco maiores valores de compras e nossos possíveis _outliers_."
   ]
  },
  {
   "cell_type": "markdown",
   "id": "9363f063-3367-4728-82cf-ed3456ef4fae",
   "metadata": {},
   "source": [
    "Aproveitando a função de ordenamento usada na exploração anterior, podemos descobrir quem são as pessoas que recebem os descontos mais altos no percentil de 70%. Faremos isso trocando _Sales_ por _Discount_:"
   ]
  },
  {
   "cell_type": "code",
   "execution_count": 28,
   "id": "32bec40a-a138-4986-9e16-566c7a072d74",
   "metadata": {},
   "outputs": [
    {
     "data": {
      "text/html": [
       "<div>\n",
       "<style scoped>\n",
       "    .dataframe tbody tr th:only-of-type {\n",
       "        vertical-align: middle;\n",
       "    }\n",
       "\n",
       "    .dataframe tbody tr th {\n",
       "        vertical-align: top;\n",
       "    }\n",
       "\n",
       "    .dataframe thead th {\n",
       "        text-align: right;\n",
       "    }\n",
       "</style>\n",
       "<table border=\"1\" class=\"dataframe\">\n",
       "  <thead>\n",
       "    <tr style=\"text-align: right;\">\n",
       "      <th></th>\n",
       "      <th>Row ID</th>\n",
       "      <th>Order ID</th>\n",
       "      <th>Order Date</th>\n",
       "      <th>Ship Date</th>\n",
       "      <th>Ship Mode</th>\n",
       "      <th>Customer ID</th>\n",
       "      <th>Customer Name</th>\n",
       "      <th>Segment</th>\n",
       "      <th>Country</th>\n",
       "      <th>City</th>\n",
       "      <th>...</th>\n",
       "      <th>Postal Code</th>\n",
       "      <th>Region</th>\n",
       "      <th>Product ID</th>\n",
       "      <th>Category</th>\n",
       "      <th>Sub-Category</th>\n",
       "      <th>Product Name</th>\n",
       "      <th>Sales</th>\n",
       "      <th>Quantity</th>\n",
       "      <th>Discount</th>\n",
       "      <th>Profit</th>\n",
       "    </tr>\n",
       "  </thead>\n",
       "  <tbody>\n",
       "    <tr>\n",
       "      <th>14</th>\n",
       "      <td>15</td>\n",
       "      <td>US-2015-118983</td>\n",
       "      <td>11/22/2015</td>\n",
       "      <td>11/26/2015</td>\n",
       "      <td>Standard Class</td>\n",
       "      <td>HP-14815</td>\n",
       "      <td>Harold Pawlan</td>\n",
       "      <td>Home Office</td>\n",
       "      <td>United States</td>\n",
       "      <td>Fort Worth</td>\n",
       "      <td>...</td>\n",
       "      <td>76106</td>\n",
       "      <td>Central</td>\n",
       "      <td>OFF-AP-10002311</td>\n",
       "      <td>Office Supplies</td>\n",
       "      <td>Appliances</td>\n",
       "      <td>Holmes Replacement Filter for HEPA Air Cleaner...</td>\n",
       "      <td>68.810</td>\n",
       "      <td>5</td>\n",
       "      <td>0.8</td>\n",
       "      <td>-123.8580</td>\n",
       "    </tr>\n",
       "    <tr>\n",
       "      <th>7505</th>\n",
       "      <td>7506</td>\n",
       "      <td>US-2017-106579</td>\n",
       "      <td>6/8/2017</td>\n",
       "      <td>6/13/2017</td>\n",
       "      <td>Standard Class</td>\n",
       "      <td>BW-11200</td>\n",
       "      <td>Ben Wallace</td>\n",
       "      <td>Consumer</td>\n",
       "      <td>United States</td>\n",
       "      <td>Skokie</td>\n",
       "      <td>...</td>\n",
       "      <td>60076</td>\n",
       "      <td>Central</td>\n",
       "      <td>OFF-BI-10000309</td>\n",
       "      <td>Office Supplies</td>\n",
       "      <td>Binders</td>\n",
       "      <td>GBC Twin Loop Wire Binding Elements, 9/16\" Spi...</td>\n",
       "      <td>12.176</td>\n",
       "      <td>4</td>\n",
       "      <td>0.8</td>\n",
       "      <td>-18.8728</td>\n",
       "    </tr>\n",
       "    <tr>\n",
       "      <th>7451</th>\n",
       "      <td>7452</td>\n",
       "      <td>CA-2017-105669</td>\n",
       "      <td>9/17/2017</td>\n",
       "      <td>9/22/2017</td>\n",
       "      <td>Second Class</td>\n",
       "      <td>SJ-20125</td>\n",
       "      <td>Sanjit Jacobs</td>\n",
       "      <td>Home Office</td>\n",
       "      <td>United States</td>\n",
       "      <td>Houston</td>\n",
       "      <td>...</td>\n",
       "      <td>77036</td>\n",
       "      <td>Central</td>\n",
       "      <td>OFF-BI-10002412</td>\n",
       "      <td>Office Supplies</td>\n",
       "      <td>Binders</td>\n",
       "      <td>Wilson Jones Snap Scratch Pad Binder Tool fo...</td>\n",
       "      <td>5.800</td>\n",
       "      <td>5</td>\n",
       "      <td>0.8</td>\n",
       "      <td>-10.1500</td>\n",
       "    </tr>\n",
       "    <tr>\n",
       "      <th>7348</th>\n",
       "      <td>7349</td>\n",
       "      <td>CA-2014-130421</td>\n",
       "      <td>3/3/2014</td>\n",
       "      <td>3/7/2014</td>\n",
       "      <td>Standard Class</td>\n",
       "      <td>SC-20020</td>\n",
       "      <td>Sam Craven</td>\n",
       "      <td>Consumer</td>\n",
       "      <td>United States</td>\n",
       "      <td>Houston</td>\n",
       "      <td>...</td>\n",
       "      <td>77095</td>\n",
       "      <td>Central</td>\n",
       "      <td>OFF-AP-10002534</td>\n",
       "      <td>Office Supplies</td>\n",
       "      <td>Appliances</td>\n",
       "      <td>3.6 Cubic Foot Counter Height Office Refrigerator</td>\n",
       "      <td>176.772</td>\n",
       "      <td>3</td>\n",
       "      <td>0.8</td>\n",
       "      <td>-459.6072</td>\n",
       "    </tr>\n",
       "    <tr>\n",
       "      <th>7301</th>\n",
       "      <td>7302</td>\n",
       "      <td>CA-2014-163468</td>\n",
       "      <td>11/18/2014</td>\n",
       "      <td>11/21/2014</td>\n",
       "      <td>First Class</td>\n",
       "      <td>JK-15730</td>\n",
       "      <td>Joe Kamberova</td>\n",
       "      <td>Consumer</td>\n",
       "      <td>United States</td>\n",
       "      <td>Des Plaines</td>\n",
       "      <td>...</td>\n",
       "      <td>60016</td>\n",
       "      <td>Central</td>\n",
       "      <td>OFF-BI-10004728</td>\n",
       "      <td>Office Supplies</td>\n",
       "      <td>Binders</td>\n",
       "      <td>Wilson Jones Turn Tabs Binder Tool for Ring Bi...</td>\n",
       "      <td>2.892</td>\n",
       "      <td>3</td>\n",
       "      <td>0.8</td>\n",
       "      <td>-4.9164</td>\n",
       "    </tr>\n",
       "  </tbody>\n",
       "</table>\n",
       "<p>5 rows × 21 columns</p>\n",
       "</div>"
      ],
      "text/plain": [
       "      Row ID        Order ID  Order Date   Ship Date       Ship Mode  \\\n",
       "14        15  US-2015-118983  11/22/2015  11/26/2015  Standard Class   \n",
       "7505    7506  US-2017-106579    6/8/2017   6/13/2017  Standard Class   \n",
       "7451    7452  CA-2017-105669   9/17/2017   9/22/2017    Second Class   \n",
       "7348    7349  CA-2014-130421    3/3/2014    3/7/2014  Standard Class   \n",
       "7301    7302  CA-2014-163468  11/18/2014  11/21/2014     First Class   \n",
       "\n",
       "     Customer ID  Customer Name      Segment        Country         City  ...  \\\n",
       "14      HP-14815  Harold Pawlan  Home Office  United States   Fort Worth  ...   \n",
       "7505    BW-11200    Ben Wallace     Consumer  United States       Skokie  ...   \n",
       "7451    SJ-20125  Sanjit Jacobs  Home Office  United States      Houston  ...   \n",
       "7348    SC-20020     Sam Craven     Consumer  United States      Houston  ...   \n",
       "7301    JK-15730  Joe Kamberova     Consumer  United States  Des Plaines  ...   \n",
       "\n",
       "     Postal Code   Region       Product ID         Category Sub-Category  \\\n",
       "14         76106  Central  OFF-AP-10002311  Office Supplies   Appliances   \n",
       "7505       60076  Central  OFF-BI-10000309  Office Supplies      Binders   \n",
       "7451       77036  Central  OFF-BI-10002412  Office Supplies      Binders   \n",
       "7348       77095  Central  OFF-AP-10002534  Office Supplies   Appliances   \n",
       "7301       60016  Central  OFF-BI-10004728  Office Supplies      Binders   \n",
       "\n",
       "                                           Product Name    Sales  Quantity  \\\n",
       "14    Holmes Replacement Filter for HEPA Air Cleaner...   68.810         5   \n",
       "7505  GBC Twin Loop Wire Binding Elements, 9/16\" Spi...   12.176         4   \n",
       "7451  Wilson Jones Snap Scratch Pad Binder Tool fo...    5.800         5   \n",
       "7348  3.6 Cubic Foot Counter Height Office Refrigerator  176.772         3   \n",
       "7301  Wilson Jones Turn Tabs Binder Tool for Ring Bi...    2.892         3   \n",
       "\n",
       "      Discount    Profit  \n",
       "14         0.8 -123.8580  \n",
       "7505       0.8  -18.8728  \n",
       "7451       0.8  -10.1500  \n",
       "7348       0.8 -459.6072  \n",
       "7301       0.8   -4.9164  \n",
       "\n",
       "[5 rows x 21 columns]"
      ]
     },
     "execution_count": 28,
     "metadata": {},
     "output_type": "execute_result"
    }
   ],
   "source": [
    "data[data['Discount']>0.7].sort_values('Discount', ascending=False).head(5)"
   ]
  },
  {
   "cell_type": "markdown",
   "id": "f0b2cb32-d569-4eb3-b8b5-e1242c383865",
   "metadata": {},
   "source": [
    "Observando a tabela gerada, notamos que os maiores descontos são para produtos de escritório e que descontos acima de 80% costumam gerar prejuízo (ver a coluna _Profit_). **Uma possível sugestão para análises futuras seria verificar como se dá a relação entre lucro e descontos.** Também seria interessante considerar o desenvolvimento de estudos que avaliassem como a ausência de descontos afetaria as taxas de conversão. "
   ]
  },
  {
   "cell_type": "markdown",
   "id": "c365c87f-1064-47d6-8048-6a918a7f46b8",
   "metadata": {},
   "source": [
    "✍🏻 O trabalho do analista é identificar oportunidades!"
   ]
  },
  {
   "cell_type": "markdown",
   "id": "9e408fa1-fd8c-424d-ab39-743eb93688f2",
   "metadata": {},
   "source": [
    "## 3. Limpando os dados 🧹"
   ]
  },
  {
   "cell_type": "markdown",
   "id": "9564e655-e84e-46da-988c-4df87d7ebc2a",
   "metadata": {},
   "source": [
    "Para o processo de limpeza, vamos eliminar colunas que não possuem função para nossa tarefa, como _Row ID_, usando o comando `drop`.\n"
   ]
  },
  {
   "cell_type": "markdown",
   "id": "4e4965a7-8522-45f0-b3fa-0484cbb2ce1a",
   "metadata": {},
   "source": [
    "`axis=0` \"dropa\" o índice, `axis=1` \"dropa\" uma coluna específica.\n",
    "Já `inplace=True` significa que agora _data_ tem nova configuração, ou seja, foi substituída. O uso de `inplace=False` criaria uma cópia."
   ]
  },
  {
   "cell_type": "code",
   "execution_count": 29,
   "id": "a9e617dc-2d76-4091-85e1-f7404dc8bfc3",
   "metadata": {},
   "outputs": [],
   "source": [
    "data.drop('Row ID', axis=1, inplace=True)"
   ]
  },
  {
   "cell_type": "markdown",
   "id": "84cfdf4c-9be7-4069-9698-3cb12b46ee59",
   "metadata": {},
   "source": [
    "Também precisamos de uma coluna de mês, visto que a análise de evolução temporal costuma ser realizada mês a mês. Por ora, temos uma coluna de datas organizada por dia."
   ]
  },
  {
   "cell_type": "markdown",
   "id": "1a9e25c9-ac64-4cad-8faf-a517cb0ae210",
   "metadata": {},
   "source": [
    "Outro fato anteriormente observado é que as datas estão em forma de objeto, provavelmente uma _string_ (texto). Para extrair o mês desse texto, precisamos primeiro converter a _string_ em formato data (com função do pandas chamada `to_datetime`) e depois realizar a extração do mês (com função do datetime chamada `to_period`).\n",
    "O mês é caracterizado pela letra m."
   ]
  },
  {
   "cell_type": "code",
   "execution_count": 30,
   "id": "82117bef-fd23-4e35-9e66-42560ed13fca",
   "metadata": {},
   "outputs": [],
   "source": [
    "data['order_month']=pd.to_datetime(data ['Order Date']).dt.to_period('m')"
   ]
  },
  {
   "cell_type": "markdown",
   "id": "f59fe5c2-206e-4fe7-b4c3-aaa5da2f78ec",
   "metadata": {},
   "source": [
    "## 4. Respondendo perguntas de negócio ✏️"
   ]
  },
  {
   "cell_type": "markdown",
   "id": "f343c308-2fd0-421e-a18b-9e9b1fd598a7",
   "metadata": {},
   "source": [
    "**Finalmente** vamos responder as nossas perguntas de negócio!\n",
    "A maior parte do esforço mental já foi realizada e temos uma documentação pré-organizada a nosso favor. É possível que ao decorrer do processo surjam novas perguntas, uma vez que visualizarmos melhor todas as variáveis que influenciam nossos problemas de negócio."
   ]
  },
  {
   "cell_type": "markdown",
   "id": "067a8f1b-15b4-4bd8-b347-eb0e027a2523",
   "metadata": {},
   "source": [
    "Vamos começar?"
   ]
  },
  {
   "cell_type": "markdown",
   "id": "7c5e9ad0-9529-4ede-96f3-e3e3fe0f7c38",
   "metadata": {},
   "source": [
    "#### **Quais variáveis temos para explorar?**"
   ]
  },
  {
   "cell_type": "markdown",
   "id": "5fd638f8-7608-4a83-af6e-00a0091cba90",
   "metadata": {},
   "source": [
    "Para responder a essa pergunta, iremos contar o número de colunas excluindo a _Order ID_. Podemos usar o `shape` (coordenada 1, que significa coluna - se quiséssemos a linha, seria coordenada 0) menos um."
   ]
  },
  {
   "cell_type": "markdown",
   "id": "e8631329-96a2-407c-8eb0-f90c403f26e8",
   "metadata": {},
   "source": [
    "Observação: a função `print` só concatena elementos iguais (apenas _strings_ ou apenas números inteiros, por exemplo). Nossa variável está em forma de número, por isso precisamos convertê-la para a forma de texto com o comando `str`."
   ]
  },
  {
   "cell_type": "code",
   "execution_count": 32,
   "id": "d9762f84-55a6-4bdc-bb88-d936ac9ad8a5",
   "metadata": {},
   "outputs": [
    {
     "name": "stdout",
     "output_type": "stream",
     "text": [
      "Temos 20 variáveis para análise\n"
     ]
    }
   ],
   "source": [
    "variaveis=data.shape[1]-1\n",
    "print ('Temos ' + str(variaveis)+ ' variáveis para análise')"
   ]
  },
  {
   "cell_type": "markdown",
   "id": "fa67887f-4df9-4163-ad6f-cb0e56dbc7d0",
   "metadata": {},
   "source": [
    "#### **Quantos pedidos tivemos no total?**"
   ]
  },
  {
   "cell_type": "markdown",
   "id": "c1ddd98e-e029-4fe4-8732-cac71fd0b320",
   "metadata": {},
   "source": [
    "Se olharmos atentamente para os dados, perceberemos que existem linhas com pedidos duplicados. A razão disto é que **cada linha da tabela corresponde a um produto diferente, não a um pedido**. Pensando nisso, precisamos contar quantos IDs de pedidos **distintos** tivemos. Vamos fazer esse cálculo utilizando o comando `unique()`. Para ler o número de linhas, voltamos à velha conhecida função `shape`:"
   ]
  },
  {
   "cell_type": "code",
   "execution_count": 33,
   "id": "a6e98574-b2e2-482b-80a3-60754367dc0b",
   "metadata": {},
   "outputs": [
    {
     "name": "stdout",
     "output_type": "stream",
     "text": [
      "Temos 5009 pedidos distintos\n"
     ]
    }
   ],
   "source": [
    "pedidos_distinct=data['Order ID'].unique().shape[0]\n",
    "print ('Temos ' + str(pedidos_distinct) + ' pedidos distintos')"
   ]
  },
  {
   "cell_type": "markdown",
   "id": "7c0320a1-0665-4c0b-9105-c41a24b61378",
   "metadata": {},
   "source": [
    "#### **Qual tipo de entrega sai mais?**"
   ]
  },
  {
   "cell_type": "markdown",
   "id": "fb6813e9-f33c-47bf-9a3a-2824353be434",
   "metadata": {},
   "source": [
    "Temos uma coluna chamada _Ship Mode_. Para responder à pergunta, faremos um agrupamento em uma nova tabela que nos mostre uma coluna com o tipo de entrega e outra coluna com a quantidade de entregas por tipo."
   ]
  },
  {
   "cell_type": "markdown",
   "id": "773669fd-7327-4ec7-bafa-011c5149a68c",
   "metadata": {},
   "source": [
    "Antes, porém, é preciso verificar se para cada pedido (_Order ID_) temos uma única modalidade de envio correspondente.\n",
    "Em uma tabela com as colunas _Order ID_ e _Ship Mode_, **a quantidade de pedidos únicos deve equivaler à quantidade de linhas únicas**. Isso significa que para cada pedido único só há uma equivalência de _Ship Mode_ e não existem outras combinações."
   ]
  },
  {
   "cell_type": "code",
   "execution_count": 34,
   "id": "5a4d068b-50d8-4826-9ef7-b0f5d296ac8e",
   "metadata": {},
   "outputs": [
    {
     "data": {
      "text/plain": [
       "True"
      ]
     },
     "execution_count": 34,
     "metadata": {},
     "output_type": "execute_result"
    }
   ],
   "source": [
    "pedidos_unicos= len(data['Order ID'].unique())\n",
    "linhas_unicas= len(data[['Order ID', 'Ship Mode']].drop_duplicates ())\n",
    "pedidos_unicos==linhas_unicas"
   ]
  },
  {
   "cell_type": "markdown",
   "id": "d9d3a831-ceb2-4265-b858-c3bd1766ad12",
   "metadata": {},
   "source": [
    "Agora sim podemos realizar o nosso agrupamento por modo de envio utilizando a função `groupby` e contar os pedidos utilizando a função `count`. Para evitar contabilização de dados duplicados, o ideal é selecionar apenas as linhas em que _Order ID_ e _Ship Mode_ são únicos."
   ]
  },
  {
   "cell_type": "code",
   "execution_count": 35,
   "id": "b79eed15-0680-4341-aaf3-4436a26aa61c",
   "metadata": {},
   "outputs": [
    {
     "data": {
      "text/html": [
       "<div>\n",
       "<style scoped>\n",
       "    .dataframe tbody tr th:only-of-type {\n",
       "        vertical-align: middle;\n",
       "    }\n",
       "\n",
       "    .dataframe tbody tr th {\n",
       "        vertical-align: top;\n",
       "    }\n",
       "\n",
       "    .dataframe thead th {\n",
       "        text-align: right;\n",
       "    }\n",
       "</style>\n",
       "<table border=\"1\" class=\"dataframe\">\n",
       "  <thead>\n",
       "    <tr style=\"text-align: right;\">\n",
       "      <th></th>\n",
       "      <th>Order ID</th>\n",
       "    </tr>\n",
       "    <tr>\n",
       "      <th>Ship Mode</th>\n",
       "      <th></th>\n",
       "    </tr>\n",
       "  </thead>\n",
       "  <tbody>\n",
       "    <tr>\n",
       "      <th>First Class</th>\n",
       "      <td>787</td>\n",
       "    </tr>\n",
       "    <tr>\n",
       "      <th>Same Day</th>\n",
       "      <td>264</td>\n",
       "    </tr>\n",
       "    <tr>\n",
       "      <th>Second Class</th>\n",
       "      <td>964</td>\n",
       "    </tr>\n",
       "    <tr>\n",
       "      <th>Standard Class</th>\n",
       "      <td>2994</td>\n",
       "    </tr>\n",
       "  </tbody>\n",
       "</table>\n",
       "</div>"
      ],
      "text/plain": [
       "                Order ID\n",
       "Ship Mode               \n",
       "First Class          787\n",
       "Same Day             264\n",
       "Second Class         964\n",
       "Standard Class      2994"
      ]
     },
     "execution_count": 35,
     "metadata": {},
     "output_type": "execute_result"
    }
   ],
   "source": [
    "data[['Order ID', 'Ship Mode']].drop_duplicates().groupby('Ship Mode').count()"
   ]
  },
  {
   "cell_type": "markdown",
   "id": "d1fba3a9-40ea-482f-a04b-6e1f594fcd17",
   "metadata": {},
   "source": [
    "O tipo de entrega que mais sai é _Standard Class_."
   ]
  },
  {
   "cell_type": "markdown",
   "id": "f9124d57-0f87-4893-a962-77bf45ea25dd",
   "metadata": {},
   "source": [
    "#### **Qual é a situação atual da empresa (venda e lucro)?**"
   ]
  },
  {
   "cell_type": "markdown",
   "id": "bd954d83-c288-40b4-838e-0de025fb972e",
   "metadata": {},
   "source": [
    "**Situação das vendas:**"
   ]
  },
  {
   "cell_type": "markdown",
   "id": "efdf8ecc-d9cd-46bc-a612-24d47a1cc93b",
   "metadata": {},
   "source": [
    "Vamos selecionar quais colunas queremos visualizar: primeiramente, a receita mês a mês. Usamos a função `groupby` para realizar o agrupamento. Queremos a soma do valor das vendas, então também adicionamos `sum` ao comando."
   ]
  },
  {
   "cell_type": "code",
   "execution_count": 36,
   "id": "9b695a78-ad5f-4c3e-99dc-3d5c1ef7f325",
   "metadata": {},
   "outputs": [
    {
     "data": {
      "text/plain": [
       "order_month\n",
       "2014-01     14236.8950\n",
       "2014-02      4519.8920\n",
       "2014-03     55691.0090\n",
       "2014-04     28295.3450\n",
       "2014-05     23648.2870\n",
       "2014-06     34595.1276\n",
       "2014-07     33946.3930\n",
       "2014-08     27909.4685\n",
       "2014-09     81777.3508\n",
       "2014-10     31453.3930\n",
       "2014-11     78628.7167\n",
       "2014-12     69545.6205\n",
       "2015-01     18174.0756\n",
       "2015-02     11951.4110\n",
       "2015-03     38726.2520\n",
       "2015-04     34195.2085\n",
       "2015-05     30131.6865\n",
       "2015-06     24797.2920\n",
       "2015-07     28765.3250\n",
       "2015-08     36898.3322\n",
       "2015-09     64595.9180\n",
       "2015-10     31404.9235\n",
       "2015-11     75972.5635\n",
       "2015-12     74919.5212\n",
       "2016-01     18542.4910\n",
       "2016-02     22978.8150\n",
       "2016-03     51715.8750\n",
       "2016-04     38750.0390\n",
       "2016-05     56987.7280\n",
       "2016-06     40344.5340\n",
       "2016-07     39261.9630\n",
       "2016-08     31115.3743\n",
       "2016-09     73410.0249\n",
       "2016-10     59687.7450\n",
       "2016-11     79411.9658\n",
       "2016-12     96999.0430\n",
       "2017-01     43971.3740\n",
       "2017-02     20301.1334\n",
       "2017-03     58872.3528\n",
       "2017-04     36521.5361\n",
       "2017-05     44261.1102\n",
       "2017-06     52981.7257\n",
       "2017-07     45264.4160\n",
       "2017-08     63120.8880\n",
       "2017-09     87866.6520\n",
       "2017-10     77776.9232\n",
       "2017-11    118447.8250\n",
       "2017-12     83829.3188\n",
       "Freq: M, Name: Sales, dtype: float64"
      ]
     },
     "execution_count": 36,
     "metadata": {},
     "output_type": "execute_result"
    }
   ],
   "source": [
    "data.groupby(\"order_month\")['Sales'].sum()"
   ]
  },
  {
   "cell_type": "markdown",
   "id": "b9eeab98-337a-48c1-80a0-35565cbcf34c",
   "metadata": {},
   "source": [
    "Agora, faremos o mesmo tipo de agrupamento por mês, mas considerando o número de unidades vendidas. Basta trocar a coluna da soma!"
   ]
  },
  {
   "cell_type": "code",
   "execution_count": 37,
   "id": "725113cc-1940-4eac-8c16-5f2a93b7c925",
   "metadata": {},
   "outputs": [
    {
     "data": {
      "text/plain": [
       "order_month\n",
       "2014-01     284\n",
       "2014-02     159\n",
       "2014-03     585\n",
       "2014-04     536\n",
       "2014-05     466\n",
       "2014-06     521\n",
       "2014-07     550\n",
       "2014-08     609\n",
       "2014-09    1000\n",
       "2014-10     573\n",
       "2014-11    1219\n",
       "2014-12    1079\n",
       "2015-01     236\n",
       "2015-02     239\n",
       "2015-03     515\n",
       "2015-04     543\n",
       "2015-05     575\n",
       "2015-06     486\n",
       "2015-07     557\n",
       "2015-08     598\n",
       "2015-09    1086\n",
       "2015-10     631\n",
       "2015-11    1310\n",
       "2015-12    1203\n",
       "2016-01     358\n",
       "2016-02     306\n",
       "2016-03     579\n",
       "2016-04     635\n",
       "2016-05     863\n",
       "2016-06     742\n",
       "2016-07     758\n",
       "2016-08     693\n",
       "2016-09    1316\n",
       "2016-10     767\n",
       "2016-11    1406\n",
       "2016-12    1414\n",
       "2017-01     597\n",
       "2017-02     363\n",
       "2017-03     885\n",
       "2017-04     733\n",
       "2017-05     887\n",
       "2017-06     931\n",
       "2017-07     840\n",
       "2017-08     884\n",
       "2017-09    1660\n",
       "2017-10    1133\n",
       "2017-11    1840\n",
       "2017-12    1723\n",
       "Freq: M, Name: Quantity, dtype: int64"
      ]
     },
     "execution_count": 37,
     "metadata": {},
     "output_type": "execute_result"
    }
   ],
   "source": [
    "data.groupby('order_month')['Quantity'].sum()"
   ]
  },
  {
   "cell_type": "markdown",
   "id": "ad89cc97-7a4e-4cc9-b0b9-ced2f11bb2ac",
   "metadata": {},
   "source": [
    "✍🏻 Procurando por padrões: note que os meses de novembro e dezembro costumam apresentar um aumento no número de vendas.\n",
    "Isso significa que devemos considerar o fator da sazonalidade! Pode ser um evento relacionado ao mercado (_Black Friday_ ou Natal)."
   ]
  },
  {
   "cell_type": "markdown",
   "id": "5100a430-b333-40f7-88ff-6769e3100926",
   "metadata": {},
   "source": [
    "Vamos visualizar as nossas descobertas em gráficos utilizando a função `plot`."
   ]
  },
  {
   "cell_type": "markdown",
   "id": "0caadcb6-50d2-4dd7-9413-062d07a9a9ff",
   "metadata": {},
   "source": [
    "**Evolução da receita (mensal):**"
   ]
  },
  {
   "cell_type": "code",
   "execution_count": 60,
   "id": "67047d1c-d642-46c5-9ef9-e8dc5853a7ee",
   "metadata": {},
   "outputs": [
    {
     "data": {
      "image/png": "[encoded data removed]",
      "text/plain": [
       "<Figure size 640x480 with 1 Axes>"
      ]
     },
     "metadata": {},
     "output_type": "display_data"
    }
   ],
   "source": [
    "data.groupby('order_month')['Sales'].sum().plot(color='darkviolet', marker='.', lw=2)\n",
    "plt.title('Valor das vendas por mês', {'fontsize': 12,\n",
    " 'fontweight': 'bold',\n",
    " 'color': 'darkviolet'})\n",
    "plt.show()"
   ]
  },
  {
   "cell_type": "markdown",
   "id": "e09ba670-6335-4f8b-948f-94697ed2dcbe",
   "metadata": {},
   "source": [
    "**Evolução da quantidade de mercadorias vendidas (mensal):**\n"
   ]
  },
  {
   "cell_type": "code",
   "execution_count": 61,
   "id": "0fddae4d-a67d-4faa-846e-e65d97b96492",
   "metadata": {},
   "outputs": [
    {
     "data": {
      "image/png": "[encoded data removed]",
      "text/plain": [
       "<Figure size 640x480 with 1 Axes>"
      ]
     },
     "metadata": {},
     "output_type": "display_data"
    }
   ],
   "source": [
    "data.groupby('order_month')['Quantity'].sum().plot(color='darkviolet', marker='.', lw=2)\n",
    "plt.title('Quantidade de mercadorias vendidas por mês', {'fontsize': 12,\n",
    " 'fontweight': 'bold',\n",
    " 'color': 'darkviolet'})\n",
    "plt.show()"
   ]
  },
  {
   "cell_type": "markdown",
   "id": "3cbb0311-4012-47d9-8ea5-a3f1d1cfe48a",
   "metadata": {},
   "source": [
    "Conforme já havíamos percebido, há um componente sazonal nos meses de setembro, novembro e dezembro.\n",
    "Em empresas que operam há muitos anos e há registro de grandes oscilações, pode ser mais eficiente conduzir uma análise de **escala anual**."
   ]
  },
  {
   "cell_type": "markdown",
   "id": "de089ffa-971d-41d5-8a34-4c354e9e08d7",
   "metadata": {},
   "source": [
    "Para realizar a análise ano a ano, necessitamos de uma nova coluna:"
   ]
  },
  {
   "cell_type": "code",
   "execution_count": 46,
   "id": "ab134eab-c813-43d4-8611-176421a7e557",
   "metadata": {},
   "outputs": [],
   "source": [
    "data['order_year']=pd.to_datetime(data['Order Date']).dt.to_period('y')"
   ]
  },
  {
   "cell_type": "markdown",
   "id": "e2e4baaf-6881-43b4-a8d4-a32e5c8eaa4c",
   "metadata": {},
   "source": [
    "**Evolução da receita (anual):**"
   ]
  },
  {
   "cell_type": "code",
   "execution_count": 62,
   "id": "350d20ec-ca96-4132-bc44-dd02af5834bd",
   "metadata": {},
   "outputs": [
    {
     "data": {
      "image/png": "[encoded data removed]",
      "text/plain": [
       "<Figure size 640x480 with 1 Axes>"
      ]
     },
     "metadata": {},
     "output_type": "display_data"
    }
   ],
   "source": [
    "data.groupby('order_year')['Sales'].sum().plot(color='darkviolet', marker='.', lw=2)\n",
    "plt.title('Valor das vendas por ano', {'fontsize': 12,\n",
    " 'fontweight': 'bold',\n",
    " 'color': 'darkviolet'})\n",
    "plt.show()"
   ]
  },
  {
   "cell_type": "markdown",
   "id": "fe83c3ad-2e24-4030-a381-2065490c0277",
   "metadata": {},
   "source": [
    "**Evolução da quantidade de mercadorias vendidas (anual):**\n"
   ]
  },
  {
   "cell_type": "code",
   "execution_count": 63,
   "id": "8b37391b-a0d7-4bf6-92b4-f67be07eea97",
   "metadata": {},
   "outputs": [
    {
     "data": {
      "image/png": "[encoded data removed]",
      "text/plain": [
       "<Figure size 640x480 with 1 Axes>"
      ]
     },
     "metadata": {},
     "output_type": "display_data"
    }
   ],
   "source": [
    "data.groupby('order_year')['Quantity'].sum().plot(color='darkviolet', marker='.', lw=2)\n",
    "plt.title('Quantidade de mercadorias vendidas por ano', {'fontsize': 12,\n",
    " 'fontweight': 'bold',\n",
    " 'color': 'darkviolet'})\n",
    "plt.show()"
   ]
  },
  {
   "cell_type": "markdown",
   "id": "bb594d05-da67-4b6d-a3a1-f318ec597339",
   "metadata": {},
   "source": [
    "**Situação do lucro**:"
   ]
  },
  {
   "cell_type": "markdown",
   "id": "345177d3-969a-4f48-a651-4b8ca667de1d",
   "metadata": {},
   "source": [
    "Para a análise, repetiremos o mesmo processo de agrupamento mensal da soma do lucro (coluna _Profit_). Podemos visualizar os dados em forma de gráfico para entender se há muita oscilação ou efeitos de sazonalidade."
   ]
  },
  {
   "cell_type": "markdown",
   "id": "b2f56dfd-1848-4a39-b897-394b09f523ec",
   "metadata": {},
   "source": [
    "**Evolução do lucro (mensal):**"
   ]
  },
  {
   "cell_type": "code",
   "execution_count": 64,
   "id": "b1ddbf13-c164-495e-a76a-ff791c9a2bcf",
   "metadata": {},
   "outputs": [
    {
     "data": {
      "image/png": "[encoded data removed]",
      "text/plain": [
       "<Figure size 640x480 with 1 Axes>"
      ]
     },
     "metadata": {},
     "output_type": "display_data"
    }
   ],
   "source": [
    "data.groupby('order_month')['Profit'].sum().plot(color='blue', marker='.', lw=2)\n",
    "plt.title('Lucro por mês', {'fontsize': 12,\n",
    " 'fontweight': 'bold',\n",
    " 'color': 'blue'})\n",
    "plt.show()"
   ]
  },
  {
   "cell_type": "markdown",
   "id": "207e03c9-2997-43e5-8ec5-28105630da8c",
   "metadata": {},
   "source": [
    "**Evolução do lucro (anual):**"
   ]
  },
  {
   "cell_type": "code",
   "execution_count": 65,
   "id": "80ab33fe-6282-4ea9-a384-468b7684f50a",
   "metadata": {},
   "outputs": [
    {
     "data": {
      "image/png": "[encoded data removed]",
      "text/plain": [
       "<Figure size 640x480 with 1 Axes>"
      ]
     },
     "metadata": {},
     "output_type": "display_data"
    }
   ],
   "source": [
    "data.groupby('order_year')['Profit'].sum().plot(color='blue', marker='.', lw=2)\n",
    "plt.title('Lucro por ano', {'fontsize': 12,\n",
    " 'fontweight': 'bold',\n",
    " 'color': 'blue'})\n",
    "plt.show()"
   ]
  },
  {
   "cell_type": "markdown",
   "id": "e1013c99-652b-4b45-b341-970e6315d25f",
   "metadata": {},
   "source": [
    "Conseguimos responder a nossa pergunta: com a observação dos dados em forma de gráfico, notamos que há **aumento progressivo de vendas e lucro** com o passar do tempo."
   ]
  },
  {
   "cell_type": "markdown",
   "id": "b55446be-1179-436c-b512-e74016424bad",
   "metadata": {},
   "source": [
    "#### **Quais são os segmentos mais lucrativos?**"
   ]
  },
  {
   "cell_type": "markdown",
   "id": "9a6df33a-20e6-47ca-804a-34d45269acd2",
   "metadata": {},
   "source": [
    "Note como `groupby` é uma das funções mais utilizadas em Python! Mais uma vez, vamos agrupar as informações: dessa vez, a soma do lucro por segmento."
   ]
  },
  {
   "cell_type": "code",
   "execution_count": 59,
   "id": "9a36875b-8bac-4aa9-aa1a-38f4738a6df7",
   "metadata": {},
   "outputs": [
    {
     "data": {
      "text/plain": [
       "Segment\n",
       "Consumer       134119.2092\n",
       "Corporate       91979.1340\n",
       "Home Office     60298.6785\n",
       "Name: Profit, dtype: float64"
      ]
     },
     "execution_count": 59,
     "metadata": {},
     "output_type": "execute_result"
    }
   ],
   "source": [
    "data.groupby('Segment')['Profit'].sum()"
   ]
  },
  {
   "cell_type": "markdown",
   "id": "8bdb76a0-207f-4f82-ad5c-7f7cee018667",
   "metadata": {},
   "source": [
    "**Lucro por segmento:**"
   ]
  },
  {
   "cell_type": "code",
   "execution_count": 66,
   "id": "a3394b94-340c-4533-a23a-d0aa56cbcc10",
   "metadata": {},
   "outputs": [
    {
     "data": {
      "image/png": "[encoded data removed]",
      "text/plain": [
       "<Figure size 640x480 with 1 Axes>"
      ]
     },
     "metadata": {},
     "output_type": "display_data"
    }
   ],
   "source": [
    "colors=['steelblue', 'royalblue', 'mediumblue']\n",
    "\n",
    "def make_autopct(values):\n",
    "    def my_autopct(pct):\n",
    "        total = sum(values)\n",
    "        val = int(round(pct*total/100.0))\n",
    "        return '{p:.2f}%  ({v:d})'.format(p=pct,v=val)\n",
    "    return my_autopct\n",
    "\n",
    "plt.pie(data.groupby('Segment')['Profit'].sum(), colors=colors, labels=data.groupby('Segment')['Profit'].sum().index,\n",
    "autopct=make_autopct(data.groupby('Segment')['Profit'].sum()))\n",
    "plt.show()"
   ]
  },
  {
   "cell_type": "markdown",
   "id": "0f1c644c-9c65-4ca0-be0e-c81f4090af11",
   "metadata": {},
   "source": [
    "Rapidamente descobrimos que o segmento de produtos mais lucrativo é o segmento _Consumer_."
   ]
  },
  {
   "cell_type": "markdown",
   "id": "ef314f40-ce5e-4757-a08b-03066078e434",
   "metadata": {},
   "source": [
    "O segmento _Consumer_ ocupa esta posição por ser campeão em quantidade de pedidos, por seus pedidos serem mais lucrativos ou por ambas as possibilidades? Prosseguindo em nossa investigação, vamos analisar o **lucro médio** dos pedidos em cada segmento **dividindo a soma do lucro pela soma da quantidade de pedidos**."
   ]
  },
  {
   "cell_type": "code",
   "execution_count": 67,
   "id": "2deb096e-627b-48be-96b8-3ed8db22a8be",
   "metadata": {},
   "outputs": [
    {
     "data": {
      "text/plain": [
       "Segment\n",
       "Consumer       6.870509\n",
       "Corporate      7.923771\n",
       "Home Office    8.941085\n",
       "dtype: float64"
      ]
     },
     "execution_count": 67,
     "metadata": {},
     "output_type": "execute_result"
    }
   ],
   "source": [
    "data.groupby('Segment')['Profit'].sum()/data.groupby('Segment')['Quantity'].sum()"
   ]
  },
  {
   "cell_type": "markdown",
   "id": "77ad5031-c8e6-4f30-8e0a-4eeb232a8162",
   "metadata": {},
   "source": [
    "Observamos que o segmento _Consumer_ é o mais lucrativo devido à quantidade de produtos vendidos ser maior. Quando consideramos lucro por mercadoria vendida, a área _Home Office_ ganha.\r",
    "**Seria interessante investir no Marketing do segmento _Home Office_ para otimizar o lucro da empresa.**"
   ]
  },
  {
   "cell_type": "markdown",
   "id": "1743fbb6-df3f-4fe2-964a-744a7acde771",
   "metadata": {},
   "source": [
    "#### **Quais regiões geram maior receita e lucro?**"
   ]
  },
  {
   "cell_type": "markdown",
   "id": "5066db46-f25f-473c-9dd1-16d8c4eaa5e2",
   "metadata": {},
   "source": [
    "Vamos fazer o agrupamento por região com a soma de três variáveis distintas, sendo elas Receita, Lucro e Quantidade de vendas. Quando temos uma série de dados (no caso, três colunas) na função, usamos dois colchetes."
   ]
  },
  {
   "cell_type": "code",
   "execution_count": 63,
   "id": "f20d573b-a805-4a64-8a52-f9154a4ba425",
   "metadata": {},
   "outputs": [
    {
     "data": {
      "text/html": [
       "<div>\n",
       "<style scoped>\n",
       "    .dataframe tbody tr th:only-of-type {\n",
       "        vertical-align: middle;\n",
       "    }\n",
       "\n",
       "    .dataframe tbody tr th {\n",
       "        vertical-align: top;\n",
       "    }\n",
       "\n",
       "    .dataframe thead th {\n",
       "        text-align: right;\n",
       "    }\n",
       "</style>\n",
       "<table border=\"1\" class=\"dataframe\">\n",
       "  <thead>\n",
       "    <tr style=\"text-align: right;\">\n",
       "      <th></th>\n",
       "      <th>Sales</th>\n",
       "      <th>Profit</th>\n",
       "      <th>Quantity</th>\n",
       "    </tr>\n",
       "    <tr>\n",
       "      <th>Region</th>\n",
       "      <th></th>\n",
       "      <th></th>\n",
       "      <th></th>\n",
       "    </tr>\n",
       "  </thead>\n",
       "  <tbody>\n",
       "    <tr>\n",
       "      <th>Central</th>\n",
       "      <td>501239.8908</td>\n",
       "      <td>39706.3625</td>\n",
       "      <td>8780</td>\n",
       "    </tr>\n",
       "    <tr>\n",
       "      <th>East</th>\n",
       "      <td>678781.2400</td>\n",
       "      <td>91522.7800</td>\n",
       "      <td>10618</td>\n",
       "    </tr>\n",
       "    <tr>\n",
       "      <th>South</th>\n",
       "      <td>391721.9050</td>\n",
       "      <td>46749.4303</td>\n",
       "      <td>6209</td>\n",
       "    </tr>\n",
       "    <tr>\n",
       "      <th>West</th>\n",
       "      <td>725457.8245</td>\n",
       "      <td>108418.4489</td>\n",
       "      <td>12266</td>\n",
       "    </tr>\n",
       "  </tbody>\n",
       "</table>\n",
       "</div>"
      ],
      "text/plain": [
       "               Sales       Profit  Quantity\n",
       "Region                                     \n",
       "Central  501239.8908   39706.3625      8780\n",
       "East     678781.2400   91522.7800     10618\n",
       "South    391721.9050   46749.4303      6209\n",
       "West     725457.8245  108418.4489     12266"
      ]
     },
     "execution_count": 63,
     "metadata": {},
     "output_type": "execute_result"
    }
   ],
   "source": [
    "data.groupby('Region')[['Sales', 'Profit', 'Quantity']].sum()"
   ]
  },
  {
   "cell_type": "code",
   "execution_count": 9,
   "id": "f1a44b82-0d04-45e4-99e2-8a4639f40e94",
   "metadata": {},
   "outputs": [
    {
     "data": {
      "image/png": "[encoded data removed]",
      "text/plain": [
       "<Figure size 640x480 with 1 Axes>"
      ]
     },
     "metadata": {},
     "output_type": "display_data"
    }
   ],
   "source": [
    "categorias=data.groupby('Region')[['Sales', 'Profit', 'Quantity']].sum()\n",
    "plt.bar(categorias['Sales'].index, categorias['Sales'].values, color='darkred')\n",
    "plt.ylabel('Receita')\n",
    "plt.title('Receita por região')\n",
    "plt.show()"
   ]
  },
  {
   "cell_type": "code",
   "execution_count": 70,
   "id": "be7ad3d7-c074-4860-adb2-6503b335053a",
   "metadata": {},
   "outputs": [
    {
     "data": {
      "image/png": "[encoded data removed]",
      "text/plain": [
       "<Figure size 640x480 with 1 Axes>"
      ]
     },
     "metadata": {},
     "output_type": "display_data"
    }
   ],
   "source": [
    "categorias=data.groupby('Region')[['Sales', 'Profit', 'Quantity']].sum()\n",
    "plt.bar(categorias['Profit'].index, categorias['Profit'].values, color='crimson')\n",
    "plt.ylabel('Lucro')\n",
    "plt.title('Lucro por região')\n",
    "plt.show()"
   ]
  },
  {
   "cell_type": "code",
   "execution_count": 78,
   "id": "20dcbdbc-1e3e-4396-b1e1-74725291b4c4",
   "metadata": {},
   "outputs": [
    {
     "data": {
      "image/png": "[encoded data removed]",
      "text/plain": [
       "<Figure size 640x480 with 1 Axes>"
      ]
     },
     "metadata": {},
     "output_type": "display_data"
    }
   ],
   "source": [
    "categorias=data.groupby('Region')[['Sales', 'Profit', 'Quantity']].sum()\n",
    "plt.bar(categorias['Quantity'].index, categorias['Quantity'].values, color='tomato')\n",
    "plt.ylabel('Quantidade')\n",
    "plt.title('Quantidade de vendas por região')\n",
    "plt.show()"
   ]
  },
  {
   "cell_type": "markdown",
   "id": "b4d2ddfd-0317-4957-b1dd-e2ab9782021d",
   "metadata": {},
   "source": [
    "Percebemos que as regiões Oeste e Leste são numericamente campeãs em receita, lucro e vendas.\r",
    "A partir destes dados, podemos pensar em **novas questões**: o destaque das regiões Oeste e Leste sempre se manteve ou é recente?\r",
    "É possível que as estratégias de marketing estejam sendo direcionadas a regiões que não se interessam mais por nossos produtos?"
   ]
  },
  {
   "cell_type": "markdown",
   "id": "818049ff-0937-45b4-9a10-ac75c8997480",
   "metadata": {},
   "source": [
    "Vamos acompanhar a evolução da receita, do lucro e da quantidade de vendas ao longo do tempo:"
   ]
  },
  {
   "cell_type": "code",
   "execution_count": 72,
   "id": "7c6a7d10-6efb-499e-ad6a-929de66f648d",
   "metadata": {},
   "outputs": [
    {
     "data": {
      "text/html": [
       "<div>\n",
       "<style scoped>\n",
       "    .dataframe tbody tr th:only-of-type {\n",
       "        vertical-align: middle;\n",
       "    }\n",
       "\n",
       "    .dataframe tbody tr th {\n",
       "        vertical-align: top;\n",
       "    }\n",
       "\n",
       "    .dataframe thead th {\n",
       "        text-align: right;\n",
       "    }\n",
       "</style>\n",
       "<table border=\"1\" class=\"dataframe\">\n",
       "  <thead>\n",
       "    <tr style=\"text-align: right;\">\n",
       "      <th></th>\n",
       "      <th></th>\n",
       "      <th>Sales</th>\n",
       "      <th>Profit</th>\n",
       "      <th>Quantity</th>\n",
       "    </tr>\n",
       "    <tr>\n",
       "      <th>order_year</th>\n",
       "      <th>Region</th>\n",
       "      <th></th>\n",
       "      <th></th>\n",
       "      <th></th>\n",
       "    </tr>\n",
       "  </thead>\n",
       "  <tbody>\n",
       "    <tr>\n",
       "      <th rowspan=\"4\" valign=\"top\">2014</th>\n",
       "      <th>Central</th>\n",
       "      <td>103838.1646</td>\n",
       "      <td>539.5534</td>\n",
       "      <td>1726</td>\n",
       "    </tr>\n",
       "    <tr>\n",
       "      <th>East</th>\n",
       "      <td>128680.4570</td>\n",
       "      <td>17059.6095</td>\n",
       "      <td>1986</td>\n",
       "    </tr>\n",
       "    <tr>\n",
       "      <th>South</th>\n",
       "      <td>103845.8435</td>\n",
       "      <td>11879.1200</td>\n",
       "      <td>1336</td>\n",
       "    </tr>\n",
       "    <tr>\n",
       "      <th>West</th>\n",
       "      <td>147883.0330</td>\n",
       "      <td>20065.6912</td>\n",
       "      <td>2533</td>\n",
       "    </tr>\n",
       "    <tr>\n",
       "      <th rowspan=\"4\" valign=\"top\">2015</th>\n",
       "      <th>Central</th>\n",
       "      <td>102874.2220</td>\n",
       "      <td>11716.8020</td>\n",
       "      <td>1815</td>\n",
       "    </tr>\n",
       "    <tr>\n",
       "      <th>East</th>\n",
       "      <td>156332.0570</td>\n",
       "      <td>21091.0130</td>\n",
       "      <td>2382</td>\n",
       "    </tr>\n",
       "    <tr>\n",
       "      <th>South</th>\n",
       "      <td>71359.9805</td>\n",
       "      <td>8318.5940</td>\n",
       "      <td>1344</td>\n",
       "    </tr>\n",
       "    <tr>\n",
       "      <th>West</th>\n",
       "      <td>139966.2495</td>\n",
       "      <td>20492.1947</td>\n",
       "      <td>2438</td>\n",
       "    </tr>\n",
       "    <tr>\n",
       "      <th rowspan=\"4\" valign=\"top\">2016</th>\n",
       "      <th>Central</th>\n",
       "      <td>147429.3760</td>\n",
       "      <td>19899.1629</td>\n",
       "      <td>2359</td>\n",
       "    </tr>\n",
       "    <tr>\n",
       "      <th>East</th>\n",
       "      <td>180685.8220</td>\n",
       "      <td>20141.5961</td>\n",
       "      <td>2839</td>\n",
       "    </tr>\n",
       "    <tr>\n",
       "      <th>South</th>\n",
       "      <td>93610.2235</td>\n",
       "      <td>17702.8084</td>\n",
       "      <td>1614</td>\n",
       "    </tr>\n",
       "    <tr>\n",
       "      <th>West</th>\n",
       "      <td>187480.1765</td>\n",
       "      <td>24051.6069</td>\n",
       "      <td>3025</td>\n",
       "    </tr>\n",
       "    <tr>\n",
       "      <th rowspan=\"4\" valign=\"top\">2017</th>\n",
       "      <th>Central</th>\n",
       "      <td>147098.1282</td>\n",
       "      <td>7550.8442</td>\n",
       "      <td>2880</td>\n",
       "    </tr>\n",
       "    <tr>\n",
       "      <th>East</th>\n",
       "      <td>213082.9040</td>\n",
       "      <td>33230.5614</td>\n",
       "      <td>3411</td>\n",
       "    </tr>\n",
       "    <tr>\n",
       "      <th>South</th>\n",
       "      <td>122905.8575</td>\n",
       "      <td>8848.9079</td>\n",
       "      <td>1915</td>\n",
       "    </tr>\n",
       "    <tr>\n",
       "      <th>West</th>\n",
       "      <td>250128.3655</td>\n",
       "      <td>43808.9561</td>\n",
       "      <td>4270</td>\n",
       "    </tr>\n",
       "  </tbody>\n",
       "</table>\n",
       "</div>"
      ],
      "text/plain": [
       "                          Sales      Profit  Quantity\n",
       "order_year Region                                    \n",
       "2014       Central  103838.1646    539.5534      1726\n",
       "           East     128680.4570  17059.6095      1986\n",
       "           South    103845.8435  11879.1200      1336\n",
       "           West     147883.0330  20065.6912      2533\n",
       "2015       Central  102874.2220  11716.8020      1815\n",
       "           East     156332.0570  21091.0130      2382\n",
       "           South     71359.9805   8318.5940      1344\n",
       "           West     139966.2495  20492.1947      2438\n",
       "2016       Central  147429.3760  19899.1629      2359\n",
       "           East     180685.8220  20141.5961      2839\n",
       "           South     93610.2235  17702.8084      1614\n",
       "           West     187480.1765  24051.6069      3025\n",
       "2017       Central  147098.1282   7550.8442      2880\n",
       "           East     213082.9040  33230.5614      3411\n",
       "           South    122905.8575   8848.9079      1915\n",
       "           West     250128.3655  43808.9561      4270"
      ]
     },
     "execution_count": 72,
     "metadata": {},
     "output_type": "execute_result"
    }
   ],
   "source": [
    "data.groupby(['order_year', 'Region'])[['Sales', 'Profit', 'Quantity']].sum()"
   ]
  },
  {
   "cell_type": "markdown",
   "id": "3f40f760-c651-4b5c-98d2-6fe243bd2b53",
   "metadata": {},
   "source": [
    "Em quantidades, a tendência de prevalência das regiões Oeste e Leste se manteve ao longo dos anos. Já em números de vendas, observamos uma certa nebulosidade."
   ]
  },
  {
   "cell_type": "markdown",
   "id": "5121fb95-6373-427f-94c8-4d72ffa42b7a",
   "metadata": {},
   "source": [
    "Vamos olhar especificamente para a **receita** ao longo dos anos e por região. Para melhor visualização, é possível usar a função `unstack`."
   ]
  },
  {
   "cell_type": "code",
   "execution_count": 76,
   "id": "51d4325f-e1b3-4ce7-9f99-f80b9d2b935d",
   "metadata": {},
   "outputs": [
    {
     "data": {
      "text/plain": [
       "Text(0.5, 1.0, 'Evolução da receita ao longo do tempo')"
      ]
     },
     "execution_count": 76,
     "metadata": {},
     "output_type": "execute_result"
    },
    {
     "data": {
      "image/png": "[encoded data removed]",
      "text/plain": [
       "<Figure size 640x480 with 1 Axes>"
      ]
     },
     "metadata": {},
     "output_type": "display_data"
    }
   ],
   "source": [
    "data.groupby(['order_year', 'Region'])['Sales'].sum().unstack().plot()\n",
    "plt.title('Evolução da receita ao longo do tempo')\n"
   ]
  },
  {
   "cell_type": "markdown",
   "id": "82d3fda9-539e-4b96-8e97-3bdc9c2ddd78",
   "metadata": {},
   "source": [
    "Sempre houve uma competição acirrada entre vendas no Oeste e no Leste, mas nos últimos anos Oeste se encontra mais destacado."
   ]
  },
  {
   "cell_type": "markdown",
   "id": "73875429-8309-4c4a-bd6b-6c7fcf463b33",
   "metadata": {},
   "source": [
    "Em seguida, vamos olhar especificamente para o **lucro** ao longo dos anos e por região."
   ]
  },
  {
   "cell_type": "code",
   "execution_count": 77,
   "id": "f66cff3d-a903-406d-b2bd-97d43afc0baf",
   "metadata": {},
   "outputs": [
    {
     "data": {
      "text/plain": [
       "Text(0.5, 1.0, 'Evolução do lucro ao longo do tempo')"
      ]
     },
     "execution_count": 77,
     "metadata": {},
     "output_type": "execute_result"
    },
    {
     "data": {
      "image/png": "[encoded data removed]",
      "text/plain": [
       "<Figure size 640x480 with 1 Axes>"
      ]
     },
     "metadata": {},
     "output_type": "display_data"
    }
   ],
   "source": [
    "data.groupby(['order_year', 'Region'])['Profit'].sum().unstack().plot()\n",
    "plt.title('Evolução do lucro ao longo do tempo')\n"
   ]
  },
  {
   "cell_type": "markdown",
   "id": "b4e2bd8d-35f4-4308-b906-c816f4556c93",
   "metadata": {},
   "source": [
    "As mesmas tendências são observadas.\n"
   ]
  },
  {
   "cell_type": "markdown",
   "id": "55bfb1d3-8bb3-4748-a62a-e2c5e4693410",
   "metadata": {},
   "source": [
    "Respondendo à nossa pergunta de negócio, **as regiões mais lucrativas são Oeste e Leste**. Podemos considerar investir em mais propagandas direcionadas a estes locais."
   ]
  },
  {
   "cell_type": "markdown",
   "id": "f3d170d5-b0c0-4ee3-a672-4d71619f2912",
   "metadata": {},
   "source": [
    "#### **Quais são as categorias de produtos mais pedidas?**"
   ]
  },
  {
   "cell_type": "markdown",
   "id": "209116a6-4a6d-41eb-a7e3-1f48711fcc90",
   "metadata": {},
   "source": [
    "Vamos supor que desejamos analisar estas categorias com a finalidade de desenvolver estratégias de marketing bem orientadas. Uma boa ideia seria realizar a filtragem dos dados para os anos mais recentes do nosso _dataset_.\n"
   ]
  },
  {
   "cell_type": "markdown",
   "id": "02d7efa6-63e7-4658-924b-306766bf8468",
   "metadata": {},
   "source": [
    "Observação: se escrevermos apenas `data[data['order_year']>=2016]`, o resultado apresentará erro. Nossa coluna _order_year_ está em formato período e 2016 é formato número inteiro. É preciso converter a informação usando a função `astype` e criar uma coluna de _order_year_ numérico."
   ]
  },
  {
   "cell_type": "code",
   "execution_count": 79,
   "id": "ba8acc07-2364-4902-a26b-2150b5f80c59",
   "metadata": {},
   "outputs": [],
   "source": [
    "data['order_year_numerico']=data['order_year'].astype('int64')\n",
    "data_recente=data[data['order_year_numerico']>=46]"
   ]
  },
  {
   "cell_type": "markdown",
   "id": "b6157c91-bb5a-4493-8669-1025ba83f636",
   "metadata": {},
   "source": [
    "Por alguma razão desconhecida, a coluna _order_year_numerico_ transformou o número 2015 em 45, o número 2016 em 46 e assim por diante. Por conta disso, foi necessário realizar uma \"gambiarra\" no código para filtrarmos os dados dos anos mais recentes (2016 e 2017)."
   ]
  },
  {
   "cell_type": "markdown",
   "id": "2dfe78eb-8877-4ea1-9c40-b7c02df22610",
   "metadata": {},
   "source": [
    "Agora que possuímos uma tabela (_data_recente_) apenas com dados de 2016 em diante, podemos agrupar as categorias por lucro total. Para que os resultados apareçam em ordem decrescente, usamos a função `sort_values(ascending=False)`."
   ]
  },
  {
   "cell_type": "code",
   "execution_count": 80,
   "id": "d58470c6-be6b-4ffd-989a-5c287ca68600",
   "metadata": {},
   "outputs": [
    {
     "data": {
      "text/plain": [
       "Category\n",
       "Technology         90458.2486\n",
       "Office Supplies    74797.8509\n",
       "Furniture           9978.3444\n",
       "Name: Profit, dtype: float64"
      ]
     },
     "execution_count": 80,
     "metadata": {},
     "output_type": "execute_result"
    }
   ],
   "source": [
    "data_recente.groupby('Category')['Profit'].sum().sort_values(ascending=False)"
   ]
  },
  {
   "cell_type": "markdown",
   "id": "e5cedf4d-f709-45f4-a502-dc7c8f477f8b",
   "metadata": {},
   "source": [
    "**Tecnologia é a categoria mais lucrativa**. Podemos descobrir também qual é a categoria com mais lucro por unidade vendida (com o intuito de entender se essa organização se dá por número ou por valor das vendas)."
   ]
  },
  {
   "cell_type": "code",
   "execution_count": 81,
   "id": "cf1f9150-6bcc-4bf9-88d5-687e16a96dbf",
   "metadata": {},
   "outputs": [
    {
     "data": {
      "text/plain": [
       "Category\n",
       "Technology         22.27487\n",
       "Office Supplies     5.49096\n",
       "Furniture           2.15515\n",
       "dtype: float64"
      ]
     },
     "execution_count": 81,
     "metadata": {},
     "output_type": "execute_result"
    }
   ],
   "source": [
    "total_lucro=data_recente.groupby('Category')['Profit'].sum()\n",
    "total_unidade=data_recente.groupby('Category')['Quantity'].sum()\n",
    "(total_lucro/total_unidade).sort_values(ascending=False)"
   ]
  },
  {
   "cell_type": "markdown",
   "id": "17fb19ae-7721-45a9-b984-9a625456a36b",
   "metadata": {},
   "source": [
    "**Confirmamos que a área de tecnologia é altamente lucrativa**. Bom setor para investir em estratégias e aumentar a quantidade de vendas."
   ]
  },
  {
   "cell_type": "markdown",
   "id": "9d32a5b7-6b3f-4e88-8878-d0a7e5656d31",
   "metadata": {},
   "source": [
    "Por curiosidade, podemos averiguar como é a distribuição de lucro destas categorias nas regiões mais destacadas, Oeste e Leste. Vamos começar criando um filtro para as regiões."
   ]
  },
  {
   "cell_type": "code",
   "execution_count": 105,
   "id": "ffc9ef7f-46db-42aa-9334-a76555aebf0d",
   "metadata": {},
   "outputs": [],
   "source": [
    "data_recente_west_east=data_recente[(data_recente['Region']=='West') | (data_recente['Region']=='East')]"
   ]
  },
  {
   "cell_type": "markdown",
   "id": "8ee5e219-05f2-481d-81b7-ed241996f5f2",
   "metadata": {},
   "source": [
    "Em seguida, realizaremos um agrupamento por região e categoria. "
   ]
  },
  {
   "cell_type": "code",
   "execution_count": 106,
   "id": "b7a03d6f-76dc-427c-b5c2-022b0081b593",
   "metadata": {},
   "outputs": [
    {
     "data": {
      "image/png": "[encoded data removed]",
      "text/plain": [
       "<Figure size 640x480 with 1 Axes>"
      ]
     },
     "metadata": {},
     "output_type": "display_data"
    }
   ],
   "source": [
    "data_recente_west_east.groupby(['Region', 'Category'])['Profit'].sum().unstack().plot.barh()\n",
    "plt.show()"
   ]
  },
  {
   "cell_type": "markdown",
   "id": "fee1ee24-96f5-4250-adf8-2d5c797b0d26",
   "metadata": {},
   "source": [
    "Observar estes dados pode ser interessante para gerar conhecimentos ainda mais específicos a cada tipo de região."
   ]
  },
  {
   "cell_type": "markdown",
   "id": "cbf67fd0-4461-4efe-97aa-e80e52538827",
   "metadata": {},
   "source": [
    "#### **Quais subcategorias de produtos tecnológicos são as mais relevantes?**"
   ]
  },
  {
   "cell_type": "markdown",
   "id": "e9b2114e-9403-4236-ac05-fcabc6ac16ca",
   "metadata": {},
   "source": [
    "Vamos filtrar a tabela _data_recente_ para visualizarmos apenas as informações de tecnologia e agrupar os dados por subcategoria."
   ]
  },
  {
   "cell_type": "code",
   "execution_count": 82,
   "id": "b558bf04-09eb-4577-94c2-1b252e53a6f6",
   "metadata": {},
   "outputs": [
    {
     "data": {
      "text/html": [
       "<div>\n",
       "<style scoped>\n",
       "    .dataframe tbody tr th:only-of-type {\n",
       "        vertical-align: middle;\n",
       "    }\n",
       "\n",
       "    .dataframe tbody tr th {\n",
       "        vertical-align: top;\n",
       "    }\n",
       "\n",
       "    .dataframe thead th {\n",
       "        text-align: right;\n",
       "    }\n",
       "</style>\n",
       "<table border=\"1\" class=\"dataframe\">\n",
       "  <thead>\n",
       "    <tr style=\"text-align: right;\">\n",
       "      <th></th>\n",
       "      <th>Sales</th>\n",
       "      <th>Quantity</th>\n",
       "      <th>Profit</th>\n",
       "    </tr>\n",
       "    <tr>\n",
       "      <th>Sub-Category</th>\n",
       "      <th></th>\n",
       "      <th></th>\n",
       "      <th></th>\n",
       "    </tr>\n",
       "  </thead>\n",
       "  <tbody>\n",
       "    <tr>\n",
       "      <th>Accessories</th>\n",
       "      <td>101842.086</td>\n",
       "      <td>1761</td>\n",
       "      <td>25336.6455</td>\n",
       "    </tr>\n",
       "    <tr>\n",
       "      <th>Copiers</th>\n",
       "      <td>112498.798</td>\n",
       "      <td>142</td>\n",
       "      <td>42774.5828</td>\n",
       "    </tr>\n",
       "    <tr>\n",
       "      <th>Machines</th>\n",
       "      <td>99451.561</td>\n",
       "      <td>250</td>\n",
       "      <td>38.1024</td>\n",
       "    </tr>\n",
       "    <tr>\n",
       "      <th>Phones</th>\n",
       "      <td>184302.546</td>\n",
       "      <td>1908</td>\n",
       "      <td>22308.9179</td>\n",
       "    </tr>\n",
       "  </tbody>\n",
       "</table>\n",
       "</div>"
      ],
      "text/plain": [
       "                   Sales  Quantity      Profit\n",
       "Sub-Category                                  \n",
       "Accessories   101842.086      1761  25336.6455\n",
       "Copiers       112498.798       142  42774.5828\n",
       "Machines       99451.561       250     38.1024\n",
       "Phones        184302.546      1908  22308.9179"
      ]
     },
     "execution_count": 82,
     "metadata": {},
     "output_type": "execute_result"
    }
   ],
   "source": [
    "data_recente[data_recente['Category']=='Technology'].groupby('Sub-Category')[['Sales', 'Quantity', 'Profit']].sum()"
   ]
  },
  {
   "cell_type": "markdown",
   "id": "79046cb5-b60b-4462-8e95-4dc1ea62c3e2",
   "metadata": {},
   "source": [
    "As subcategorias mais relevantes são os produtos de **telefones e copiadoras**.\n",
    "Novamente, devemos descobrir qual é a subcategoria com mais lucro por unidade vendida (com o intuito de entender se essa organização se dá por número ou por valor das vendas)."
   ]
  },
  {
   "cell_type": "markdown",
   "id": "3ab2c8c4-1e16-4122-89d2-ad4089740b2f",
   "metadata": {},
   "source": [
    "Nomeamos a tabela..."
   ]
  },
  {
   "cell_type": "code",
   "execution_count": 88,
   "id": "e5239321-3b70-494a-a58a-19b8c9760ecc",
   "metadata": {},
   "outputs": [],
   "source": [
    "data_tech=data_recente[data_recente['Category']=='Technology'].groupby('Sub-Category')[['Sales', 'Quantity', 'Profit']].sum()"
   ]
  },
  {
   "cell_type": "markdown",
   "id": "e3fc3922-a3de-419a-87ac-3587290b6d66",
   "metadata": {},
   "source": [
    "E criamos uma nova coluna de lucro por unidade de venda (_Profit_/_Quantity_)."
   ]
  },
  {
   "cell_type": "code",
   "execution_count": 89,
   "id": "dcbb231e-9995-46ee-b73d-89f18de07aaa",
   "metadata": {},
   "outputs": [
    {
     "data": {
      "text/html": [
       "<div>\n",
       "<style scoped>\n",
       "    .dataframe tbody tr th:only-of-type {\n",
       "        vertical-align: middle;\n",
       "    }\n",
       "\n",
       "    .dataframe tbody tr th {\n",
       "        vertical-align: top;\n",
       "    }\n",
       "\n",
       "    .dataframe thead th {\n",
       "        text-align: right;\n",
       "    }\n",
       "</style>\n",
       "<table border=\"1\" class=\"dataframe\">\n",
       "  <thead>\n",
       "    <tr style=\"text-align: right;\">\n",
       "      <th></th>\n",
       "      <th>Sales</th>\n",
       "      <th>Quantity</th>\n",
       "      <th>Profit</th>\n",
       "      <th>profit_per_quantity</th>\n",
       "    </tr>\n",
       "    <tr>\n",
       "      <th>Sub-Category</th>\n",
       "      <th></th>\n",
       "      <th></th>\n",
       "      <th></th>\n",
       "      <th></th>\n",
       "    </tr>\n",
       "  </thead>\n",
       "  <tbody>\n",
       "    <tr>\n",
       "      <th>Accessories</th>\n",
       "      <td>101842.086</td>\n",
       "      <td>1761</td>\n",
       "      <td>25336.6455</td>\n",
       "      <td>14.387647</td>\n",
       "    </tr>\n",
       "    <tr>\n",
       "      <th>Copiers</th>\n",
       "      <td>112498.798</td>\n",
       "      <td>142</td>\n",
       "      <td>42774.5828</td>\n",
       "      <td>301.229456</td>\n",
       "    </tr>\n",
       "    <tr>\n",
       "      <th>Machines</th>\n",
       "      <td>99451.561</td>\n",
       "      <td>250</td>\n",
       "      <td>38.1024</td>\n",
       "      <td>0.152410</td>\n",
       "    </tr>\n",
       "    <tr>\n",
       "      <th>Phones</th>\n",
       "      <td>184302.546</td>\n",
       "      <td>1908</td>\n",
       "      <td>22308.9179</td>\n",
       "      <td>11.692305</td>\n",
       "    </tr>\n",
       "  </tbody>\n",
       "</table>\n",
       "</div>"
      ],
      "text/plain": [
       "                   Sales  Quantity      Profit  profit_per_quantity\n",
       "Sub-Category                                                       \n",
       "Accessories   101842.086      1761  25336.6455            14.387647\n",
       "Copiers       112498.798       142  42774.5828           301.229456\n",
       "Machines       99451.561       250     38.1024             0.152410\n",
       "Phones        184302.546      1908  22308.9179            11.692305"
      ]
     },
     "execution_count": 89,
     "metadata": {},
     "output_type": "execute_result"
    }
   ],
   "source": [
    "data_tech['profit_per_quantity']=data_tech['Profit']/data_tech['Quantity']\n",
    "\n",
    "data_tech"
   ]
  },
  {
   "cell_type": "markdown",
   "id": "528e9797-ce2a-4e1d-933b-80f4e4867cd1",
   "metadata": {},
   "source": [
    "Notamos que a subcategoria que pode gerar mais lucro por unidade vendida são as **copiadoras**."
   ]
  },
  {
   "cell_type": "markdown",
   "id": "6a1b0737-8d20-49b9-a30a-6946c5fbbd23",
   "metadata": {},
   "source": [
    "✍ O quanto conseguiríamos de fato ampliar a venda das copiadoras? Suponha que seja possível vender no máximo 500 copiadoras por mês, mas que para os telefones seja possível ampliar os números de vendas em até 20 vezes. A melhor subcategoria deve levar em consideração a possibilidade de escala -  e aqui reside a importância das análises de cenário com _business development_."
   ]
  },
  {
   "cell_type": "markdown",
   "id": "21a2c658-00fb-49f9-adbe-5888b260d298",
   "metadata": {},
   "source": [
    "#### **Qual estado possui mais vendas?**"
   ]
  },
  {
   "cell_type": "markdown",
   "id": "98180c5c-e692-42f4-9916-72f4430d4829",
   "metadata": {},
   "source": [
    "Vamos agrupar os dados da tabela _data_recente_ por estado, analisando valores de lucro e vendas."
   ]
  },
  {
   "cell_type": "markdown",
   "id": "2090abe0-c2d2-4b19-81ca-c763bcef3c73",
   "metadata": {},
   "source": [
    "**Top 10 estados em lucro:**"
   ]
  },
  {
   "cell_type": "code",
   "execution_count": 94,
   "id": "a35e0493-0c23-4ce3-b081-d8f0f3cb63ba",
   "metadata": {},
   "outputs": [
    {
     "data": {
      "text/plain": [
       "State\n",
       "California    49372.1750\n",
       "New York      41012.0212\n",
       "Washington    21466.6555\n",
       "Michigan      17480.2806\n",
       "Indiana       15524.6596\n",
       "Georgia        9994.4165\n",
       "Virginia       9657.4876\n",
       "New Jersey     7213.0952\n",
       "Delaware       7029.9107\n",
       "Kentucky       5968.3840\n",
       "Name: Profit, dtype: float64"
      ]
     },
     "execution_count": 94,
     "metadata": {},
     "output_type": "execute_result"
    }
   ],
   "source": [
    "data_recente.groupby('State')['Profit'].sum().sort_values(ascending=False).head(10)"
   ]
  },
  {
   "cell_type": "code",
   "execution_count": 104,
   "id": "827eb726-d455-4059-837c-201b2bb0290b",
   "metadata": {},
   "outputs": [
    {
     "data": {
      "image/png": "[encoded data removed]",
      "text/plain": [
       "<Figure size 600x400 with 1 Axes>"
      ]
     },
     "metadata": {},
     "output_type": "display_data"
    }
   ],
   "source": [
    "top_ten_profit=data_recente.groupby('State')['Profit'].sum().sort_values(ascending=False).head(10).sort_values(ascending=True)\n",
    "\n",
    "plt.figure(figsize=(6,4))\n",
    "plt.barh(top_ten_profit.index, top_ten_profit.values, color='purple')\n",
    "plt.title('Top 10 estados em lucro')\n",
    "plt.xlabel('Lucro em dólares')\n",
    "plt.show()"
   ]
  },
  {
   "cell_type": "markdown",
   "id": "1ffc82d0-b98e-48d5-be92-da18a7910598",
   "metadata": {},
   "source": [
    "**Piores estados em lucro:**"
   ]
  },
  {
   "cell_type": "code",
   "execution_count": 95,
   "id": "d595313a-f784-43b3-a57a-2e5a6f21fbd4",
   "metadata": {},
   "outputs": [
    {
     "data": {
      "text/plain": [
       "State\n",
       "Florida            -227.7465\n",
       "Oregon             -942.9719\n",
       "Arizona           -2761.1100\n",
       "Tennessee         -3467.5906\n",
       "North Carolina    -4827.6923\n",
       "Colorado          -5824.9809\n",
       "Pennsylvania      -9297.7975\n",
       "Ohio              -9339.4223\n",
       "Illinois          -9554.6539\n",
       "Texas            -14078.1598\n",
       "Name: Profit, dtype: float64"
      ]
     },
     "execution_count": 95,
     "metadata": {},
     "output_type": "execute_result"
    }
   ],
   "source": [
    "data_recente.groupby('State')['Profit'].sum().sort_values(ascending=False).tail(10)"
   ]
  },
  {
   "cell_type": "code",
   "execution_count": 97,
   "id": "3b577a44-fe42-40e2-a4d8-235d63f1e6ba",
   "metadata": {},
   "outputs": [
    {
     "data": {
      "image/png": "[encoded data removed]",
      "text/plain": [
       "<Figure size 600x400 with 1 Axes>"
      ]
     },
     "metadata": {},
     "output_type": "display_data"
    }
   ],
   "source": [
    "pior_lucro=data_recente.groupby('State')['Profit'].sum().sort_values(ascending=False).tail(10)\n",
    "\n",
    "plt.figure(figsize=(6, 4))\n",
    "plt.barh(pior_lucro.index, pior_lucro.values, color='grey')\n",
    "plt.title('Piores estados em lucro')\n",
    "plt.xlabel('Lucro em dólares')\n",
    "plt.show()"
   ]
  },
  {
   "cell_type": "markdown",
   "id": "4e06e0f8-f744-4151-a122-70a7258746cc",
   "metadata": {},
   "source": [
    "**Top 10 estados em valor de vendas:**"
   ]
  },
  {
   "cell_type": "code",
   "execution_count": 98,
   "id": "c1546d2c-02dd-4452-a65e-2eb0dd6f6580",
   "metadata": {},
   "outputs": [
    {
     "data": {
      "text/plain": [
       "State\n",
       "California      277940.2560\n",
       "New York        165767.0970\n",
       "Washington       85354.1800\n",
       "Texas            85107.9102\n",
       "Pennsylvania     75754.9500\n",
       "Michigan         53253.6840\n",
       "Ohio             48012.8600\n",
       "Illinois         45385.3300\n",
       "Indiana          43978.2300\n",
       "Florida          40047.9990\n",
       "Name: Sales, dtype: float64"
      ]
     },
     "execution_count": 98,
     "metadata": {},
     "output_type": "execute_result"
    }
   ],
   "source": [
    "data_recente.groupby('State')['Sales'].sum().sort_values(ascending=False).head(10)"
   ]
  },
  {
   "cell_type": "code",
   "execution_count": 103,
   "id": "e0e378ab-ee5a-4111-b2bb-55e2dbcce8eb",
   "metadata": {},
   "outputs": [
    {
     "data": {
      "image/png": "[encoded data removed]",
      "text/plain": [
       "<Figure size 600x400 with 1 Axes>"
      ]
     },
     "metadata": {},
     "output_type": "display_data"
    }
   ],
   "source": [
    "top_ten_profit=data_recente.groupby('State')['Sales'].sum().sort_values(ascending=False).head(10).sort_values(ascending=True)\n",
    "\n",
    "plt.figure(figsize=(6,4))\n",
    "plt.barh(top_ten_profit.index, top_ten_profit.values, color='purple')\n",
    "plt.title('Top 10 estados em valor de vendas')\n",
    "plt.xlabel('Valor em dólares')\n",
    "plt.show()"
   ]
  },
  {
   "cell_type": "markdown",
   "id": "7f0fb370-7a83-4034-9818-a9c67dd0ac06",
   "metadata": {},
   "source": [
    "Uma observação importante: ainda que o Texas seja um dos locais com bom indicador referente ao valor total de vendas, ele configura como **o estado menos lucrativo**.\n",
    "Outros estados que também estão no \"Top 10 em valor de vendas\", porém dentre os menos lucrativos, são Illinois e Pennsylvania."
   ]
  },
  {
   "cell_type": "markdown",
   "id": "d10cf77a-4ab8-4c5c-902c-8d8e1d427fd7",
   "metadata": {},
   "source": [
    "Podemos usar a função `mean` para observar qual a média de descontos nesses estados e se isso apresentaria alguma relação com o lucro negativo."
   ]
  },
  {
   "cell_type": "markdown",
   "id": "f936336e-935f-46a6-9e3a-baa3bc029641",
   "metadata": {},
   "source": [
    "**Média de descontos por estado**:"
   ]
  },
  {
   "cell_type": "code",
   "execution_count": 102,
   "id": "74fb20e4-2e35-48ac-a64b-67bffacc1a46",
   "metadata": {},
   "outputs": [
    {
     "data": {
      "text/plain": [
       "State\n",
       "Illinois          0.387372\n",
       "Texas             0.364673\n",
       "Pennsylvania      0.334328\n",
       "Colorado          0.326549\n",
       "Arizona           0.324779\n",
       "Oregon            0.321538\n",
       "Ohio              0.318089\n",
       "Florida           0.297406\n",
       "Tennessee         0.291667\n",
       "North Carolina    0.283648\n",
       "Name: Discount, dtype: float64"
      ]
     },
     "execution_count": 102,
     "metadata": {},
     "output_type": "execute_result"
    }
   ],
   "source": [
    "data_recente.groupby('State')['Discount'].mean().sort_values(ascending=False).head(10)"
   ]
  },
  {
   "cell_type": "markdown",
   "id": "aaac3941-b1bc-41d2-b22a-8c4c5b3f4eb9",
   "metadata": {},
   "source": [
    "Como próximos passos, poderíamos recomendar um teste diminuindo os descontos nos estados anteriormente citados e observar quais os efeitos dessa ação no lucro. Além disso, seria possível confirmar ou rejeitar a hipótese de que as vendas nestas localidades estão ocorrendo unicamente por conta dos baixos preços."
   ]
  },
  {
   "cell_type": "markdown",
   "id": "2b8f2abf-ae56-429b-8c22-bb259b979877",
   "metadata": {},
   "source": [
    "Já os estados de Washington, California e NY são **top vendas** e **top lucro**. O investimento em campanhas de marketing nesses estados pode nos proporcionar clientes lucrativos."
   ]
  },
  {
   "cell_type": "markdown",
   "id": "33b7623f-fea8-42d8-9fb1-6c997b52b03e",
   "metadata": {},
   "source": [
    "#### Considerações "
   ]
  },
  {
   "cell_type": "markdown",
   "id": "311a5124-02a0-4c35-bea7-04ee80312547",
   "metadata": {},
   "source": [
    "Através da exploração de dados e da aplicação de métodos analíticos, é possível identificar informações-chave que contribuem diretamente para a geração de _insights_ valiosos, fundamentais para a otimização de processos e a melhoria contínua dos negócios. Ao analisar dados históricos, comportamentais e operacionais, empresas podem obter uma visão mais profunda sobre seus desafios e oportunidades, permitindo decisões mais informadas e estratégicas!"
   ]
  }
 ],
 "metadata": {
  "kernelspec": {
   "display_name": "Python 3 (ipykernel)",
   "language": "python",
   "name": "python3"
  },
  "language_info": {
   "codemirror_mode": {
    "name": "ipython",
    "version": 3
   },
   "file_extension": ".py",
   "mimetype": "text/x-python",
   "name": "python",
   "nbconvert_exporter": "python",
   "pygments_lexer": "ipython3",
   "version": "3.11.7"
  }
 },
 "nbformat": 4,
 "nbformat_minor": 5
}
